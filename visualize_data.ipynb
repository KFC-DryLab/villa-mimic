{
 "cells": [
  {
   "cell_type": "code",
   "execution_count": 1,
   "metadata": {},
   "outputs": [
    {
     "name": "stderr",
     "output_type": "stream",
     "text": [
      "c:\\Users\\DryLab\\anaconda3\\envs\\ViLLA\\lib\\site-packages\\tqdm\\auto.py:21: TqdmWarning: IProgress not found. Please update jupyter and ipywidgets. See https://ipywidgets.readthedocs.io/en/stable/user_install.html\n",
      "  from .autonotebook import tqdm as notebook_tqdm\n"
     ]
    }
   ],
   "source": [
    "import copy\n",
    "import shutil\n",
    "from pathlib import Path\n",
    "\n",
    "import clip\n",
    "import cv2\n",
    "import matplotlib.pyplot as plt\n",
    "import numpy as np\n",
    "import pandas as pd\n",
    "import sparse\n",
    "import torch\n",
    "import torch.nn.functional as F\n",
    "from medclip import MedCLIPModel, MedCLIPVisionModel\n",
    "from PIL import Image, ImageOps\n",
    "from pydicom import dcmread\n",
    "from rich import print\n",
    "from sklearn.metrics.pairwise import cosine_similarity\n",
    "from torchvision.ops import roi_align\n",
    "from tqdm.auto import tqdm"
   ]
  },
  {
   "cell_type": "markdown",
   "metadata": {},
   "source": [
    "### Visualize Sample Data\n"
   ]
  },
  {
   "cell_type": "code",
   "execution_count": 2,
   "metadata": {},
   "outputs": [],
   "source": [
    "DATA_DIR = \"C:/Users/DryLab/Desktop/villa/data/docmnist_300000_29.5\"\n",
    "IMAGE_ID = 0"
   ]
  },
  {
   "cell_type": "code",
   "execution_count": 3,
   "metadata": {},
   "outputs": [
    {
     "data": {
      "text/html": [
       "<pre style=\"white-space:pre;overflow-x:auto;line-height:normal;font-family:Menlo,'DejaVu Sans Mono',consolas,'Courier New',monospace\"><span style=\"font-weight: bold\">(</span><span style=\"color: #008080; text-decoration-color: #008080; font-weight: bold\">3</span>, <span style=\"color: #008080; text-decoration-color: #008080; font-weight: bold\">84</span>, <span style=\"color: #008080; text-decoration-color: #008080; font-weight: bold\">84</span><span style=\"font-weight: bold\">)</span>\n",
       "</pre>\n"
      ],
      "text/plain": [
       "\u001b[1m(\u001b[0m\u001b[1;36m3\u001b[0m, \u001b[1;36m84\u001b[0m, \u001b[1;36m84\u001b[0m\u001b[1m)\u001b[0m\n"
      ]
     },
     "metadata": {},
     "output_type": "display_data"
    },
    {
     "data": {
      "text/html": [
       "<pre style=\"white-space:pre;overflow-x:auto;line-height:normal;font-family:Menlo,'DejaVu Sans Mono',consolas,'Courier New',monospace\">IMAGE:\n",
       "</pre>\n"
      ],
      "text/plain": [
       "IMAGE:\n"
      ]
     },
     "metadata": {},
     "output_type": "display_data"
    },
    {
     "data": {
      "image/png": "[encoded data removed]",
      "text/plain": [
       "<Figure size 640x480 with 1 Axes>"
      ]
     },
     "metadata": {},
     "output_type": "display_data"
    },
    {
     "data": {
      "text/html": [
       "<pre style=\"white-space:pre;overflow-x:auto;line-height:normal;font-family:Menlo,'DejaVu Sans Mono',consolas,'Courier New',monospace\">TEXT: the shape size is large . the shape is large . the shape appears to be a circle . the number is a three . \n",
       "there is a red image . the size of the shape is large . there is a rectangle . there is an image showing a seven . \n",
       "the shape size is medium . the digit appears to be blue . there is an image showing a nine . the number is a zero .\n",
       "there is an image showing a three . the image has a rectangle . the image shows a zero . the image is red . the \n",
       "shape appears to be a rectangle . the digit appears to be green . the digit appears to be red . the number is a two\n",
       ". the image has a circle . the image shows a four . the image is yellow . there is a circle . the image shows a \n",
       "nine . the shape is medium\n",
       "</pre>\n"
      ],
      "text/plain": [
       "TEXT: the shape size is large . the shape is large . the shape appears to be a circle . the number is a three . \n",
       "there is a red image . the size of the shape is large . there is a rectangle . there is an image showing a seven . \n",
       "the shape size is medium . the digit appears to be blue . there is an image showing a nine . the number is a zero .\n",
       "there is an image showing a three . the image has a rectangle . the image shows a zero . the image is red . the \n",
       "shape appears to be a rectangle . the digit appears to be green . the digit appears to be red . the number is a two\n",
       ". the image has a circle . the image shows a four . the image is yellow . there is a circle . the image shows a \n",
       "nine . the shape is medium\n"
      ]
     },
     "metadata": {},
     "output_type": "display_data"
    },
    {
     "data": {
      "text/html": [
       "<pre style=\"white-space:pre;overflow-x:auto;line-height:normal;font-family:Menlo,'DejaVu Sans Mono',consolas,'Courier New',monospace\">REGION-ATTRIBUTE PAIRS:\n",
       "</pre>\n"
      ],
      "text/plain": [
       "REGION-ATTRIBUTE PAIRS:\n"
      ]
     },
     "metadata": {},
     "output_type": "display_data"
    },
    {
     "data": {
      "text/html": [
       "<pre style=\"white-space:pre;overflow-x:auto;line-height:normal;font-family:Menlo,'DejaVu Sans Mono',consolas,'Courier New',monospace\">        REGION <span style=\"color: #008080; text-decoration-color: #008080; font-weight: bold\">1</span>: <span style=\"font-weight: bold\">[</span><span style=\"color: #008000; text-decoration-color: #008000\">'nine'</span> <span style=\"color: #008000; text-decoration-color: #008000\">'red'</span> <span style=\"color: #008000; text-decoration-color: #008000\">'rectangle'</span> <span style=\"color: #008000; text-decoration-color: #008000\">'large'</span><span style=\"font-weight: bold\">]</span>\n",
       "</pre>\n"
      ],
      "text/plain": [
       "        REGION \u001b[1;36m1\u001b[0m: \u001b[1m[\u001b[0m\u001b[32m'nine'\u001b[0m \u001b[32m'red'\u001b[0m \u001b[32m'rectangle'\u001b[0m \u001b[32m'large'\u001b[0m\u001b[1m]\u001b[0m\n"
      ]
     },
     "metadata": {},
     "output_type": "display_data"
    },
    {
     "data": {
      "text/html": [
       "<pre style=\"white-space:pre;overflow-x:auto;line-height:normal;font-family:Menlo,'DejaVu Sans Mono',consolas,'Courier New',monospace\">        REGION <span style=\"color: #008080; text-decoration-color: #008080; font-weight: bold\">2</span>: <span style=\"font-weight: bold\">[</span><span style=\"color: #008000; text-decoration-color: #008000\">'two'</span> <span style=\"color: #008000; text-decoration-color: #008000\">'green'</span> <span style=\"color: #008000; text-decoration-color: #008000\">'circle'</span> <span style=\"color: #008000; text-decoration-color: #008000\">'large'</span><span style=\"font-weight: bold\">]</span>\n",
       "</pre>\n"
      ],
      "text/plain": [
       "        REGION \u001b[1;36m2\u001b[0m: \u001b[1m[\u001b[0m\u001b[32m'two'\u001b[0m \u001b[32m'green'\u001b[0m \u001b[32m'circle'\u001b[0m \u001b[32m'large'\u001b[0m\u001b[1m]\u001b[0m\n"
      ]
     },
     "metadata": {},
     "output_type": "display_data"
    },
    {
     "data": {
      "text/html": [
       "<pre style=\"white-space:pre;overflow-x:auto;line-height:normal;font-family:Menlo,'DejaVu Sans Mono',consolas,'Courier New',monospace\">        REGION <span style=\"color: #008080; text-decoration-color: #008080; font-weight: bold\">3</span>: <span style=\"font-weight: bold\">[</span><span style=\"color: #008000; text-decoration-color: #008000\">'four'</span> <span style=\"color: #008000; text-decoration-color: #008000\">'red'</span> <span style=\"color: #008000; text-decoration-color: #008000\">'circle'</span> <span style=\"color: #008000; text-decoration-color: #008000\">'large'</span><span style=\"font-weight: bold\">]</span>\n",
       "</pre>\n"
      ],
      "text/plain": [
       "        REGION \u001b[1;36m3\u001b[0m: \u001b[1m[\u001b[0m\u001b[32m'four'\u001b[0m \u001b[32m'red'\u001b[0m \u001b[32m'circle'\u001b[0m \u001b[32m'large'\u001b[0m\u001b[1m]\u001b[0m\n"
      ]
     },
     "metadata": {},
     "output_type": "display_data"
    },
    {
     "data": {
      "text/html": [
       "<pre style=\"white-space:pre;overflow-x:auto;line-height:normal;font-family:Menlo,'DejaVu Sans Mono',consolas,'Courier New',monospace\">        REGION <span style=\"color: #008080; text-decoration-color: #008080; font-weight: bold\">4</span>: <span style=\"font-weight: bold\">[</span><span style=\"color: #008000; text-decoration-color: #008000\">'zero'</span> <span style=\"color: #008000; text-decoration-color: #008000\">'red'</span> <span style=\"color: #008000; text-decoration-color: #008000\">'circle'</span> <span style=\"color: #008000; text-decoration-color: #008000\">'medium'</span><span style=\"font-weight: bold\">]</span>\n",
       "</pre>\n"
      ],
      "text/plain": [
       "        REGION \u001b[1;36m4\u001b[0m: \u001b[1m[\u001b[0m\u001b[32m'zero'\u001b[0m \u001b[32m'red'\u001b[0m \u001b[32m'circle'\u001b[0m \u001b[32m'medium'\u001b[0m\u001b[1m]\u001b[0m\n"
      ]
     },
     "metadata": {},
     "output_type": "display_data"
    },
    {
     "data": {
      "text/html": [
       "<pre style=\"white-space:pre;overflow-x:auto;line-height:normal;font-family:Menlo,'DejaVu Sans Mono',consolas,'Courier New',monospace\">        REGION <span style=\"color: #008080; text-decoration-color: #008080; font-weight: bold\">5</span>: <span style=\"font-weight: bold\">[</span><span style=\"color: #008000; text-decoration-color: #008000\">'zero'</span> <span style=\"color: #008000; text-decoration-color: #008000\">'blue'</span> <span style=\"color: #008000; text-decoration-color: #008000\">'rectangle'</span> <span style=\"color: #008000; text-decoration-color: #008000\">'medium'</span><span style=\"font-weight: bold\">]</span>\n",
       "</pre>\n"
      ],
      "text/plain": [
       "        REGION \u001b[1;36m5\u001b[0m: \u001b[1m[\u001b[0m\u001b[32m'zero'\u001b[0m \u001b[32m'blue'\u001b[0m \u001b[32m'rectangle'\u001b[0m \u001b[32m'medium'\u001b[0m\u001b[1m]\u001b[0m\n"
      ]
     },
     "metadata": {},
     "output_type": "display_data"
    },
    {
     "data": {
      "text/html": [
       "<pre style=\"white-space:pre;overflow-x:auto;line-height:normal;font-family:Menlo,'DejaVu Sans Mono',consolas,'Courier New',monospace\">        REGION <span style=\"color: #008080; text-decoration-color: #008080; font-weight: bold\">6</span>: <span style=\"font-weight: bold\">[</span><span style=\"color: #008000; text-decoration-color: #008000\">'nine'</span> <span style=\"color: #008000; text-decoration-color: #008000\">'blue'</span><span style=\"font-weight: bold\">]</span>\n",
       "</pre>\n"
      ],
      "text/plain": [
       "        REGION \u001b[1;36m6\u001b[0m: \u001b[1m[\u001b[0m\u001b[32m'nine'\u001b[0m \u001b[32m'blue'\u001b[0m\u001b[1m]\u001b[0m\n"
      ]
     },
     "metadata": {},
     "output_type": "display_data"
    },
    {
     "data": {
      "text/html": [
       "<pre style=\"white-space:pre;overflow-x:auto;line-height:normal;font-family:Menlo,'DejaVu Sans Mono',consolas,'Courier New',monospace\">        REGION <span style=\"color: #008080; text-decoration-color: #008080; font-weight: bold\">7</span>: <span style=\"font-weight: bold\">[</span><span style=\"color: #008000; text-decoration-color: #008000\">'three'</span> <span style=\"color: #008000; text-decoration-color: #008000\">'yellow'</span><span style=\"font-weight: bold\">]</span>\n",
       "</pre>\n"
      ],
      "text/plain": [
       "        REGION \u001b[1;36m7\u001b[0m: \u001b[1m[\u001b[0m\u001b[32m'three'\u001b[0m \u001b[32m'yellow'\u001b[0m\u001b[1m]\u001b[0m\n"
      ]
     },
     "metadata": {},
     "output_type": "display_data"
    },
    {
     "data": {
      "text/html": [
       "<pre style=\"white-space:pre;overflow-x:auto;line-height:normal;font-family:Menlo,'DejaVu Sans Mono',consolas,'Courier New',monospace\">        REGION <span style=\"color: #008080; text-decoration-color: #008080; font-weight: bold\">8</span>: <span style=\"font-weight: bold\">[</span><span style=\"color: #008000; text-decoration-color: #008000\">'three'</span> <span style=\"color: #008000; text-decoration-color: #008000\">'blue'</span><span style=\"font-weight: bold\">]</span>\n",
       "</pre>\n"
      ],
      "text/plain": [
       "        REGION \u001b[1;36m8\u001b[0m: \u001b[1m[\u001b[0m\u001b[32m'three'\u001b[0m \u001b[32m'blue'\u001b[0m\u001b[1m]\u001b[0m\n"
      ]
     },
     "metadata": {},
     "output_type": "display_data"
    },
    {
     "data": {
      "text/html": [
       "<pre style=\"white-space:pre;overflow-x:auto;line-height:normal;font-family:Menlo,'DejaVu Sans Mono',consolas,'Courier New',monospace\">        REGION <span style=\"color: #008080; text-decoration-color: #008080; font-weight: bold\">9</span>: <span style=\"font-weight: bold\">[</span><span style=\"color: #008000; text-decoration-color: #008000\">'seven'</span> <span style=\"color: #008000; text-decoration-color: #008000\">'yellow'</span> <span style=\"color: #008000; text-decoration-color: #008000\">'rectangle'</span> <span style=\"color: #008000; text-decoration-color: #008000\">'medium'</span><span style=\"font-weight: bold\">]</span>\n",
       "</pre>\n"
      ],
      "text/plain": [
       "        REGION \u001b[1;36m9\u001b[0m: \u001b[1m[\u001b[0m\u001b[32m'seven'\u001b[0m \u001b[32m'yellow'\u001b[0m \u001b[32m'rectangle'\u001b[0m \u001b[32m'medium'\u001b[0m\u001b[1m]\u001b[0m\n"
      ]
     },
     "metadata": {},
     "output_type": "display_data"
    }
   ],
   "source": [
    "# Load image and annotations\n",
    "img = sparse.load_npz(f\"{DATA_DIR}/images/{IMAGE_ID}.npz\").todense() / 255\n",
    "print(img.shape)\n",
    "df = pd.read_feather(f\"{DATA_DIR}/annotations.feather\")\n",
    "row = df[df[\"image_id\"] == IMAGE_ID]\n",
    "\n",
    "# Print image\n",
    "print(\"IMAGE:\")\n",
    "plt.imshow(np.transpose(img, (1, 2, 0)))\n",
    "plt.axis(False)\n",
    "plt.show()\n",
    "\n",
    "# Print text\n",
    "caption = row[\"text\"].values[0]\n",
    "print(\"TEXT:\", caption)\n",
    "\n",
    "# Print region-attribute pairs\n",
    "print(\"REGION-ATTRIBUTE PAIRS:\")\n",
    "mappings = row[\"reg_to_attr\"].values[0]\n",
    "for i in range(len(mappings)):\n",
    "    print(f\"\\tREGION {i+1}:\", mappings[i])"
   ]
  },
  {
   "cell_type": "code",
   "execution_count": 13,
   "metadata": {},
   "outputs": [],
   "source": [
    "DATA_DIR = \"C:/Users/DryLab/Desktop/villa/data/docmnist_300000_29.5\"\n",
    "df = pd.read_feather(f\"{DATA_DIR}/annotations.feather\")"
   ]
  },
  {
   "cell_type": "code",
   "execution_count": 14,
   "metadata": {},
   "outputs": [
    {
     "data": {
      "text/html": [
       "<div>\n",
       "<style scoped>\n",
       "    .dataframe tbody tr th:only-of-type {\n",
       "        vertical-align: middle;\n",
       "    }\n",
       "\n",
       "    .dataframe tbody tr th {\n",
       "        vertical-align: top;\n",
       "    }\n",
       "\n",
       "    .dataframe thead th {\n",
       "        text-align: right;\n",
       "    }\n",
       "</style>\n",
       "<table border=\"1\" class=\"dataframe\">\n",
       "  <thead>\n",
       "    <tr style=\"text-align: right;\">\n",
       "      <th></th>\n",
       "      <th>image_id</th>\n",
       "      <th>image_size</th>\n",
       "      <th>image_filepath</th>\n",
       "      <th>region_coord</th>\n",
       "      <th>num_regions</th>\n",
       "      <th>split</th>\n",
       "      <th>text</th>\n",
       "      <th>digit_label</th>\n",
       "      <th>color_label</th>\n",
       "      <th>shape_label</th>\n",
       "      <th>size_label</th>\n",
       "      <th>reg_to_attr</th>\n",
       "      <th>attributes</th>\n",
       "    </tr>\n",
       "  </thead>\n",
       "  <tbody>\n",
       "    <tr>\n",
       "      <th>0</th>\n",
       "      <td>0</td>\n",
       "      <td>[84, 84]</td>\n",
       "      <td>C:\\Users\\DryLab\\Desktop\\ViLLA\\data\\docmnist_30...</td>\n",
       "      <td>[[0, 0, 28, 28], [28, 0, 56, 28], [56, 0, 84, ...</td>\n",
       "      <td>9</td>\n",
       "      <td>train</td>\n",
       "      <td>the shape size is large . the shape is large ....</td>\n",
       "      <td>[nine, two, four, zero, zero, nine, three, thr...</td>\n",
       "      <td>[red, green, red, red, blue, blue, yellow, blu...</td>\n",
       "      <td>[rectangle, circle, circle, circle, rectangle,...</td>\n",
       "      <td>[large, large, large, medium, medium, None, No...</td>\n",
       "      <td>[[nine, red, rectangle, large], [two, green, c...</td>\n",
       "      <td>[red, seven, yellow, circle, green, blue, larg...</td>\n",
       "    </tr>\n",
       "    <tr>\n",
       "      <th>1</th>\n",
       "      <td>1</td>\n",
       "      <td>[84, 84]</td>\n",
       "      <td>C:\\Users\\DryLab\\Desktop\\ViLLA\\data\\docmnist_30...</td>\n",
       "      <td>[[0, 0, 28, 28], [28, 0, 56, 28], [56, 0, 84, ...</td>\n",
       "      <td>9</td>\n",
       "      <td>train</td>\n",
       "      <td>there is an image showing a four . there is a ...</td>\n",
       "      <td>[six, zero, four, zero, one, eight, four, nine...</td>\n",
       "      <td>[purple, green, purple, yellow, green, blue, p...</td>\n",
       "      <td>[None, circle, circle, rectangle, None, circle...</td>\n",
       "      <td>[None, small, medium, large, None, medium, Non...</td>\n",
       "      <td>[[six, purple], [zero, green, circle, small], ...</td>\n",
       "      <td>[six, yellow, circle, small, one, green, blue,...</td>\n",
       "    </tr>\n",
       "    <tr>\n",
       "      <th>2</th>\n",
       "      <td>2</td>\n",
       "      <td>[84, 84]</td>\n",
       "      <td>C:\\Users\\DryLab\\Desktop\\ViLLA\\data\\docmnist_30...</td>\n",
       "      <td>[[0, 0, 28, 28], [28, 0, 56, 28], [56, 0, 84, ...</td>\n",
       "      <td>8</td>\n",
       "      <td>train</td>\n",
       "      <td>the digit appears to be one . there is an imag...</td>\n",
       "      <td>[zero, seven, five, nine, one, seven, one, six]</td>\n",
       "      <td>[green, yellow, yellow, green, red, red, yello...</td>\n",
       "      <td>[None, rectangle, rectangle, circle, circle, c...</td>\n",
       "      <td>[None, medium, large, small, medium, medium, m...</td>\n",
       "      <td>[[zero, green], [seven, yellow, rectangle, med...</td>\n",
       "      <td>[red, seven, yellow, six, circle, small, one, ...</td>\n",
       "    </tr>\n",
       "    <tr>\n",
       "      <th>3</th>\n",
       "      <td>3</td>\n",
       "      <td>[84, 84]</td>\n",
       "      <td>C:\\Users\\DryLab\\Desktop\\ViLLA\\data\\docmnist_30...</td>\n",
       "      <td>[[0, 0, 28, 28], [28, 0, 56, 28], [56, 0, 84, ...</td>\n",
       "      <td>9</td>\n",
       "      <td>train</td>\n",
       "      <td>there is a red image . the number is a one . t...</td>\n",
       "      <td>[six, zero, two, eight, five, two, one, eight,...</td>\n",
       "      <td>[purple, purple, yellow, red, purple, red, pur...</td>\n",
       "      <td>[rectangle, circle, None, rectangle, rectangle...</td>\n",
       "      <td>[small, large, None, large, small, None, None,...</td>\n",
       "      <td>[[six, purple, rectangle, small], [zero, purpl...</td>\n",
       "      <td>[red, six, yellow, small, circle, one, blue, g...</td>\n",
       "    </tr>\n",
       "    <tr>\n",
       "      <th>4</th>\n",
       "      <td>4</td>\n",
       "      <td>[84, 84]</td>\n",
       "      <td>C:\\Users\\DryLab\\Desktop\\ViLLA\\data\\docmnist_30...</td>\n",
       "      <td>[[0, 0, 28, 28], [28, 0, 56, 28], [56, 0, 84, ...</td>\n",
       "      <td>9</td>\n",
       "      <td>train</td>\n",
       "      <td>the number is a zero . the image is yellow . t...</td>\n",
       "      <td>[one, seven, three, six, five, seven, seven, n...</td>\n",
       "      <td>[yellow, yellow, blue, purple, red, yellow, gr...</td>\n",
       "      <td>[None, rectangle, circle, circle, None, rectan...</td>\n",
       "      <td>[None, large, small, large, None, small, large...</td>\n",
       "      <td>[[one, yellow], [seven, yellow, rectangle, lar...</td>\n",
       "      <td>[red, seven, yellow, six, circle, one, small, ...</td>\n",
       "    </tr>\n",
       "    <tr>\n",
       "      <th>...</th>\n",
       "      <td>...</td>\n",
       "      <td>...</td>\n",
       "      <td>...</td>\n",
       "      <td>...</td>\n",
       "      <td>...</td>\n",
       "      <td>...</td>\n",
       "      <td>...</td>\n",
       "      <td>...</td>\n",
       "      <td>...</td>\n",
       "      <td>...</td>\n",
       "      <td>...</td>\n",
       "      <td>...</td>\n",
       "      <td>...</td>\n",
       "    </tr>\n",
       "    <tr>\n",
       "      <th>10513</th>\n",
       "      <td>10513</td>\n",
       "      <td>[84, 84]</td>\n",
       "      <td>C:\\Users\\DryLab\\Desktop\\ViLLA\\data\\docmnist_30...</td>\n",
       "      <td>[[0, 0, 28, 28], [28, 0, 56, 28], [56, 0, 84, ...</td>\n",
       "      <td>8</td>\n",
       "      <td>val</td>\n",
       "      <td>there is a purple image . the size of the shap...</td>\n",
       "      <td>[nine, eight, eight, four, nine, four, four, s...</td>\n",
       "      <td>[yellow, green, blue, yellow, blue, purple, bl...</td>\n",
       "      <td>[circle, circle, rectangle, None, circle, circ...</td>\n",
       "      <td>[large, large, medium, None, medium, large, me...</td>\n",
       "      <td>[[nine, yellow, circle, large], [eight, green,...</td>\n",
       "      <td>[purple, seven, yellow, circle, green, blue, l...</td>\n",
       "    </tr>\n",
       "    <tr>\n",
       "      <th>10514</th>\n",
       "      <td>10514</td>\n",
       "      <td>[84, 84]</td>\n",
       "      <td>C:\\Users\\DryLab\\Desktop\\ViLLA\\data\\docmnist_30...</td>\n",
       "      <td>[[0, 0, 28, 28], [28, 0, 56, 28], [56, 0, 84, ...</td>\n",
       "      <td>8</td>\n",
       "      <td>val</td>\n",
       "      <td>the image has a circle . the image shows a fiv...</td>\n",
       "      <td>[three, four, three, five, eight, two, six, one]</td>\n",
       "      <td>[purple, blue, green, red, yellow, green, purp...</td>\n",
       "      <td>[rectangle, rectangle, circle, circle, None, r...</td>\n",
       "      <td>[small, medium, medium, large, None, medium, s...</td>\n",
       "      <td>[[three, purple, rectangle, small], [four, blu...</td>\n",
       "      <td>[red, six, yellow, small, circle, one, blue, g...</td>\n",
       "    </tr>\n",
       "    <tr>\n",
       "      <th>10515</th>\n",
       "      <td>10515</td>\n",
       "      <td>[84, 84]</td>\n",
       "      <td>C:\\Users\\DryLab\\Desktop\\ViLLA\\data\\docmnist_30...</td>\n",
       "      <td>[[0, 0, 28, 28], [28, 0, 56, 28], [56, 0, 84, ...</td>\n",
       "      <td>8</td>\n",
       "      <td>val</td>\n",
       "      <td>the size of the shape is medium . there is a c...</td>\n",
       "      <td>[one, eight, zero, zero, four, five, two, one]</td>\n",
       "      <td>[yellow, green, purple, purple, purple, blue, ...</td>\n",
       "      <td>[rectangle, rectangle, rectangle, None, circle...</td>\n",
       "      <td>[medium, large, small, None, large, medium, la...</td>\n",
       "      <td>[[one, yellow, rectangle, medium], [eight, gre...</td>\n",
       "      <td>[purple, yellow, small, one, circle, green, bl...</td>\n",
       "    </tr>\n",
       "    <tr>\n",
       "      <th>10516</th>\n",
       "      <td>10516</td>\n",
       "      <td>[84, 84]</td>\n",
       "      <td>C:\\Users\\DryLab\\Desktop\\ViLLA\\data\\docmnist_30...</td>\n",
       "      <td>[[0, 0, 28, 28], [28, 0, 56, 28], [56, 0, 84, ...</td>\n",
       "      <td>9</td>\n",
       "      <td>val</td>\n",
       "      <td>the image is purple . there is a circle . the ...</td>\n",
       "      <td>[four, eight, three, nine, one, one, zero, nin...</td>\n",
       "      <td>[yellow, purple, yellow, yellow, blue, green, ...</td>\n",
       "      <td>[None, circle, None, circle, rectangle, circle...</td>\n",
       "      <td>[None, small, None, small, large, small, None,...</td>\n",
       "      <td>[[four, yellow], [eight, purple, circle, small...</td>\n",
       "      <td>[purple, yellow, medium, circle, small, one, b...</td>\n",
       "    </tr>\n",
       "    <tr>\n",
       "      <th>10517</th>\n",
       "      <td>10517</td>\n",
       "      <td>[84, 84]</td>\n",
       "      <td>C:\\Users\\DryLab\\Desktop\\ViLLA\\data\\docmnist_30...</td>\n",
       "      <td>[[0, 0, 28, 28], [28, 0, 56, 28], [56, 0, 84, ...</td>\n",
       "      <td>9</td>\n",
       "      <td>val</td>\n",
       "      <td>the image shows a seven . the shape size is sm...</td>\n",
       "      <td>[seven, one, seven, nine, seven, eight, six, s...</td>\n",
       "      <td>[yellow, green, blue, green, red, yellow, gree...</td>\n",
       "      <td>[None, rectangle, circle, None, circle, None, ...</td>\n",
       "      <td>[None, small, small, None, medium, None, large...</td>\n",
       "      <td>[[seven, yellow], [one, green, rectangle, smal...</td>\n",
       "      <td>[red, seven, yellow, six, small, one, circle, ...</td>\n",
       "    </tr>\n",
       "  </tbody>\n",
       "</table>\n",
       "<p>10518 rows × 13 columns</p>\n",
       "</div>"
      ],
      "text/plain": [
       "       image_id image_size                                     image_filepath  \\\n",
       "0             0   [84, 84]  C:\\Users\\DryLab\\Desktop\\ViLLA\\data\\docmnist_30...   \n",
       "1             1   [84, 84]  C:\\Users\\DryLab\\Desktop\\ViLLA\\data\\docmnist_30...   \n",
       "2             2   [84, 84]  C:\\Users\\DryLab\\Desktop\\ViLLA\\data\\docmnist_30...   \n",
       "3             3   [84, 84]  C:\\Users\\DryLab\\Desktop\\ViLLA\\data\\docmnist_30...   \n",
       "4             4   [84, 84]  C:\\Users\\DryLab\\Desktop\\ViLLA\\data\\docmnist_30...   \n",
       "...         ...        ...                                                ...   \n",
       "10513     10513   [84, 84]  C:\\Users\\DryLab\\Desktop\\ViLLA\\data\\docmnist_30...   \n",
       "10514     10514   [84, 84]  C:\\Users\\DryLab\\Desktop\\ViLLA\\data\\docmnist_30...   \n",
       "10515     10515   [84, 84]  C:\\Users\\DryLab\\Desktop\\ViLLA\\data\\docmnist_30...   \n",
       "10516     10516   [84, 84]  C:\\Users\\DryLab\\Desktop\\ViLLA\\data\\docmnist_30...   \n",
       "10517     10517   [84, 84]  C:\\Users\\DryLab\\Desktop\\ViLLA\\data\\docmnist_30...   \n",
       "\n",
       "                                            region_coord  num_regions  split  \\\n",
       "0      [[0, 0, 28, 28], [28, 0, 56, 28], [56, 0, 84, ...            9  train   \n",
       "1      [[0, 0, 28, 28], [28, 0, 56, 28], [56, 0, 84, ...            9  train   \n",
       "2      [[0, 0, 28, 28], [28, 0, 56, 28], [56, 0, 84, ...            8  train   \n",
       "3      [[0, 0, 28, 28], [28, 0, 56, 28], [56, 0, 84, ...            9  train   \n",
       "4      [[0, 0, 28, 28], [28, 0, 56, 28], [56, 0, 84, ...            9  train   \n",
       "...                                                  ...          ...    ...   \n",
       "10513  [[0, 0, 28, 28], [28, 0, 56, 28], [56, 0, 84, ...            8    val   \n",
       "10514  [[0, 0, 28, 28], [28, 0, 56, 28], [56, 0, 84, ...            8    val   \n",
       "10515  [[0, 0, 28, 28], [28, 0, 56, 28], [56, 0, 84, ...            8    val   \n",
       "10516  [[0, 0, 28, 28], [28, 0, 56, 28], [56, 0, 84, ...            9    val   \n",
       "10517  [[0, 0, 28, 28], [28, 0, 56, 28], [56, 0, 84, ...            9    val   \n",
       "\n",
       "                                                    text  \\\n",
       "0      the shape size is large . the shape is large ....   \n",
       "1      there is an image showing a four . there is a ...   \n",
       "2      the digit appears to be one . there is an imag...   \n",
       "3      there is a red image . the number is a one . t...   \n",
       "4      the number is a zero . the image is yellow . t...   \n",
       "...                                                  ...   \n",
       "10513  there is a purple image . the size of the shap...   \n",
       "10514  the image has a circle . the image shows a fiv...   \n",
       "10515  the size of the shape is medium . there is a c...   \n",
       "10516  the image is purple . there is a circle . the ...   \n",
       "10517  the image shows a seven . the shape size is sm...   \n",
       "\n",
       "                                             digit_label  \\\n",
       "0      [nine, two, four, zero, zero, nine, three, thr...   \n",
       "1      [six, zero, four, zero, one, eight, four, nine...   \n",
       "2        [zero, seven, five, nine, one, seven, one, six]   \n",
       "3      [six, zero, two, eight, five, two, one, eight,...   \n",
       "4      [one, seven, three, six, five, seven, seven, n...   \n",
       "...                                                  ...   \n",
       "10513  [nine, eight, eight, four, nine, four, four, s...   \n",
       "10514   [three, four, three, five, eight, two, six, one]   \n",
       "10515     [one, eight, zero, zero, four, five, two, one]   \n",
       "10516  [four, eight, three, nine, one, one, zero, nin...   \n",
       "10517  [seven, one, seven, nine, seven, eight, six, s...   \n",
       "\n",
       "                                             color_label  \\\n",
       "0      [red, green, red, red, blue, blue, yellow, blu...   \n",
       "1      [purple, green, purple, yellow, green, blue, p...   \n",
       "2      [green, yellow, yellow, green, red, red, yello...   \n",
       "3      [purple, purple, yellow, red, purple, red, pur...   \n",
       "4      [yellow, yellow, blue, purple, red, yellow, gr...   \n",
       "...                                                  ...   \n",
       "10513  [yellow, green, blue, yellow, blue, purple, bl...   \n",
       "10514  [purple, blue, green, red, yellow, green, purp...   \n",
       "10515  [yellow, green, purple, purple, purple, blue, ...   \n",
       "10516  [yellow, purple, yellow, yellow, blue, green, ...   \n",
       "10517  [yellow, green, blue, green, red, yellow, gree...   \n",
       "\n",
       "                                             shape_label  \\\n",
       "0      [rectangle, circle, circle, circle, rectangle,...   \n",
       "1      [None, circle, circle, rectangle, None, circle...   \n",
       "2      [None, rectangle, rectangle, circle, circle, c...   \n",
       "3      [rectangle, circle, None, rectangle, rectangle...   \n",
       "4      [None, rectangle, circle, circle, None, rectan...   \n",
       "...                                                  ...   \n",
       "10513  [circle, circle, rectangle, None, circle, circ...   \n",
       "10514  [rectangle, rectangle, circle, circle, None, r...   \n",
       "10515  [rectangle, rectangle, rectangle, None, circle...   \n",
       "10516  [None, circle, None, circle, rectangle, circle...   \n",
       "10517  [None, rectangle, circle, None, circle, None, ...   \n",
       "\n",
       "                                              size_label  \\\n",
       "0      [large, large, large, medium, medium, None, No...   \n",
       "1      [None, small, medium, large, None, medium, Non...   \n",
       "2      [None, medium, large, small, medium, medium, m...   \n",
       "3      [small, large, None, large, small, None, None,...   \n",
       "4      [None, large, small, large, None, small, large...   \n",
       "...                                                  ...   \n",
       "10513  [large, large, medium, None, medium, large, me...   \n",
       "10514  [small, medium, medium, large, None, medium, s...   \n",
       "10515  [medium, large, small, None, large, medium, la...   \n",
       "10516  [None, small, None, small, large, small, None,...   \n",
       "10517  [None, small, small, None, medium, None, large...   \n",
       "\n",
       "                                             reg_to_attr  \\\n",
       "0      [[nine, red, rectangle, large], [two, green, c...   \n",
       "1      [[six, purple], [zero, green, circle, small], ...   \n",
       "2      [[zero, green], [seven, yellow, rectangle, med...   \n",
       "3      [[six, purple, rectangle, small], [zero, purpl...   \n",
       "4      [[one, yellow], [seven, yellow, rectangle, lar...   \n",
       "...                                                  ...   \n",
       "10513  [[nine, yellow, circle, large], [eight, green,...   \n",
       "10514  [[three, purple, rectangle, small], [four, blu...   \n",
       "10515  [[one, yellow, rectangle, medium], [eight, gre...   \n",
       "10516  [[four, yellow], [eight, purple, circle, small...   \n",
       "10517  [[seven, yellow], [one, green, rectangle, smal...   \n",
       "\n",
       "                                              attributes  \n",
       "0      [red, seven, yellow, circle, green, blue, larg...  \n",
       "1      [six, yellow, circle, small, one, green, blue,...  \n",
       "2      [red, seven, yellow, six, circle, small, one, ...  \n",
       "3      [red, six, yellow, small, circle, one, blue, g...  \n",
       "4      [red, seven, yellow, six, circle, one, small, ...  \n",
       "...                                                  ...  \n",
       "10513  [purple, seven, yellow, circle, green, blue, l...  \n",
       "10514  [red, six, yellow, small, circle, one, blue, g...  \n",
       "10515  [purple, yellow, small, one, circle, green, bl...  \n",
       "10516  [purple, yellow, medium, circle, small, one, b...  \n",
       "10517  [red, seven, yellow, six, small, one, circle, ...  \n",
       "\n",
       "[10518 rows x 13 columns]"
      ]
     },
     "execution_count": 14,
     "metadata": {},
     "output_type": "execute_result"
    }
   ],
   "source": [
    "df"
   ]
  },
  {
   "cell_type": "code",
   "execution_count": 6,
   "metadata": {},
   "outputs": [
    {
     "data": {
      "text/plain": [
       "0        [[nine, red, rectangle, large], [two, green, c...\n",
       "1        [[six, purple], [zero, green, circle, small], ...\n",
       "2        [[zero, green], [seven, yellow, rectangle, med...\n",
       "3        [[six, purple, rectangle, small], [zero, purpl...\n",
       "4        [[one, yellow], [seven, yellow, rectangle, lar...\n",
       "                               ...                        \n",
       "10513    [[nine, yellow, circle, large], [eight, green,...\n",
       "10514    [[three, purple, rectangle, small], [four, blu...\n",
       "10515    [[one, yellow, rectangle, medium], [eight, gre...\n",
       "10516    [[four, yellow], [eight, purple, circle, small...\n",
       "10517    [[seven, yellow], [one, green, rectangle, smal...\n",
       "Name: reg_to_attr, Length: 10518, dtype: object"
      ]
     },
     "execution_count": 6,
     "metadata": {},
     "output_type": "execute_result"
    }
   ],
   "source": [
    "df[\"reg_to_attr\"]"
   ]
  },
  {
   "cell_type": "code",
   "execution_count": 7,
   "metadata": {},
   "outputs": [
    {
     "data": {
      "text/plain": [
       "8.853489256512646"
      ]
     },
     "execution_count": 7,
     "metadata": {},
     "output_type": "execute_result"
    }
   ],
   "source": [
    "df[\"num_regions\"].mean()"
   ]
  },
  {
   "cell_type": "code",
   "execution_count": 8,
   "metadata": {},
   "outputs": [
    {
     "data": {
      "text/plain": [
       "num_regions\n",
       "9    8977\n",
       "8    1541\n",
       "Name: count, dtype: int64"
      ]
     },
     "execution_count": 8,
     "metadata": {},
     "output_type": "execute_result"
    }
   ],
   "source": [
    "df[\"num_regions\"].value_counts()"
   ]
  },
  {
   "cell_type": "code",
   "execution_count": 9,
   "metadata": {},
   "outputs": [
    {
     "data": {
      "text/plain": [
       "split\n",
       "train    10179\n",
       "val        339\n",
       "Name: count, dtype: int64"
      ]
     },
     "execution_count": 9,
     "metadata": {},
     "output_type": "execute_result"
    }
   ],
   "source": [
    "df.split.value_counts()"
   ]
  },
  {
   "cell_type": "code",
   "execution_count": 10,
   "metadata": {},
   "outputs": [
    {
     "data": {
      "text/plain": [
       "array([array([ 0,  0, 28, 28]), array([28,  0, 56, 28]),\n",
       "       array([56,  0, 84, 28]), array([ 0, 28, 28, 56]),\n",
       "       array([28, 28, 56, 56]), array([56, 28, 84, 56]),\n",
       "       array([ 0, 56, 28, 84]), array([28, 56, 56, 84]),\n",
       "       array([56, 56, 84, 84])], dtype=object)"
      ]
     },
     "execution_count": 10,
     "metadata": {},
     "output_type": "execute_result"
    }
   ],
   "source": [
    "df[\"region_coord\"].iloc[0]"
   ]
  },
  {
   "cell_type": "markdown",
   "metadata": {},
   "source": [
    "### Generate Region Embeddings on Sample Data\n"
   ]
  },
  {
   "cell_type": "code",
   "execution_count": 150,
   "metadata": {},
   "outputs": [],
   "source": [
    "model, _ = clip.load(\"RN50\", \"cuda\")"
   ]
  },
  {
   "cell_type": "code",
   "execution_count": 151,
   "metadata": {},
   "outputs": [
    {
     "data": {
      "text/plain": [
       "CLIP(\n",
       "  (visual): ModifiedResNet(\n",
       "    (conv1): Conv2d(3, 32, kernel_size=(3, 3), stride=(2, 2), padding=(1, 1), bias=False)\n",
       "    (bn1): BatchNorm2d(32, eps=1e-05, momentum=0.1, affine=True, track_running_stats=True)\n",
       "    (relu1): ReLU(inplace=True)\n",
       "    (conv2): Conv2d(32, 32, kernel_size=(3, 3), stride=(1, 1), padding=(1, 1), bias=False)\n",
       "    (bn2): BatchNorm2d(32, eps=1e-05, momentum=0.1, affine=True, track_running_stats=True)\n",
       "    (relu2): ReLU(inplace=True)\n",
       "    (conv3): Conv2d(32, 64, kernel_size=(3, 3), stride=(1, 1), padding=(1, 1), bias=False)\n",
       "    (bn3): BatchNorm2d(64, eps=1e-05, momentum=0.1, affine=True, track_running_stats=True)\n",
       "    (relu3): ReLU(inplace=True)\n",
       "    (avgpool): AvgPool2d(kernel_size=2, stride=2, padding=0)\n",
       "    (layer1): Sequential(\n",
       "      (0): Bottleneck(\n",
       "        (conv1): Conv2d(64, 64, kernel_size=(1, 1), stride=(1, 1), bias=False)\n",
       "        (bn1): BatchNorm2d(64, eps=1e-05, momentum=0.1, affine=True, track_running_stats=True)\n",
       "        (relu1): ReLU(inplace=True)\n",
       "        (conv2): Conv2d(64, 64, kernel_size=(3, 3), stride=(1, 1), padding=(1, 1), bias=False)\n",
       "        (bn2): BatchNorm2d(64, eps=1e-05, momentum=0.1, affine=True, track_running_stats=True)\n",
       "        (relu2): ReLU(inplace=True)\n",
       "        (avgpool): Identity()\n",
       "        (conv3): Conv2d(64, 256, kernel_size=(1, 1), stride=(1, 1), bias=False)\n",
       "        (bn3): BatchNorm2d(256, eps=1e-05, momentum=0.1, affine=True, track_running_stats=True)\n",
       "        (relu3): ReLU(inplace=True)\n",
       "        (downsample): Sequential(\n",
       "          (-1): AvgPool2d(kernel_size=1, stride=1, padding=0)\n",
       "          (0): Conv2d(64, 256, kernel_size=(1, 1), stride=(1, 1), bias=False)\n",
       "          (1): BatchNorm2d(256, eps=1e-05, momentum=0.1, affine=True, track_running_stats=True)\n",
       "        )\n",
       "      )\n",
       "      (1): Bottleneck(\n",
       "        (conv1): Conv2d(256, 64, kernel_size=(1, 1), stride=(1, 1), bias=False)\n",
       "        (bn1): BatchNorm2d(64, eps=1e-05, momentum=0.1, affine=True, track_running_stats=True)\n",
       "        (relu1): ReLU(inplace=True)\n",
       "        (conv2): Conv2d(64, 64, kernel_size=(3, 3), stride=(1, 1), padding=(1, 1), bias=False)\n",
       "        (bn2): BatchNorm2d(64, eps=1e-05, momentum=0.1, affine=True, track_running_stats=True)\n",
       "        (relu2): ReLU(inplace=True)\n",
       "        (avgpool): Identity()\n",
       "        (conv3): Conv2d(64, 256, kernel_size=(1, 1), stride=(1, 1), bias=False)\n",
       "        (bn3): BatchNorm2d(256, eps=1e-05, momentum=0.1, affine=True, track_running_stats=True)\n",
       "        (relu3): ReLU(inplace=True)\n",
       "      )\n",
       "      (2): Bottleneck(\n",
       "        (conv1): Conv2d(256, 64, kernel_size=(1, 1), stride=(1, 1), bias=False)\n",
       "        (bn1): BatchNorm2d(64, eps=1e-05, momentum=0.1, affine=True, track_running_stats=True)\n",
       "        (relu1): ReLU(inplace=True)\n",
       "        (conv2): Conv2d(64, 64, kernel_size=(3, 3), stride=(1, 1), padding=(1, 1), bias=False)\n",
       "        (bn2): BatchNorm2d(64, eps=1e-05, momentum=0.1, affine=True, track_running_stats=True)\n",
       "        (relu2): ReLU(inplace=True)\n",
       "        (avgpool): Identity()\n",
       "        (conv3): Conv2d(64, 256, kernel_size=(1, 1), stride=(1, 1), bias=False)\n",
       "        (bn3): BatchNorm2d(256, eps=1e-05, momentum=0.1, affine=True, track_running_stats=True)\n",
       "        (relu3): ReLU(inplace=True)\n",
       "      )\n",
       "    )\n",
       "    (layer2): Sequential(\n",
       "      (0): Bottleneck(\n",
       "        (conv1): Conv2d(256, 128, kernel_size=(1, 1), stride=(1, 1), bias=False)\n",
       "        (bn1): BatchNorm2d(128, eps=1e-05, momentum=0.1, affine=True, track_running_stats=True)\n",
       "        (relu1): ReLU(inplace=True)\n",
       "        (conv2): Conv2d(128, 128, kernel_size=(3, 3), stride=(1, 1), padding=(1, 1), bias=False)\n",
       "        (bn2): BatchNorm2d(128, eps=1e-05, momentum=0.1, affine=True, track_running_stats=True)\n",
       "        (relu2): ReLU(inplace=True)\n",
       "        (avgpool): AvgPool2d(kernel_size=2, stride=2, padding=0)\n",
       "        (conv3): Conv2d(128, 512, kernel_size=(1, 1), stride=(1, 1), bias=False)\n",
       "        (bn3): BatchNorm2d(512, eps=1e-05, momentum=0.1, affine=True, track_running_stats=True)\n",
       "        (relu3): ReLU(inplace=True)\n",
       "        (downsample): Sequential(\n",
       "          (-1): AvgPool2d(kernel_size=2, stride=2, padding=0)\n",
       "          (0): Conv2d(256, 512, kernel_size=(1, 1), stride=(1, 1), bias=False)\n",
       "          (1): BatchNorm2d(512, eps=1e-05, momentum=0.1, affine=True, track_running_stats=True)\n",
       "        )\n",
       "      )\n",
       "      (1): Bottleneck(\n",
       "        (conv1): Conv2d(512, 128, kernel_size=(1, 1), stride=(1, 1), bias=False)\n",
       "        (bn1): BatchNorm2d(128, eps=1e-05, momentum=0.1, affine=True, track_running_stats=True)\n",
       "        (relu1): ReLU(inplace=True)\n",
       "        (conv2): Conv2d(128, 128, kernel_size=(3, 3), stride=(1, 1), padding=(1, 1), bias=False)\n",
       "        (bn2): BatchNorm2d(128, eps=1e-05, momentum=0.1, affine=True, track_running_stats=True)\n",
       "        (relu2): ReLU(inplace=True)\n",
       "        (avgpool): Identity()\n",
       "        (conv3): Conv2d(128, 512, kernel_size=(1, 1), stride=(1, 1), bias=False)\n",
       "        (bn3): BatchNorm2d(512, eps=1e-05, momentum=0.1, affine=True, track_running_stats=True)\n",
       "        (relu3): ReLU(inplace=True)\n",
       "      )\n",
       "      (2): Bottleneck(\n",
       "        (conv1): Conv2d(512, 128, kernel_size=(1, 1), stride=(1, 1), bias=False)\n",
       "        (bn1): BatchNorm2d(128, eps=1e-05, momentum=0.1, affine=True, track_running_stats=True)\n",
       "        (relu1): ReLU(inplace=True)\n",
       "        (conv2): Conv2d(128, 128, kernel_size=(3, 3), stride=(1, 1), padding=(1, 1), bias=False)\n",
       "        (bn2): BatchNorm2d(128, eps=1e-05, momentum=0.1, affine=True, track_running_stats=True)\n",
       "        (relu2): ReLU(inplace=True)\n",
       "        (avgpool): Identity()\n",
       "        (conv3): Conv2d(128, 512, kernel_size=(1, 1), stride=(1, 1), bias=False)\n",
       "        (bn3): BatchNorm2d(512, eps=1e-05, momentum=0.1, affine=True, track_running_stats=True)\n",
       "        (relu3): ReLU(inplace=True)\n",
       "      )\n",
       "      (3): Bottleneck(\n",
       "        (conv1): Conv2d(512, 128, kernel_size=(1, 1), stride=(1, 1), bias=False)\n",
       "        (bn1): BatchNorm2d(128, eps=1e-05, momentum=0.1, affine=True, track_running_stats=True)\n",
       "        (relu1): ReLU(inplace=True)\n",
       "        (conv2): Conv2d(128, 128, kernel_size=(3, 3), stride=(1, 1), padding=(1, 1), bias=False)\n",
       "        (bn2): BatchNorm2d(128, eps=1e-05, momentum=0.1, affine=True, track_running_stats=True)\n",
       "        (relu2): ReLU(inplace=True)\n",
       "        (avgpool): Identity()\n",
       "        (conv3): Conv2d(128, 512, kernel_size=(1, 1), stride=(1, 1), bias=False)\n",
       "        (bn3): BatchNorm2d(512, eps=1e-05, momentum=0.1, affine=True, track_running_stats=True)\n",
       "        (relu3): ReLU(inplace=True)\n",
       "      )\n",
       "    )\n",
       "    (layer3): Sequential(\n",
       "      (0): Bottleneck(\n",
       "        (conv1): Conv2d(512, 256, kernel_size=(1, 1), stride=(1, 1), bias=False)\n",
       "        (bn1): BatchNorm2d(256, eps=1e-05, momentum=0.1, affine=True, track_running_stats=True)\n",
       "        (relu1): ReLU(inplace=True)\n",
       "        (conv2): Conv2d(256, 256, kernel_size=(3, 3), stride=(1, 1), padding=(1, 1), bias=False)\n",
       "        (bn2): BatchNorm2d(256, eps=1e-05, momentum=0.1, affine=True, track_running_stats=True)\n",
       "        (relu2): ReLU(inplace=True)\n",
       "        (avgpool): AvgPool2d(kernel_size=2, stride=2, padding=0)\n",
       "        (conv3): Conv2d(256, 1024, kernel_size=(1, 1), stride=(1, 1), bias=False)\n",
       "        (bn3): BatchNorm2d(1024, eps=1e-05, momentum=0.1, affine=True, track_running_stats=True)\n",
       "        (relu3): ReLU(inplace=True)\n",
       "        (downsample): Sequential(\n",
       "          (-1): AvgPool2d(kernel_size=2, stride=2, padding=0)\n",
       "          (0): Conv2d(512, 1024, kernel_size=(1, 1), stride=(1, 1), bias=False)\n",
       "          (1): BatchNorm2d(1024, eps=1e-05, momentum=0.1, affine=True, track_running_stats=True)\n",
       "        )\n",
       "      )\n",
       "      (1): Bottleneck(\n",
       "        (conv1): Conv2d(1024, 256, kernel_size=(1, 1), stride=(1, 1), bias=False)\n",
       "        (bn1): BatchNorm2d(256, eps=1e-05, momentum=0.1, affine=True, track_running_stats=True)\n",
       "        (relu1): ReLU(inplace=True)\n",
       "        (conv2): Conv2d(256, 256, kernel_size=(3, 3), stride=(1, 1), padding=(1, 1), bias=False)\n",
       "        (bn2): BatchNorm2d(256, eps=1e-05, momentum=0.1, affine=True, track_running_stats=True)\n",
       "        (relu2): ReLU(inplace=True)\n",
       "        (avgpool): Identity()\n",
       "        (conv3): Conv2d(256, 1024, kernel_size=(1, 1), stride=(1, 1), bias=False)\n",
       "        (bn3): BatchNorm2d(1024, eps=1e-05, momentum=0.1, affine=True, track_running_stats=True)\n",
       "        (relu3): ReLU(inplace=True)\n",
       "      )\n",
       "      (2): Bottleneck(\n",
       "        (conv1): Conv2d(1024, 256, kernel_size=(1, 1), stride=(1, 1), bias=False)\n",
       "        (bn1): BatchNorm2d(256, eps=1e-05, momentum=0.1, affine=True, track_running_stats=True)\n",
       "        (relu1): ReLU(inplace=True)\n",
       "        (conv2): Conv2d(256, 256, kernel_size=(3, 3), stride=(1, 1), padding=(1, 1), bias=False)\n",
       "        (bn2): BatchNorm2d(256, eps=1e-05, momentum=0.1, affine=True, track_running_stats=True)\n",
       "        (relu2): ReLU(inplace=True)\n",
       "        (avgpool): Identity()\n",
       "        (conv3): Conv2d(256, 1024, kernel_size=(1, 1), stride=(1, 1), bias=False)\n",
       "        (bn3): BatchNorm2d(1024, eps=1e-05, momentum=0.1, affine=True, track_running_stats=True)\n",
       "        (relu3): ReLU(inplace=True)\n",
       "      )\n",
       "      (3): Bottleneck(\n",
       "        (conv1): Conv2d(1024, 256, kernel_size=(1, 1), stride=(1, 1), bias=False)\n",
       "        (bn1): BatchNorm2d(256, eps=1e-05, momentum=0.1, affine=True, track_running_stats=True)\n",
       "        (relu1): ReLU(inplace=True)\n",
       "        (conv2): Conv2d(256, 256, kernel_size=(3, 3), stride=(1, 1), padding=(1, 1), bias=False)\n",
       "        (bn2): BatchNorm2d(256, eps=1e-05, momentum=0.1, affine=True, track_running_stats=True)\n",
       "        (relu2): ReLU(inplace=True)\n",
       "        (avgpool): Identity()\n",
       "        (conv3): Conv2d(256, 1024, kernel_size=(1, 1), stride=(1, 1), bias=False)\n",
       "        (bn3): BatchNorm2d(1024, eps=1e-05, momentum=0.1, affine=True, track_running_stats=True)\n",
       "        (relu3): ReLU(inplace=True)\n",
       "      )\n",
       "      (4): Bottleneck(\n",
       "        (conv1): Conv2d(1024, 256, kernel_size=(1, 1), stride=(1, 1), bias=False)\n",
       "        (bn1): BatchNorm2d(256, eps=1e-05, momentum=0.1, affine=True, track_running_stats=True)\n",
       "        (relu1): ReLU(inplace=True)\n",
       "        (conv2): Conv2d(256, 256, kernel_size=(3, 3), stride=(1, 1), padding=(1, 1), bias=False)\n",
       "        (bn2): BatchNorm2d(256, eps=1e-05, momentum=0.1, affine=True, track_running_stats=True)\n",
       "        (relu2): ReLU(inplace=True)\n",
       "        (avgpool): Identity()\n",
       "        (conv3): Conv2d(256, 1024, kernel_size=(1, 1), stride=(1, 1), bias=False)\n",
       "        (bn3): BatchNorm2d(1024, eps=1e-05, momentum=0.1, affine=True, track_running_stats=True)\n",
       "        (relu3): ReLU(inplace=True)\n",
       "      )\n",
       "      (5): Bottleneck(\n",
       "        (conv1): Conv2d(1024, 256, kernel_size=(1, 1), stride=(1, 1), bias=False)\n",
       "        (bn1): BatchNorm2d(256, eps=1e-05, momentum=0.1, affine=True, track_running_stats=True)\n",
       "        (relu1): ReLU(inplace=True)\n",
       "        (conv2): Conv2d(256, 256, kernel_size=(3, 3), stride=(1, 1), padding=(1, 1), bias=False)\n",
       "        (bn2): BatchNorm2d(256, eps=1e-05, momentum=0.1, affine=True, track_running_stats=True)\n",
       "        (relu2): ReLU(inplace=True)\n",
       "        (avgpool): Identity()\n",
       "        (conv3): Conv2d(256, 1024, kernel_size=(1, 1), stride=(1, 1), bias=False)\n",
       "        (bn3): BatchNorm2d(1024, eps=1e-05, momentum=0.1, affine=True, track_running_stats=True)\n",
       "        (relu3): ReLU(inplace=True)\n",
       "      )\n",
       "    )\n",
       "    (layer4): Sequential(\n",
       "      (0): Bottleneck(\n",
       "        (conv1): Conv2d(1024, 512, kernel_size=(1, 1), stride=(1, 1), bias=False)\n",
       "        (bn1): BatchNorm2d(512, eps=1e-05, momentum=0.1, affine=True, track_running_stats=True)\n",
       "        (relu1): ReLU(inplace=True)\n",
       "        (conv2): Conv2d(512, 512, kernel_size=(3, 3), stride=(1, 1), padding=(1, 1), bias=False)\n",
       "        (bn2): BatchNorm2d(512, eps=1e-05, momentum=0.1, affine=True, track_running_stats=True)\n",
       "        (relu2): ReLU(inplace=True)\n",
       "        (avgpool): AvgPool2d(kernel_size=2, stride=2, padding=0)\n",
       "        (conv3): Conv2d(512, 2048, kernel_size=(1, 1), stride=(1, 1), bias=False)\n",
       "        (bn3): BatchNorm2d(2048, eps=1e-05, momentum=0.1, affine=True, track_running_stats=True)\n",
       "        (relu3): ReLU(inplace=True)\n",
       "        (downsample): Sequential(\n",
       "          (-1): AvgPool2d(kernel_size=2, stride=2, padding=0)\n",
       "          (0): Conv2d(1024, 2048, kernel_size=(1, 1), stride=(1, 1), bias=False)\n",
       "          (1): BatchNorm2d(2048, eps=1e-05, momentum=0.1, affine=True, track_running_stats=True)\n",
       "        )\n",
       "      )\n",
       "      (1): Bottleneck(\n",
       "        (conv1): Conv2d(2048, 512, kernel_size=(1, 1), stride=(1, 1), bias=False)\n",
       "        (bn1): BatchNorm2d(512, eps=1e-05, momentum=0.1, affine=True, track_running_stats=True)\n",
       "        (relu1): ReLU(inplace=True)\n",
       "        (conv2): Conv2d(512, 512, kernel_size=(3, 3), stride=(1, 1), padding=(1, 1), bias=False)\n",
       "        (bn2): BatchNorm2d(512, eps=1e-05, momentum=0.1, affine=True, track_running_stats=True)\n",
       "        (relu2): ReLU(inplace=True)\n",
       "        (avgpool): Identity()\n",
       "        (conv3): Conv2d(512, 2048, kernel_size=(1, 1), stride=(1, 1), bias=False)\n",
       "        (bn3): BatchNorm2d(2048, eps=1e-05, momentum=0.1, affine=True, track_running_stats=True)\n",
       "        (relu3): ReLU(inplace=True)\n",
       "      )\n",
       "      (2): Bottleneck(\n",
       "        (conv1): Conv2d(2048, 512, kernel_size=(1, 1), stride=(1, 1), bias=False)\n",
       "        (bn1): BatchNorm2d(512, eps=1e-05, momentum=0.1, affine=True, track_running_stats=True)\n",
       "        (relu1): ReLU(inplace=True)\n",
       "        (conv2): Conv2d(512, 512, kernel_size=(3, 3), stride=(1, 1), padding=(1, 1), bias=False)\n",
       "        (bn2): BatchNorm2d(512, eps=1e-05, momentum=0.1, affine=True, track_running_stats=True)\n",
       "        (relu2): ReLU(inplace=True)\n",
       "        (avgpool): Identity()\n",
       "        (conv3): Conv2d(512, 2048, kernel_size=(1, 1), stride=(1, 1), bias=False)\n",
       "        (bn3): BatchNorm2d(2048, eps=1e-05, momentum=0.1, affine=True, track_running_stats=True)\n",
       "        (relu3): ReLU(inplace=True)\n",
       "      )\n",
       "    )\n",
       "    (attnpool): AttentionPool2d(\n",
       "      (k_proj): Linear(in_features=2048, out_features=2048, bias=True)\n",
       "      (q_proj): Linear(in_features=2048, out_features=2048, bias=True)\n",
       "      (v_proj): Linear(in_features=2048, out_features=2048, bias=True)\n",
       "      (c_proj): Linear(in_features=2048, out_features=1024, bias=True)\n",
       "    )\n",
       "  )\n",
       "  (transformer): Transformer(\n",
       "    (resblocks): Sequential(\n",
       "      (0): ResidualAttentionBlock(\n",
       "        (attn): MultiheadAttention(\n",
       "          (out_proj): NonDynamicallyQuantizableLinear(in_features=512, out_features=512, bias=True)\n",
       "        )\n",
       "        (ln_1): LayerNorm((512,), eps=1e-05, elementwise_affine=True)\n",
       "        (mlp): Sequential(\n",
       "          (c_fc): Linear(in_features=512, out_features=2048, bias=True)\n",
       "          (gelu): QuickGELU()\n",
       "          (c_proj): Linear(in_features=2048, out_features=512, bias=True)\n",
       "        )\n",
       "        (ln_2): LayerNorm((512,), eps=1e-05, elementwise_affine=True)\n",
       "      )\n",
       "      (1): ResidualAttentionBlock(\n",
       "        (attn): MultiheadAttention(\n",
       "          (out_proj): NonDynamicallyQuantizableLinear(in_features=512, out_features=512, bias=True)\n",
       "        )\n",
       "        (ln_1): LayerNorm((512,), eps=1e-05, elementwise_affine=True)\n",
       "        (mlp): Sequential(\n",
       "          (c_fc): Linear(in_features=512, out_features=2048, bias=True)\n",
       "          (gelu): QuickGELU()\n",
       "          (c_proj): Linear(in_features=2048, out_features=512, bias=True)\n",
       "        )\n",
       "        (ln_2): LayerNorm((512,), eps=1e-05, elementwise_affine=True)\n",
       "      )\n",
       "      (2): ResidualAttentionBlock(\n",
       "        (attn): MultiheadAttention(\n",
       "          (out_proj): NonDynamicallyQuantizableLinear(in_features=512, out_features=512, bias=True)\n",
       "        )\n",
       "        (ln_1): LayerNorm((512,), eps=1e-05, elementwise_affine=True)\n",
       "        (mlp): Sequential(\n",
       "          (c_fc): Linear(in_features=512, out_features=2048, bias=True)\n",
       "          (gelu): QuickGELU()\n",
       "          (c_proj): Linear(in_features=2048, out_features=512, bias=True)\n",
       "        )\n",
       "        (ln_2): LayerNorm((512,), eps=1e-05, elementwise_affine=True)\n",
       "      )\n",
       "      (3): ResidualAttentionBlock(\n",
       "        (attn): MultiheadAttention(\n",
       "          (out_proj): NonDynamicallyQuantizableLinear(in_features=512, out_features=512, bias=True)\n",
       "        )\n",
       "        (ln_1): LayerNorm((512,), eps=1e-05, elementwise_affine=True)\n",
       "        (mlp): Sequential(\n",
       "          (c_fc): Linear(in_features=512, out_features=2048, bias=True)\n",
       "          (gelu): QuickGELU()\n",
       "          (c_proj): Linear(in_features=2048, out_features=512, bias=True)\n",
       "        )\n",
       "        (ln_2): LayerNorm((512,), eps=1e-05, elementwise_affine=True)\n",
       "      )\n",
       "      (4): ResidualAttentionBlock(\n",
       "        (attn): MultiheadAttention(\n",
       "          (out_proj): NonDynamicallyQuantizableLinear(in_features=512, out_features=512, bias=True)\n",
       "        )\n",
       "        (ln_1): LayerNorm((512,), eps=1e-05, elementwise_affine=True)\n",
       "        (mlp): Sequential(\n",
       "          (c_fc): Linear(in_features=512, out_features=2048, bias=True)\n",
       "          (gelu): QuickGELU()\n",
       "          (c_proj): Linear(in_features=2048, out_features=512, bias=True)\n",
       "        )\n",
       "        (ln_2): LayerNorm((512,), eps=1e-05, elementwise_affine=True)\n",
       "      )\n",
       "      (5): ResidualAttentionBlock(\n",
       "        (attn): MultiheadAttention(\n",
       "          (out_proj): NonDynamicallyQuantizableLinear(in_features=512, out_features=512, bias=True)\n",
       "        )\n",
       "        (ln_1): LayerNorm((512,), eps=1e-05, elementwise_affine=True)\n",
       "        (mlp): Sequential(\n",
       "          (c_fc): Linear(in_features=512, out_features=2048, bias=True)\n",
       "          (gelu): QuickGELU()\n",
       "          (c_proj): Linear(in_features=2048, out_features=512, bias=True)\n",
       "        )\n",
       "        (ln_2): LayerNorm((512,), eps=1e-05, elementwise_affine=True)\n",
       "      )\n",
       "      (6): ResidualAttentionBlock(\n",
       "        (attn): MultiheadAttention(\n",
       "          (out_proj): NonDynamicallyQuantizableLinear(in_features=512, out_features=512, bias=True)\n",
       "        )\n",
       "        (ln_1): LayerNorm((512,), eps=1e-05, elementwise_affine=True)\n",
       "        (mlp): Sequential(\n",
       "          (c_fc): Linear(in_features=512, out_features=2048, bias=True)\n",
       "          (gelu): QuickGELU()\n",
       "          (c_proj): Linear(in_features=2048, out_features=512, bias=True)\n",
       "        )\n",
       "        (ln_2): LayerNorm((512,), eps=1e-05, elementwise_affine=True)\n",
       "      )\n",
       "      (7): ResidualAttentionBlock(\n",
       "        (attn): MultiheadAttention(\n",
       "          (out_proj): NonDynamicallyQuantizableLinear(in_features=512, out_features=512, bias=True)\n",
       "        )\n",
       "        (ln_1): LayerNorm((512,), eps=1e-05, elementwise_affine=True)\n",
       "        (mlp): Sequential(\n",
       "          (c_fc): Linear(in_features=512, out_features=2048, bias=True)\n",
       "          (gelu): QuickGELU()\n",
       "          (c_proj): Linear(in_features=2048, out_features=512, bias=True)\n",
       "        )\n",
       "        (ln_2): LayerNorm((512,), eps=1e-05, elementwise_affine=True)\n",
       "      )\n",
       "      (8): ResidualAttentionBlock(\n",
       "        (attn): MultiheadAttention(\n",
       "          (out_proj): NonDynamicallyQuantizableLinear(in_features=512, out_features=512, bias=True)\n",
       "        )\n",
       "        (ln_1): LayerNorm((512,), eps=1e-05, elementwise_affine=True)\n",
       "        (mlp): Sequential(\n",
       "          (c_fc): Linear(in_features=512, out_features=2048, bias=True)\n",
       "          (gelu): QuickGELU()\n",
       "          (c_proj): Linear(in_features=2048, out_features=512, bias=True)\n",
       "        )\n",
       "        (ln_2): LayerNorm((512,), eps=1e-05, elementwise_affine=True)\n",
       "      )\n",
       "      (9): ResidualAttentionBlock(\n",
       "        (attn): MultiheadAttention(\n",
       "          (out_proj): NonDynamicallyQuantizableLinear(in_features=512, out_features=512, bias=True)\n",
       "        )\n",
       "        (ln_1): LayerNorm((512,), eps=1e-05, elementwise_affine=True)\n",
       "        (mlp): Sequential(\n",
       "          (c_fc): Linear(in_features=512, out_features=2048, bias=True)\n",
       "          (gelu): QuickGELU()\n",
       "          (c_proj): Linear(in_features=2048, out_features=512, bias=True)\n",
       "        )\n",
       "        (ln_2): LayerNorm((512,), eps=1e-05, elementwise_affine=True)\n",
       "      )\n",
       "      (10): ResidualAttentionBlock(\n",
       "        (attn): MultiheadAttention(\n",
       "          (out_proj): NonDynamicallyQuantizableLinear(in_features=512, out_features=512, bias=True)\n",
       "        )\n",
       "        (ln_1): LayerNorm((512,), eps=1e-05, elementwise_affine=True)\n",
       "        (mlp): Sequential(\n",
       "          (c_fc): Linear(in_features=512, out_features=2048, bias=True)\n",
       "          (gelu): QuickGELU()\n",
       "          (c_proj): Linear(in_features=2048, out_features=512, bias=True)\n",
       "        )\n",
       "        (ln_2): LayerNorm((512,), eps=1e-05, elementwise_affine=True)\n",
       "      )\n",
       "      (11): ResidualAttentionBlock(\n",
       "        (attn): MultiheadAttention(\n",
       "          (out_proj): NonDynamicallyQuantizableLinear(in_features=512, out_features=512, bias=True)\n",
       "        )\n",
       "        (ln_1): LayerNorm((512,), eps=1e-05, elementwise_affine=True)\n",
       "        (mlp): Sequential(\n",
       "          (c_fc): Linear(in_features=512, out_features=2048, bias=True)\n",
       "          (gelu): QuickGELU()\n",
       "          (c_proj): Linear(in_features=2048, out_features=512, bias=True)\n",
       "        )\n",
       "        (ln_2): LayerNorm((512,), eps=1e-05, elementwise_affine=True)\n",
       "      )\n",
       "    )\n",
       "  )\n",
       "  (token_embedding): Embedding(49408, 512)\n",
       "  (ln_final): LayerNorm((512,), eps=1e-05, elementwise_affine=True)\n",
       ")"
      ]
     },
     "execution_count": 151,
     "metadata": {},
     "output_type": "execute_result"
    }
   ],
   "source": [
    "model"
   ]
  },
  {
   "cell_type": "code",
   "execution_count": 208,
   "metadata": {},
   "outputs": [],
   "source": [
    "def generate_region_embs(out_dir):\n",
    "    \"\"\"\n",
    "    Generate embeddings for each region.\n",
    "\n",
    "    Parameters:\n",
    "        out_dir: Directory for storing region embeddings\n",
    "    \"\"\"\n",
    "    ann = pd.read_feather(f\"{out_dir}/annotations.feather\")\n",
    "    components = {}\n",
    "    out_dir = Path(out_dir) / \"region_embs\"\n",
    "    if out_dir.exists() and out_dir.is_dir():\n",
    "        shutil.rmtree(out_dir)\n",
    "    out_dir.mkdir()\n",
    "\n",
    "    # Load CLIP vision encoder\n",
    "    model, _ = clip.load(\"RN50\", \"cuda\")\n",
    "    model_backbone, _ = clip.load(\"RN50\", \"cuda\")\n",
    "    components[\"model_backbone\"] = model_backbone.to(torch.float32)\n",
    "    for c in [\"attnpool\", \"layer4\"]:\n",
    "        components[c] = copy.deepcopy(eval(f\"model_backbone.visual.{c}\"))\n",
    "        setattr(model_backbone.visual, c, torch.nn.Identity())\n",
    "    for c in [\"transformer\", \"token_embedding\", \"ln_final\"]:\n",
    "        setattr(model_backbone, c, torch.nn.Identity())\n",
    "\n",
    "    # Generate embeddings for each region\n",
    "    reg_emb_map = {\"image_id\": [], \"file\": [], \"file_id\": []}\n",
    "    all_reg_embs = []\n",
    "    for idx, row in tqdm(ann.iterrows()):\n",
    "        image_id, filepath = row[\"image_id\"], row[\"image_filepath\"]\n",
    "        image = torch.tensor(\n",
    "            (sparse.load_npz(filepath).todense() / 255).astype(np.float32)\n",
    "        )\n",
    "        image = torch.stack([image]).cuda()\n",
    "        regions = np.stack(row[\"region_coord\"].tolist())\n",
    "\n",
    "        with torch.no_grad():\n",
    "            features = components[\"model_backbone\"].encode_image(image)\n",
    "            rois = (\n",
    "                torch.cat((torch.zeros((len(regions), 1)), torch.tensor(regions)), 1)\n",
    "                .to(torch.float32)\n",
    "                .cuda()\n",
    "            )\n",
    "            x = roi_align(\n",
    "                features,\n",
    "                rois.to(dtype=features.dtype),\n",
    "                (14, 14),\n",
    "                features.shape[-1] / image.shape[-1],\n",
    "                0,\n",
    "                True,\n",
    "            )\n",
    "            x = components[\"layer4\"](x)\n",
    "            x = components[\"attnpool\"](x)\n",
    "            # print(f\"Shape of {idx} Embedding: {x.shape}\")\n",
    "            reg_embs = x\n",
    "\n",
    "        if len(all_reg_embs) == 10000:\n",
    "            all_reg_embs = np.array(all_reg_embs, dtype=object)\n",
    "            print(f\"Shape of all embeddings: {all_reg_embs.shape}\")\n",
    "            np.savez_compressed(out_dir / f\"embs_{idx}\", all_reg_embs)\n",
    "            reg_emb_map[\"file\"].extend([f\"embs_{idx}\"] * all_reg_embs.shape[0])\n",
    "            reg_emb_map[\"file_id\"].extend(np.arange(all_reg_embs.shape[0]))\n",
    "            all_reg_embs = []\n",
    "        reg_embs = reg_embs.cpu().numpy()\n",
    "        all_reg_embs.append(\n",
    "            reg_embs.reshape(\n",
    "                -1,\n",
    "            )\n",
    "        )\n",
    "        reg_emb_map[\"image_id\"].append(image_id)\n",
    "\n",
    "    all_reg_embs = np.array(all_reg_embs, dtype=object)\n",
    "    np.savez_compressed(out_dir / f\"embs_{idx}\", all_reg_embs)\n",
    "    reg_emb_map[\"file\"].extend([f\"embs_{idx}\"] * all_reg_embs.shape[0])\n",
    "    reg_emb_map[\"file_id\"].extend(np.arange(all_reg_embs.shape[0]))\n",
    "\n",
    "    pd.DataFrame(reg_emb_map).to_feather(out_dir / \"region_emb_mapping.feather\")\n",
    "    print(f\"Saved region embeddings to {out_dir}\")"
   ]
  },
  {
   "cell_type": "code",
   "execution_count": 193,
   "metadata": {},
   "outputs": [
    {
     "name": "stderr",
     "output_type": "stream",
     "text": [
      "2388it [00:18, 131.63it/s]\n"
     ]
    },
    {
     "data": {
      "text/html": [
       "<pre style=\"white-space:pre;overflow-x:auto;line-height:normal;font-family:Menlo,'DejaVu Sans Mono',consolas,'Courier New',monospace\">Saved region embeddings to C:\\Users\\DryLab\\Desktop\\villa\\data\\open-i\\region_embs\n",
       "</pre>\n"
      ],
      "text/plain": [
       "Saved region embeddings to C:\\Users\\DryLab\\Desktop\\villa\\data\\open-i\\region_embs\n"
      ]
     },
     "metadata": {},
     "output_type": "display_data"
    }
   ],
   "source": [
    "generate_region_embs(\"C:/Users/DryLab/Desktop/villa/data/docmnist_300000_29.5\")"
   ]
  },
  {
   "cell_type": "markdown",
   "metadata": {},
   "source": [
    "### Check shape of data and visualize the layer on one sample\n"
   ]
  },
  {
   "cell_type": "code",
   "execution_count": 209,
   "metadata": {},
   "outputs": [],
   "source": [
    "def generate_region_embs(image_id, out_dir):\n",
    "    \"\"\"\n",
    "    Generate embeddings for a single region using CLIP and print the shapes of the outputs.\n",
    "\n",
    "    Parameters:\n",
    "        image_id: ID of the image to process\n",
    "        out_dir: Directory containing annotation file and image data\n",
    "    \"\"\"\n",
    "    ann = pd.read_feather(f\"{out_dir}/annotations.feather\")\n",
    "    components = {}\n",
    "\n",
    "    # Load CLIP vision encoder\n",
    "    model, _ = clip.load(\"RN50\", \"cuda\")\n",
    "    model_backbone, _ = clip.load(\"RN50\", \"cuda\")\n",
    "    components[\"model_backbone\"] = model_backbone.to(torch.float32)\n",
    "\n",
    "    # Set a couple of components to identity, torch.nn.identity() is used to get the same results as the previous layer\n",
    "    # which means we want to get the features before the attention pooling and layer 4\n",
    "\n",
    "    # Copy attention pool and layer 4 components\n",
    "    for c in [\"attnpool\", \"layer4\"]:\n",
    "        components[c] = copy.deepcopy(eval(f\"model_backbone.visual.{c}\"))\n",
    "        setattr(model_backbone.visual, c, torch.nn.Identity())\n",
    "\n",
    "    # Set transformer-related components to identity\n",
    "    for c in [\"transformer\", \"token_embedding\", \"ln_final\"]:\n",
    "        setattr(model_backbone, c, torch.nn.Identity())\n",
    "\n",
    "    # Find the row with the corresponding image_id\n",
    "    row = ann[ann[\"image_id\"] == image_id].iloc[0]\n",
    "    filepath = row[\"image_filepath\"]\n",
    "    image = torch.tensor((sparse.load_npz(filepath).todense() / 255).astype(np.float32))\n",
    "    print(image.shape)\n",
    "    image = torch.stack([image]).cuda()\n",
    "    print(image.shape)\n",
    "    regions = np.stack(row[\"region_coord\"].tolist())\n",
    "\n",
    "    with torch.no_grad():\n",
    "        # Generate image features\n",
    "        print(f\"Image shape: {image.shape}\")\n",
    "        features = components[\"model_backbone\"].encode_image(image)\n",
    "        print(f\"Features shape: {features.shape}\")\n",
    "\n",
    "        # Process regions with ROI alignment\n",
    "        rois = (\n",
    "            torch.cat((torch.zeros((len(regions), 1)), torch.tensor(regions)), 1)\n",
    "            .to(torch.float32)\n",
    "            .cuda()\n",
    "        )\n",
    "        x = roi_align(\n",
    "            features, rois, (14, 14), features.shape[-1] / image.shape[-1], 0, True\n",
    "        )\n",
    "        print(f\"ROI-Aligned shape: {x.shape}\")\n",
    "\n",
    "        # Pass through layer4 and attention pooling\n",
    "        x = components[\"layer4\"](x)\n",
    "        print(f\"Layer4 shape: {x.shape}\")\n",
    "        x = components[\"attnpool\"](x)\n",
    "        print(f\"Region embeddings shape: {x.shape}\")\n",
    "\n",
    "        return x\n"
   ]
  },
  {
   "cell_type": "code",
   "execution_count": 210,
   "metadata": {},
   "outputs": [
    {
     "data": {
      "text/html": [
       "<pre style=\"white-space:pre;overflow-x:auto;line-height:normal;font-family:Menlo,'DejaVu Sans Mono',consolas,'Courier New',monospace\"><span style=\"color: #800080; text-decoration-color: #800080; font-weight: bold\">torch.Size</span><span style=\"font-weight: bold\">([</span><span style=\"color: #008080; text-decoration-color: #008080; font-weight: bold\">3</span>, <span style=\"color: #008080; text-decoration-color: #008080; font-weight: bold\">84</span>, <span style=\"color: #008080; text-decoration-color: #008080; font-weight: bold\">84</span><span style=\"font-weight: bold\">])</span>\n",
       "</pre>\n"
      ],
      "text/plain": [
       "\u001b[1;35mtorch.Size\u001b[0m\u001b[1m(\u001b[0m\u001b[1m[\u001b[0m\u001b[1;36m3\u001b[0m, \u001b[1;36m84\u001b[0m, \u001b[1;36m84\u001b[0m\u001b[1m]\u001b[0m\u001b[1m)\u001b[0m\n"
      ]
     },
     "metadata": {},
     "output_type": "display_data"
    },
    {
     "data": {
      "text/html": [
       "<pre style=\"white-space:pre;overflow-x:auto;line-height:normal;font-family:Menlo,'DejaVu Sans Mono',consolas,'Courier New',monospace\"><span style=\"color: #800080; text-decoration-color: #800080; font-weight: bold\">torch.Size</span><span style=\"font-weight: bold\">([</span><span style=\"color: #008080; text-decoration-color: #008080; font-weight: bold\">1</span>, <span style=\"color: #008080; text-decoration-color: #008080; font-weight: bold\">3</span>, <span style=\"color: #008080; text-decoration-color: #008080; font-weight: bold\">84</span>, <span style=\"color: #008080; text-decoration-color: #008080; font-weight: bold\">84</span><span style=\"font-weight: bold\">])</span>\n",
       "</pre>\n"
      ],
      "text/plain": [
       "\u001b[1;35mtorch.Size\u001b[0m\u001b[1m(\u001b[0m\u001b[1m[\u001b[0m\u001b[1;36m1\u001b[0m, \u001b[1;36m3\u001b[0m, \u001b[1;36m84\u001b[0m, \u001b[1;36m84\u001b[0m\u001b[1m]\u001b[0m\u001b[1m)\u001b[0m\n"
      ]
     },
     "metadata": {},
     "output_type": "display_data"
    },
    {
     "data": {
      "text/html": [
       "<pre style=\"white-space:pre;overflow-x:auto;line-height:normal;font-family:Menlo,'DejaVu Sans Mono',consolas,'Courier New',monospace\">Image shape: <span style=\"color: #800080; text-decoration-color: #800080; font-weight: bold\">torch.Size</span><span style=\"font-weight: bold\">([</span><span style=\"color: #008080; text-decoration-color: #008080; font-weight: bold\">1</span>, <span style=\"color: #008080; text-decoration-color: #008080; font-weight: bold\">3</span>, <span style=\"color: #008080; text-decoration-color: #008080; font-weight: bold\">84</span>, <span style=\"color: #008080; text-decoration-color: #008080; font-weight: bold\">84</span><span style=\"font-weight: bold\">])</span>\n",
       "</pre>\n"
      ],
      "text/plain": [
       "Image shape: \u001b[1;35mtorch.Size\u001b[0m\u001b[1m(\u001b[0m\u001b[1m[\u001b[0m\u001b[1;36m1\u001b[0m, \u001b[1;36m3\u001b[0m, \u001b[1;36m84\u001b[0m, \u001b[1;36m84\u001b[0m\u001b[1m]\u001b[0m\u001b[1m)\u001b[0m\n"
      ]
     },
     "metadata": {},
     "output_type": "display_data"
    },
    {
     "data": {
      "text/html": [
       "<pre style=\"white-space:pre;overflow-x:auto;line-height:normal;font-family:Menlo,'DejaVu Sans Mono',consolas,'Courier New',monospace\">Features shape: <span style=\"color: #800080; text-decoration-color: #800080; font-weight: bold\">torch.Size</span><span style=\"font-weight: bold\">([</span><span style=\"color: #008080; text-decoration-color: #008080; font-weight: bold\">1</span>, <span style=\"color: #008080; text-decoration-color: #008080; font-weight: bold\">1024</span>, <span style=\"color: #008080; text-decoration-color: #008080; font-weight: bold\">5</span>, <span style=\"color: #008080; text-decoration-color: #008080; font-weight: bold\">5</span><span style=\"font-weight: bold\">])</span>\n",
       "</pre>\n"
      ],
      "text/plain": [
       "Features shape: \u001b[1;35mtorch.Size\u001b[0m\u001b[1m(\u001b[0m\u001b[1m[\u001b[0m\u001b[1;36m1\u001b[0m, \u001b[1;36m1024\u001b[0m, \u001b[1;36m5\u001b[0m, \u001b[1;36m5\u001b[0m\u001b[1m]\u001b[0m\u001b[1m)\u001b[0m\n"
      ]
     },
     "metadata": {},
     "output_type": "display_data"
    },
    {
     "data": {
      "text/html": [
       "<pre style=\"white-space:pre;overflow-x:auto;line-height:normal;font-family:Menlo,'DejaVu Sans Mono',consolas,'Courier New',monospace\">ROI-Aligned shape: <span style=\"color: #800080; text-decoration-color: #800080; font-weight: bold\">torch.Size</span><span style=\"font-weight: bold\">([</span><span style=\"color: #008080; text-decoration-color: #008080; font-weight: bold\">9</span>, <span style=\"color: #008080; text-decoration-color: #008080; font-weight: bold\">1024</span>, <span style=\"color: #008080; text-decoration-color: #008080; font-weight: bold\">14</span>, <span style=\"color: #008080; text-decoration-color: #008080; font-weight: bold\">14</span><span style=\"font-weight: bold\">])</span>\n",
       "</pre>\n"
      ],
      "text/plain": [
       "ROI-Aligned shape: \u001b[1;35mtorch.Size\u001b[0m\u001b[1m(\u001b[0m\u001b[1m[\u001b[0m\u001b[1;36m9\u001b[0m, \u001b[1;36m1024\u001b[0m, \u001b[1;36m14\u001b[0m, \u001b[1;36m14\u001b[0m\u001b[1m]\u001b[0m\u001b[1m)\u001b[0m\n"
      ]
     },
     "metadata": {},
     "output_type": "display_data"
    },
    {
     "data": {
      "text/html": [
       "<pre style=\"white-space:pre;overflow-x:auto;line-height:normal;font-family:Menlo,'DejaVu Sans Mono',consolas,'Courier New',monospace\">Layer4 shape: <span style=\"color: #800080; text-decoration-color: #800080; font-weight: bold\">torch.Size</span><span style=\"font-weight: bold\">([</span><span style=\"color: #008080; text-decoration-color: #008080; font-weight: bold\">9</span>, <span style=\"color: #008080; text-decoration-color: #008080; font-weight: bold\">2048</span>, <span style=\"color: #008080; text-decoration-color: #008080; font-weight: bold\">7</span>, <span style=\"color: #008080; text-decoration-color: #008080; font-weight: bold\">7</span><span style=\"font-weight: bold\">])</span>\n",
       "</pre>\n"
      ],
      "text/plain": [
       "Layer4 shape: \u001b[1;35mtorch.Size\u001b[0m\u001b[1m(\u001b[0m\u001b[1m[\u001b[0m\u001b[1;36m9\u001b[0m, \u001b[1;36m2048\u001b[0m, \u001b[1;36m7\u001b[0m, \u001b[1;36m7\u001b[0m\u001b[1m]\u001b[0m\u001b[1m)\u001b[0m\n"
      ]
     },
     "metadata": {},
     "output_type": "display_data"
    },
    {
     "data": {
      "text/html": [
       "<pre style=\"white-space:pre;overflow-x:auto;line-height:normal;font-family:Menlo,'DejaVu Sans Mono',consolas,'Courier New',monospace\">Region embeddings shape: <span style=\"color: #800080; text-decoration-color: #800080; font-weight: bold\">torch.Size</span><span style=\"font-weight: bold\">([</span><span style=\"color: #008080; text-decoration-color: #008080; font-weight: bold\">9</span>, <span style=\"color: #008080; text-decoration-color: #008080; font-weight: bold\">1024</span><span style=\"font-weight: bold\">])</span>\n",
       "</pre>\n"
      ],
      "text/plain": [
       "Region embeddings shape: \u001b[1;35mtorch.Size\u001b[0m\u001b[1m(\u001b[0m\u001b[1m[\u001b[0m\u001b[1;36m9\u001b[0m, \u001b[1;36m1024\u001b[0m\u001b[1m]\u001b[0m\u001b[1m)\u001b[0m\n"
      ]
     },
     "metadata": {},
     "output_type": "display_data"
    }
   ],
   "source": [
    "x = generate_region_embs(1, \"C:/Users/DryLab/Desktop/ViLLA/data/docmnist_300000_29.5/\")"
   ]
  },
  {
   "cell_type": "markdown",
   "metadata": {},
   "source": [
    "### Create Preprocessing Steps for X-Ray Images\n"
   ]
  },
  {
   "cell_type": "code",
   "execution_count": 144,
   "metadata": {},
   "outputs": [],
   "source": [
    "def process_image_dicom(filepath):\n",
    "    dicom = dcmread(filepath)\n",
    "    image = dicom.pixel_array\n",
    "\n",
    "    # Convert 16-bit image to 8-bit image\n",
    "    image = cv2.normalize(\n",
    "        image, None, alpha=0, beta=255, norm_type=cv2.NORM_MINMAX, dtype=cv2.CV_8U\n",
    "    )\n",
    "\n",
    "    # Invert the image if the background is white\n",
    "    if dicom.PhotometricInterpretation == \"MONOCHROME1\":\n",
    "        image = Image.fromarray((image).astype(np.uint8)).convert(\"L\")\n",
    "        image = ImageOps.invert(image)\n",
    "    else:\n",
    "        image = Image.fromarray((image).astype(np.uint8)).convert(\"L\")\n",
    "\n",
    "    # Resize image\n",
    "    image = image.resize((224, 224))\n",
    "\n",
    "    # Convert Image object to numpy array and normalize\n",
    "    image = np.array(image).astype(np.float32) / 255.0\n",
    "\n",
    "    # Convert to tensor and add batch dimension\n",
    "    image_tensor = torch.from_numpy(image).unsqueeze(0).unsqueeze(0).to(torch.float32)\n",
    "\n",
    "    return image_tensor"
   ]
  },
  {
   "cell_type": "code",
   "execution_count": 211,
   "metadata": {},
   "outputs": [],
   "source": [
    "def process_image(filepath):\n",
    "    image = Image.open(filepath).convert(\"L\")\n",
    "\n",
    "    # Resize image\n",
    "    image = image.resize((224, 224))\n",
    "\n",
    "    # Convert Image object to numpy array\n",
    "    image = np.array(image)\n",
    "\n",
    "    # Normalize image\n",
    "    image = image.astype(np.float32) / 255.0\n",
    "\n",
    "    # Convert to tensor and add batch dimension\n",
    "    image_tensor = torch.from_numpy(image).unsqueeze(0).to(torch.float32)\n",
    "\n",
    "    return image_tensor"
   ]
  },
  {
   "cell_type": "markdown",
   "metadata": {},
   "source": [
    "### Use MedCLIP to generate embeddings for one image and check the layer shape\n"
   ]
  },
  {
   "cell_type": "code",
   "execution_count": 257,
   "metadata": {},
   "outputs": [],
   "source": [
    "def generate_region_embs(image_id, out_dir):\n",
    "    \"\"\"\n",
    "    Generate embeddings for a single region using CLIP and print the shapes of the outputs.\n",
    "\n",
    "    Parameters:\n",
    "        image_id: ID of the image to process\n",
    "        out_dir: Directory containing annotation file and image data\n",
    "    \"\"\"\n",
    "    ann = pd.read_feather(f\"{out_dir}/annotations.feather\")\n",
    "    components = {}\n",
    "\n",
    "    # Load MedCLIP vision encoder\n",
    "    model = MedCLIPModel(vision_cls=MedCLIPVisionModel)\n",
    "    model.from_pretrained()\n",
    "    image_encoder = model.vision_model\n",
    "    image_encoder = image_encoder.to(\"cuda\")\n",
    "\n",
    "    for layer in [\"layer4\", \"avgpool\", \"fc\"]:\n",
    "        components[layer] = copy.deepcopy(eval(f\"image_encoder.model.{layer}\"))\n",
    "        setattr(image_encoder.model, layer, torch.nn.Identity())\n",
    "\n",
    "    # Find the row with the corresponding image_id\n",
    "    row = ann[ann[\"image_id\"] == image_id].iloc[0]\n",
    "    filepath = row[\"image_filepath\"]\n",
    "    image = process_image(filepath)\n",
    "    print(image.shape)\n",
    "    image = torch.stack([image]).cuda()\n",
    "    print(image.shape)\n",
    "    regions = np.stack(row[\"region_bbox\"].tolist())\n",
    "\n",
    "    with torch.no_grad():\n",
    "        # Generate image features\n",
    "        print(f\"Image shape: {image.shape}\")\n",
    "        features = image_encoder.forward(image)\n",
    "        print(f\"Features shape: {features.shape}\")\n",
    "\n",
    "        # Process regions with ROI alignment\n",
    "        rois = (\n",
    "            torch.cat((torch.zeros((len(regions), 1)), torch.tensor(regions)), 1)\n",
    "            .to(torch.float32)\n",
    "            .cuda()\n",
    "        )\n",
    "        x = roi_align(\n",
    "            features, rois, (14, 14), features.shape[-1] / image.shape[-1], 0, True\n",
    "        )\n",
    "        print(f\"ROI-Aligned shape: {x.shape}\")\n",
    "\n",
    "        # Pass through layer4 and attention pooling\n",
    "        x = components[\"layer4\"](x)\n",
    "        print(f\"Layer4 shape: {x.shape}\")\n",
    "        x = components[\"avgpool\"](x)\n",
    "        x = x.flatten(1)\n",
    "        print(f\"Region embeddings shape: {x.shape}\")\n",
    "\n",
    "        return x\n"
   ]
  },
  {
   "cell_type": "code",
   "execution_count": 258,
   "metadata": {},
   "outputs": [
    {
     "name": "stderr",
     "output_type": "stream",
     "text": [
      "c:\\Users\\DryLab\\anaconda3\\envs\\ViLLA\\lib\\site-packages\\torchvision\\models\\_utils.py:208: UserWarning: The parameter 'pretrained' is deprecated since 0.13 and may be removed in the future, please use 'weights' instead.\n",
      "  warnings.warn(\n",
      "c:\\Users\\DryLab\\anaconda3\\envs\\ViLLA\\lib\\site-packages\\torchvision\\models\\_utils.py:223: UserWarning: Arguments other than a weight enum or `None` for 'weights' are deprecated since 0.13 and may be removed in the future. The current behavior is equivalent to passing `weights=ResNet50_Weights.IMAGENET1K_V1`. You can also use `weights=ResNet50_Weights.DEFAULT` to get the most up-to-date weights.\n",
      "  warnings.warn(msg)\n",
      "c:\\Users\\DryLab\\anaconda3\\envs\\ViLLA\\lib\\site-packages\\transformers\\modeling_utils.py:399: FutureWarning: You are using `torch.load` with `weights_only=False` (the current default value), which uses the default pickle module implicitly. It is possible to construct malicious pickle data which will execute arbitrary code during unpickling (See https://github.com/pytorch/pytorch/blob/main/SECURITY.md#untrusted-models for more details). In a future release, the default value for `weights_only` will be flipped to `True`. This limits the functions that could be executed during unpickling. Arbitrary objects will no longer be allowed to be loaded via this mode unless they are explicitly allowlisted by the user via `torch.serialization.add_safe_globals`. We recommend you start setting `weights_only=True` for any use case where you don't have full control of the loaded file. Please open an issue on GitHub for any issues related to this experimental feature.\n",
      "  return torch.load(checkpoint_file, map_location=\"cpu\")\n",
      "Some weights of the model checkpoint at emilyalsentzer/Bio_ClinicalBERT were not used when initializing BertModel: ['cls.predictions.decoder.weight', 'cls.predictions.transform.dense.weight', 'cls.predictions.transform.LayerNorm.weight', 'cls.predictions.transform.dense.bias', 'cls.predictions.transform.LayerNorm.bias', 'cls.seq_relationship.bias', 'cls.predictions.bias', 'cls.seq_relationship.weight']\n",
      "- This IS expected if you are initializing BertModel from the checkpoint of a model trained on another task or with another architecture (e.g. initializing a BertForSequenceClassification model from a BertForPreTraining model).\n",
      "- This IS NOT expected if you are initializing BertModel from the checkpoint of a model that you expect to be exactly identical (initializing a BertForSequenceClassification model from a BertForSequenceClassification model).\n",
      "c:\\Users\\DryLab\\anaconda3\\envs\\ViLLA\\lib\\site-packages\\medclip\\modeling_medclip.py:205: FutureWarning: You are using `torch.load` with `weights_only=False` (the current default value), which uses the default pickle module implicitly. It is possible to construct malicious pickle data which will execute arbitrary code during unpickling (See https://github.com/pytorch/pytorch/blob/main/SECURITY.md#untrusted-models for more details). In a future release, the default value for `weights_only` will be flipped to `True`. This limits the functions that could be executed during unpickling. Arbitrary objects will no longer be allowed to be loaded via this mode unless they are explicitly allowlisted by the user via `torch.serialization.add_safe_globals`. We recommend you start setting `weights_only=True` for any use case where you don't have full control of the loaded file. Please open an issue on GitHub for any issues related to this experimental feature.\n",
      "  state_dict = torch.load(os.path.join(input_dir, constants.WEIGHTS_NAME))\n"
     ]
    },
    {
     "name": "stdout",
     "output_type": "stream",
     "text": [
      "load model weight from: ./pretrained/medclip-resnet\n"
     ]
    },
    {
     "data": {
      "text/html": [
       "<pre style=\"white-space:pre;overflow-x:auto;line-height:normal;font-family:Menlo,'DejaVu Sans Mono',consolas,'Courier New',monospace\"><span style=\"color: #800080; text-decoration-color: #800080; font-weight: bold\">torch.Size</span><span style=\"font-weight: bold\">([</span><span style=\"color: #008080; text-decoration-color: #008080; font-weight: bold\">1</span>, <span style=\"color: #008080; text-decoration-color: #008080; font-weight: bold\">224</span>, <span style=\"color: #008080; text-decoration-color: #008080; font-weight: bold\">224</span><span style=\"font-weight: bold\">])</span>\n",
       "</pre>\n"
      ],
      "text/plain": [
       "\u001b[1;35mtorch.Size\u001b[0m\u001b[1m(\u001b[0m\u001b[1m[\u001b[0m\u001b[1;36m1\u001b[0m, \u001b[1;36m224\u001b[0m, \u001b[1;36m224\u001b[0m\u001b[1m]\u001b[0m\u001b[1m)\u001b[0m\n"
      ]
     },
     "metadata": {},
     "output_type": "display_data"
    },
    {
     "data": {
      "text/html": [
       "<pre style=\"white-space:pre;overflow-x:auto;line-height:normal;font-family:Menlo,'DejaVu Sans Mono',consolas,'Courier New',monospace\"><span style=\"color: #800080; text-decoration-color: #800080; font-weight: bold\">torch.Size</span><span style=\"font-weight: bold\">([</span><span style=\"color: #008080; text-decoration-color: #008080; font-weight: bold\">1</span>, <span style=\"color: #008080; text-decoration-color: #008080; font-weight: bold\">1</span>, <span style=\"color: #008080; text-decoration-color: #008080; font-weight: bold\">224</span>, <span style=\"color: #008080; text-decoration-color: #008080; font-weight: bold\">224</span><span style=\"font-weight: bold\">])</span>\n",
       "</pre>\n"
      ],
      "text/plain": [
       "\u001b[1;35mtorch.Size\u001b[0m\u001b[1m(\u001b[0m\u001b[1m[\u001b[0m\u001b[1;36m1\u001b[0m, \u001b[1;36m1\u001b[0m, \u001b[1;36m224\u001b[0m, \u001b[1;36m224\u001b[0m\u001b[1m]\u001b[0m\u001b[1m)\u001b[0m\n"
      ]
     },
     "metadata": {},
     "output_type": "display_data"
    },
    {
     "data": {
      "text/html": [
       "<pre style=\"white-space:pre;overflow-x:auto;line-height:normal;font-family:Menlo,'DejaVu Sans Mono',consolas,'Courier New',monospace\">Image shape: <span style=\"color: #800080; text-decoration-color: #800080; font-weight: bold\">torch.Size</span><span style=\"font-weight: bold\">([</span><span style=\"color: #008080; text-decoration-color: #008080; font-weight: bold\">1</span>, <span style=\"color: #008080; text-decoration-color: #008080; font-weight: bold\">1</span>, <span style=\"color: #008080; text-decoration-color: #008080; font-weight: bold\">224</span>, <span style=\"color: #008080; text-decoration-color: #008080; font-weight: bold\">224</span><span style=\"font-weight: bold\">])</span>\n",
       "</pre>\n"
      ],
      "text/plain": [
       "Image shape: \u001b[1;35mtorch.Size\u001b[0m\u001b[1m(\u001b[0m\u001b[1m[\u001b[0m\u001b[1;36m1\u001b[0m, \u001b[1;36m1\u001b[0m, \u001b[1;36m224\u001b[0m, \u001b[1;36m224\u001b[0m\u001b[1m]\u001b[0m\u001b[1m)\u001b[0m\n"
      ]
     },
     "metadata": {},
     "output_type": "display_data"
    },
    {
     "data": {
      "text/html": [
       "<pre style=\"white-space:pre;overflow-x:auto;line-height:normal;font-family:Menlo,'DejaVu Sans Mono',consolas,'Courier New',monospace\">Features shape: <span style=\"color: #800080; text-decoration-color: #800080; font-weight: bold\">torch.Size</span><span style=\"font-weight: bold\">([</span><span style=\"color: #008080; text-decoration-color: #008080; font-weight: bold\">1</span>, <span style=\"color: #008080; text-decoration-color: #008080; font-weight: bold\">1024</span>, <span style=\"color: #008080; text-decoration-color: #008080; font-weight: bold\">14</span>, <span style=\"color: #008080; text-decoration-color: #008080; font-weight: bold\">14</span><span style=\"font-weight: bold\">])</span>\n",
       "</pre>\n"
      ],
      "text/plain": [
       "Features shape: \u001b[1;35mtorch.Size\u001b[0m\u001b[1m(\u001b[0m\u001b[1m[\u001b[0m\u001b[1;36m1\u001b[0m, \u001b[1;36m1024\u001b[0m, \u001b[1;36m14\u001b[0m, \u001b[1;36m14\u001b[0m\u001b[1m]\u001b[0m\u001b[1m)\u001b[0m\n"
      ]
     },
     "metadata": {},
     "output_type": "display_data"
    },
    {
     "data": {
      "text/html": [
       "<pre style=\"white-space:pre;overflow-x:auto;line-height:normal;font-family:Menlo,'DejaVu Sans Mono',consolas,'Courier New',monospace\">ROI-Aligned shape: <span style=\"color: #800080; text-decoration-color: #800080; font-weight: bold\">torch.Size</span><span style=\"font-weight: bold\">([</span><span style=\"color: #008080; text-decoration-color: #008080; font-weight: bold\">3</span>, <span style=\"color: #008080; text-decoration-color: #008080; font-weight: bold\">1024</span>, <span style=\"color: #008080; text-decoration-color: #008080; font-weight: bold\">14</span>, <span style=\"color: #008080; text-decoration-color: #008080; font-weight: bold\">14</span><span style=\"font-weight: bold\">])</span>\n",
       "</pre>\n"
      ],
      "text/plain": [
       "ROI-Aligned shape: \u001b[1;35mtorch.Size\u001b[0m\u001b[1m(\u001b[0m\u001b[1m[\u001b[0m\u001b[1;36m3\u001b[0m, \u001b[1;36m1024\u001b[0m, \u001b[1;36m14\u001b[0m, \u001b[1;36m14\u001b[0m\u001b[1m]\u001b[0m\u001b[1m)\u001b[0m\n"
      ]
     },
     "metadata": {},
     "output_type": "display_data"
    },
    {
     "data": {
      "text/html": [
       "<pre style=\"white-space:pre;overflow-x:auto;line-height:normal;font-family:Menlo,'DejaVu Sans Mono',consolas,'Courier New',monospace\">Layer4 shape: <span style=\"color: #800080; text-decoration-color: #800080; font-weight: bold\">torch.Size</span><span style=\"font-weight: bold\">([</span><span style=\"color: #008080; text-decoration-color: #008080; font-weight: bold\">3</span>, <span style=\"color: #008080; text-decoration-color: #008080; font-weight: bold\">2048</span>, <span style=\"color: #008080; text-decoration-color: #008080; font-weight: bold\">7</span>, <span style=\"color: #008080; text-decoration-color: #008080; font-weight: bold\">7</span><span style=\"font-weight: bold\">])</span>\n",
       "</pre>\n"
      ],
      "text/plain": [
       "Layer4 shape: \u001b[1;35mtorch.Size\u001b[0m\u001b[1m(\u001b[0m\u001b[1m[\u001b[0m\u001b[1;36m3\u001b[0m, \u001b[1;36m2048\u001b[0m, \u001b[1;36m7\u001b[0m, \u001b[1;36m7\u001b[0m\u001b[1m]\u001b[0m\u001b[1m)\u001b[0m\n"
      ]
     },
     "metadata": {},
     "output_type": "display_data"
    },
    {
     "data": {
      "text/html": [
       "<pre style=\"white-space:pre;overflow-x:auto;line-height:normal;font-family:Menlo,'DejaVu Sans Mono',consolas,'Courier New',monospace\">Region embeddings shape: <span style=\"color: #800080; text-decoration-color: #800080; font-weight: bold\">torch.Size</span><span style=\"font-weight: bold\">([</span><span style=\"color: #008080; text-decoration-color: #008080; font-weight: bold\">3</span>, <span style=\"color: #008080; text-decoration-color: #008080; font-weight: bold\">2048</span><span style=\"font-weight: bold\">])</span>\n",
       "</pre>\n"
      ],
      "text/plain": [
       "Region embeddings shape: \u001b[1;35mtorch.Size\u001b[0m\u001b[1m(\u001b[0m\u001b[1m[\u001b[0m\u001b[1;36m3\u001b[0m, \u001b[1;36m2048\u001b[0m\u001b[1m]\u001b[0m\u001b[1m)\u001b[0m\n"
      ]
     },
     "metadata": {},
     "output_type": "display_data"
    }
   ],
   "source": [
    "x = generate_region_embs(1, \"C:/Users/DryLab/Desktop/ViLLA/data/open-i/\")"
   ]
  },
  {
   "cell_type": "markdown",
   "metadata": {},
   "source": [
    "### Use Mask directly to generate region embeddings\n"
   ]
  },
  {
   "cell_type": "code",
   "execution_count": 848,
   "metadata": {},
   "outputs": [],
   "source": [
    "# def generate_region_embs(out_dir):\n",
    "#     \"\"\"\n",
    "#     Generate embeddings for each region using MedCLIP.\n",
    "\n",
    "#     Parameters:\n",
    "#         out_dir: Directory for storing region embeddings\n",
    "#     \"\"\"\n",
    "#     ann = pd.read_feather(f\"{out_dir}/annotations.feather\")\n",
    "#     components = {}\n",
    "#     out_dir = Path(out_dir) / \"region_embs\"\n",
    "#     if out_dir.exists() and out_dir.is_dir():\n",
    "#         shutil.rmtree(out_dir)\n",
    "#     out_dir.mkdir()\n",
    "\n",
    "#     # Load MedCLIP vision encoder\n",
    "#     model = MedCLIPModel(vision_cls=MedCLIPVisionModel)\n",
    "#     model.from_pretrained()\n",
    "#     image_encoder = model.vision_model\n",
    "#     image_encoder = image_encoder.to(\"cuda\")\n",
    "\n",
    "#     for layer in [\"layer3\", \"avgpool\"]:\n",
    "#         components[layer] = copy.deepcopy(getattr(image_encoder.model, layer))\n",
    "#         setattr(image_encoder.model, layer, torch.nn.Identity())\n",
    "#     for layer in [\"layer4\", \"fc\"]:\n",
    "#         setattr(image_encoder.model, layer, torch.nn.Identity())\n",
    "\n",
    "#     # Prepare to store the embeddings\n",
    "#     reg_emb_map = {\"image_id\": [], \"file\": [], \"file_id\": []}\n",
    "#     all_reg_embs = []\n",
    "\n",
    "#     # Generate embeddings for each region\n",
    "#     for idx, row in tqdm(ann.iterrows(), total=len(ann)):\n",
    "#         image_id, filepath = row[\"image_id\"], row[\"image_filepath\"]\n",
    "#         # Load and resize the image\n",
    "#         image = process_image(filepath).cuda()\n",
    "#         regions = row[\"region_coord\"]  # These are the multiclass masks\n",
    "\n",
    "#         with torch.no_grad():\n",
    "#             # Generate image features\n",
    "#             features = image_encoder(image)\n",
    "\n",
    "#             # Initialize a list to store region embeddings for each class\n",
    "#             all_class_embs = []\n",
    "\n",
    "#             for mask in regions:\n",
    "#                 # Convert mask to a tensor\n",
    "#                 mask_tensor = torch.tensor(\n",
    "#                     mask.reshape(224, 224), dtype=torch.float32\n",
    "#                 ).cuda()\n",
    "\n",
    "#                 # print(f\"Mask tensor shape: {mask_tensor.shape}\")\n",
    "\n",
    "#                 # Resize the mask to match the feature map size\n",
    "#                 mask_tensor = F.interpolate(\n",
    "#                     mask_tensor.unsqueeze(0).unsqueeze(0),\n",
    "#                     size=features.shape[-2:],\n",
    "#                     mode=\"nearest\",\n",
    "#                 )\n",
    "\n",
    "#                 # print(f\"Mask tensor after reshape: {mask_tensor.shape}\")\n",
    "\n",
    "#                 # Apply the mask to the feature map\n",
    "#                 masked_features = features * mask_tensor\n",
    "#                 # print(f\"Masked features shape: {masked_features.shape}\")\n",
    "#                 # Perform global average pooling on the masked features\n",
    "#                 masked_features = components[\"layer3\"](masked_features)\n",
    "#                 pooled_features = (\n",
    "#                     components[\"avgpool\"](masked_features).squeeze(-1).squeeze(-1)\n",
    "#                 )\n",
    "#                 # print(f\"Pooled features shape: {pooled_features.shape}\")\n",
    "#                 all_class_embs.append(pooled_features)\n",
    "\n",
    "#             # Concatenate embeddings for all classes\n",
    "#             reg_embs = torch.cat(all_class_embs, dim=0).cpu().numpy()\n",
    "#             # print(f\"Final region embeddings shape: {reg_embs.shape}\")\n",
    "#             all_reg_embs.append(reg_embs.reshape(-1))\n",
    "\n",
    "#             if len(all_reg_embs) >= 1000:\n",
    "#                 all_reg_embs = np.array(all_reg_embs, dtype=object)\n",
    "#                 print(f\"Shape of all embeddings: {all_reg_embs.shape}\")\n",
    "#                 np.savez_compressed(\n",
    "#                     out_dir / f\"embs_{idx}\", all_reg_embs, allow_pickle=True\n",
    "#                 )\n",
    "#                 reg_emb_map[\"file\"].extend([f\"embs_{idx}\"] * all_reg_embs.shape[0])\n",
    "#                 reg_emb_map[\"file_id\"].extend(np.arange(all_reg_embs.shape[0]))\n",
    "#                 all_reg_embs = []\n",
    "\n",
    "#             reg_emb_map[\"image_id\"].append(image_id)\n",
    "\n",
    "#     # Save any remaining embeddings\n",
    "#     if all_reg_embs:\n",
    "#         all_reg_embs = np.array(all_reg_embs, dtype=object)\n",
    "#         np.savez_compressed(out_dir / f\"embs_{idx}\", all_reg_embs, allow_pickle=True)\n",
    "#         reg_emb_map[\"file\"].extend([f\"embs_{idx}\"] * all_reg_embs.shape[0])\n",
    "#         reg_emb_map[\"file_id\"].extend(np.arange(all_reg_embs.shape[0]))\n",
    "\n",
    "#     # Save the mapping of region embeddings\n",
    "#     pd.DataFrame(reg_emb_map).to_feather(out_dir / \"region_emb_mapping.feather\")\n",
    "#     print(f\"Saved region embeddings to {out_dir}\")\n"
   ]
  },
  {
   "cell_type": "code",
   "execution_count": 849,
   "metadata": {},
   "outputs": [
    {
     "name": "stderr",
     "output_type": "stream",
     "text": [
      "c:\\Users\\DryLab\\anaconda3\\envs\\ViLLA\\lib\\site-packages\\torchvision\\models\\_utils.py:208: UserWarning: The parameter 'pretrained' is deprecated since 0.13 and may be removed in the future, please use 'weights' instead.\n",
      "  warnings.warn(\n",
      "c:\\Users\\DryLab\\anaconda3\\envs\\ViLLA\\lib\\site-packages\\torchvision\\models\\_utils.py:223: UserWarning: Arguments other than a weight enum or `None` for 'weights' are deprecated since 0.13 and may be removed in the future. The current behavior is equivalent to passing `weights=ResNet50_Weights.IMAGENET1K_V1`. You can also use `weights=ResNet50_Weights.DEFAULT` to get the most up-to-date weights.\n",
      "  warnings.warn(msg)\n",
      "c:\\Users\\DryLab\\anaconda3\\envs\\ViLLA\\lib\\site-packages\\transformers\\modeling_utils.py:399: FutureWarning: You are using `torch.load` with `weights_only=False` (the current default value), which uses the default pickle module implicitly. It is possible to construct malicious pickle data which will execute arbitrary code during unpickling (See https://github.com/pytorch/pytorch/blob/main/SECURITY.md#untrusted-models for more details). In a future release, the default value for `weights_only` will be flipped to `True`. This limits the functions that could be executed during unpickling. Arbitrary objects will no longer be allowed to be loaded via this mode unless they are explicitly allowlisted by the user via `torch.serialization.add_safe_globals`. We recommend you start setting `weights_only=True` for any use case where you don't have full control of the loaded file. Please open an issue on GitHub for any issues related to this experimental feature.\n",
      "  return torch.load(checkpoint_file, map_location=\"cpu\")\n",
      "Some weights of the model checkpoint at emilyalsentzer/Bio_ClinicalBERT were not used when initializing BertModel: ['cls.seq_relationship.weight', 'cls.predictions.transform.dense.bias', 'cls.predictions.transform.LayerNorm.bias', 'cls.predictions.transform.LayerNorm.weight', 'cls.predictions.decoder.weight', 'cls.predictions.bias', 'cls.predictions.transform.dense.weight', 'cls.seq_relationship.bias']\n",
      "- This IS expected if you are initializing BertModel from the checkpoint of a model trained on another task or with another architecture (e.g. initializing a BertForSequenceClassification model from a BertForPreTraining model).\n",
      "- This IS NOT expected if you are initializing BertModel from the checkpoint of a model that you expect to be exactly identical (initializing a BertForSequenceClassification model from a BertForSequenceClassification model).\n",
      "c:\\Users\\DryLab\\anaconda3\\envs\\ViLLA\\lib\\site-packages\\medclip\\modeling_medclip.py:203: FutureWarning: You are using `torch.load` with `weights_only=False` (the current default value), which uses the default pickle module implicitly. It is possible to construct malicious pickle data which will execute arbitrary code during unpickling (See https://github.com/pytorch/pytorch/blob/main/SECURITY.md#untrusted-models for more details). In a future release, the default value for `weights_only` will be flipped to `True`. This limits the functions that could be executed during unpickling. Arbitrary objects will no longer be allowed to be loaded via this mode unless they are explicitly allowlisted by the user via `torch.serialization.add_safe_globals`. We recommend you start setting `weights_only=True` for any use case where you don't have full control of the loaded file. Please open an issue on GitHub for any issues related to this experimental feature.\n",
      "  state_dict = torch.load(os.path.join(input_dir, constants.WEIGHTS_NAME))\n"
     ]
    },
    {
     "name": "stdout",
     "output_type": "stream",
     "text": [
      "load model weight from: ./pretrained/medclip-resnet\n"
     ]
    },
    {
     "name": "stderr",
     "output_type": "stream",
     "text": [
      " 53%|█████▎    | 996/1863 [00:13<00:12, 69.62it/s]"
     ]
    },
    {
     "data": {
      "text/html": [
       "<pre style=\"white-space:pre;overflow-x:auto;line-height:normal;font-family:Menlo,'DejaVu Sans Mono',consolas,'Courier New',monospace\">Shape of all embeddings: <span style=\"font-weight: bold\">(</span><span style=\"color: #008080; text-decoration-color: #008080; font-weight: bold\">1000</span>, <span style=\"color: #008080; text-decoration-color: #008080; font-weight: bold\">3072</span><span style=\"font-weight: bold\">)</span>\n",
       "</pre>\n"
      ],
      "text/plain": [
       "Shape of all embeddings: \u001b[1m(\u001b[0m\u001b[1;36m1000\u001b[0m, \u001b[1;36m3072\u001b[0m\u001b[1m)\u001b[0m\n"
      ]
     },
     "metadata": {},
     "output_type": "display_data"
    },
    {
     "name": "stderr",
     "output_type": "stream",
     "text": [
      "100%|██████████| 1863/1863 [00:27<00:00, 66.84it/s]\n"
     ]
    },
    {
     "data": {
      "text/html": [
       "<pre style=\"white-space:pre;overflow-x:auto;line-height:normal;font-family:Menlo,'DejaVu Sans Mono',consolas,'Courier New',monospace\">Saved region embeddings to C:\\Users\\DryLab\\Desktop\\ViLLA\\data\\open-i\\region_embs\n",
       "</pre>\n"
      ],
      "text/plain": [
       "Saved region embeddings to C:\\Users\\DryLab\\Desktop\\ViLLA\\data\\open-i\\region_embs\n"
      ]
     },
     "metadata": {},
     "output_type": "display_data"
    }
   ],
   "source": [
    "generate_region_embs(\"C:/Users/DryLab/Desktop/ViLLA/data/open-i\")"
   ]
  },
  {
   "cell_type": "markdown",
   "metadata": {},
   "source": [
    "### Generate Region Embeddings for X-Ray Images using MedCLIP\n"
   ]
  },
  {
   "cell_type": "code",
   "execution_count": 276,
   "metadata": {},
   "outputs": [],
   "source": [
    "def generate_region_embs(out_dir):\n",
    "    \"\"\"\n",
    "    Generate embeddings for each region.\n",
    "\n",
    "    Parameters:\n",
    "        out_dir: Directory for storing region embeddings\n",
    "    \"\"\"\n",
    "    ann = pd.read_feather(f\"{out_dir}/annotations.feather\")\n",
    "    components = {}\n",
    "    out_dir = Path(out_dir) / \"region_embs\"\n",
    "    if out_dir.exists() and out_dir.is_dir():\n",
    "        shutil.rmtree(out_dir)\n",
    "    out_dir.mkdir()\n",
    "\n",
    "    # Load MedCLIP vision encoder\n",
    "    model = MedCLIPModel(vision_cls=MedCLIPVisionModel)\n",
    "    model.from_pretrained()\n",
    "    image_encoder = model.vision_model\n",
    "    image_encoder = image_encoder.to(\"cuda\")\n",
    "\n",
    "    for layer in [\"layer3\", \"avgpool\"]:\n",
    "        components[layer] = copy.deepcopy(eval(f\"image_encoder.model.{layer}\"))\n",
    "        setattr(image_encoder.model, layer, torch.nn.Identity())\n",
    "    for layer in [\"layer4\", \"fc\"]:\n",
    "        setattr(image_encoder.model, layer, torch.nn.Identity())\n",
    "\n",
    "    # Generate embeddings for each region\n",
    "    reg_emb_map = {\"image_id\": [], \"file\": [], \"file_id\": []}\n",
    "    all_reg_embs = []\n",
    "    for idx, row in tqdm(ann.iterrows()):\n",
    "        image_id, filepath = row[\"image_id\"], row[\"image_filepath\"]\n",
    "        image = process_image(filepath).cuda()\n",
    "        image = torch.stack([image])\n",
    "        regions = np.stack(row[\"region_bbox\"].tolist())\n",
    "\n",
    "        with torch.no_grad():\n",
    "            features = image_encoder(image)\n",
    "            rois = (\n",
    "                torch.cat((torch.zeros((len(regions), 1)), torch.tensor(regions)), 1)\n",
    "                .to(torch.float32)\n",
    "                .cuda()\n",
    "            )\n",
    "            x = roi_align(\n",
    "                features,\n",
    "                rois.to(dtype=features.dtype),\n",
    "                (28, 28),\n",
    "                features.shape[-1] / image.shape[-1],\n",
    "                0,\n",
    "                True,\n",
    "            )\n",
    "            x = components[\"layer3\"](x)\n",
    "            x = components[\"avgpool\"](x)\n",
    "            x = x.flatten(1)\n",
    "            # print(f\"Shape of {idx} Embedding: {x.shape}\")\n",
    "            reg_embs = x\n",
    "\n",
    "        if len(all_reg_embs) == 1500:\n",
    "            all_reg_embs = np.array(all_reg_embs, dtype=object)\n",
    "            print(f\"Shape of all embeddings: {all_reg_embs.shape}\")\n",
    "            np.savez_compressed(out_dir / f\"embs_{idx}\", all_reg_embs)\n",
    "            reg_emb_map[\"file\"].extend([f\"embs_{idx}\"] * all_reg_embs.shape[0])\n",
    "            reg_emb_map[\"file_id\"].extend(np.arange(all_reg_embs.shape[0]))\n",
    "            all_reg_embs = []\n",
    "        reg_embs = reg_embs.cpu().numpy()\n",
    "        all_reg_embs.append(\n",
    "            reg_embs.reshape(\n",
    "                -1,\n",
    "            )\n",
    "        )\n",
    "        reg_emb_map[\"image_id\"].append(image_id)\n",
    "\n",
    "    all_reg_embs = np.array(all_reg_embs, dtype=object)\n",
    "    np.savez_compressed(out_dir / f\"embs_{idx}\", all_reg_embs)\n",
    "    reg_emb_map[\"file\"].extend([f\"embs_{idx}\"] * all_reg_embs.shape[0])\n",
    "    reg_emb_map[\"file_id\"].extend(np.arange(all_reg_embs.shape[0]))\n",
    "\n",
    "    pd.DataFrame(reg_emb_map).to_feather(out_dir / \"region_emb_mapping.feather\")\n",
    "    print(f\"Saved region embeddings to {out_dir}\")"
   ]
  },
  {
   "cell_type": "code",
   "execution_count": 277,
   "metadata": {},
   "outputs": [
    {
     "name": "stderr",
     "output_type": "stream",
     "text": [
      "c:\\Users\\DryLab\\anaconda3\\envs\\ViLLA\\lib\\site-packages\\torchvision\\models\\_utils.py:208: UserWarning: The parameter 'pretrained' is deprecated since 0.13 and may be removed in the future, please use 'weights' instead.\n",
      "  warnings.warn(\n",
      "c:\\Users\\DryLab\\anaconda3\\envs\\ViLLA\\lib\\site-packages\\torchvision\\models\\_utils.py:223: UserWarning: Arguments other than a weight enum or `None` for 'weights' are deprecated since 0.13 and may be removed in the future. The current behavior is equivalent to passing `weights=ResNet50_Weights.IMAGENET1K_V1`. You can also use `weights=ResNet50_Weights.DEFAULT` to get the most up-to-date weights.\n",
      "  warnings.warn(msg)\n",
      "c:\\Users\\DryLab\\anaconda3\\envs\\ViLLA\\lib\\site-packages\\transformers\\modeling_utils.py:399: FutureWarning: You are using `torch.load` with `weights_only=False` (the current default value), which uses the default pickle module implicitly. It is possible to construct malicious pickle data which will execute arbitrary code during unpickling (See https://github.com/pytorch/pytorch/blob/main/SECURITY.md#untrusted-models for more details). In a future release, the default value for `weights_only` will be flipped to `True`. This limits the functions that could be executed during unpickling. Arbitrary objects will no longer be allowed to be loaded via this mode unless they are explicitly allowlisted by the user via `torch.serialization.add_safe_globals`. We recommend you start setting `weights_only=True` for any use case where you don't have full control of the loaded file. Please open an issue on GitHub for any issues related to this experimental feature.\n",
      "  return torch.load(checkpoint_file, map_location=\"cpu\")\n",
      "Some weights of the model checkpoint at emilyalsentzer/Bio_ClinicalBERT were not used when initializing BertModel: ['cls.predictions.decoder.weight', 'cls.predictions.transform.dense.weight', 'cls.predictions.transform.LayerNorm.weight', 'cls.predictions.transform.dense.bias', 'cls.predictions.transform.LayerNorm.bias', 'cls.seq_relationship.bias', 'cls.predictions.bias', 'cls.seq_relationship.weight']\n",
      "- This IS expected if you are initializing BertModel from the checkpoint of a model trained on another task or with another architecture (e.g. initializing a BertForSequenceClassification model from a BertForPreTraining model).\n",
      "- This IS NOT expected if you are initializing BertModel from the checkpoint of a model that you expect to be exactly identical (initializing a BertForSequenceClassification model from a BertForSequenceClassification model).\n",
      "c:\\Users\\DryLab\\anaconda3\\envs\\ViLLA\\lib\\site-packages\\medclip\\modeling_medclip.py:205: FutureWarning: You are using `torch.load` with `weights_only=False` (the current default value), which uses the default pickle module implicitly. It is possible to construct malicious pickle data which will execute arbitrary code during unpickling (See https://github.com/pytorch/pytorch/blob/main/SECURITY.md#untrusted-models for more details). In a future release, the default value for `weights_only` will be flipped to `True`. This limits the functions that could be executed during unpickling. Arbitrary objects will no longer be allowed to be loaded via this mode unless they are explicitly allowlisted by the user via `torch.serialization.add_safe_globals`. We recommend you start setting `weights_only=True` for any use case where you don't have full control of the loaded file. Please open an issue on GitHub for any issues related to this experimental feature.\n",
      "  state_dict = torch.load(os.path.join(input_dir, constants.WEIGHTS_NAME))\n"
     ]
    },
    {
     "name": "stdout",
     "output_type": "stream",
     "text": [
      "load model weight from: ./pretrained/medclip-resnet\n"
     ]
    },
    {
     "name": "stderr",
     "output_type": "stream",
     "text": [
      "1490it [00:09, 153.50it/s]"
     ]
    },
    {
     "data": {
      "text/html": [
       "<pre style=\"white-space:pre;overflow-x:auto;line-height:normal;font-family:Menlo,'DejaVu Sans Mono',consolas,'Courier New',monospace\">Shape of all embeddings: <span style=\"font-weight: bold\">(</span><span style=\"color: #008080; text-decoration-color: #008080; font-weight: bold\">1500</span>, <span style=\"color: #008080; text-decoration-color: #008080; font-weight: bold\">3072</span><span style=\"font-weight: bold\">)</span>\n",
       "</pre>\n"
      ],
      "text/plain": [
       "Shape of all embeddings: \u001b[1m(\u001b[0m\u001b[1;36m1500\u001b[0m, \u001b[1;36m3072\u001b[0m\u001b[1m)\u001b[0m\n"
      ]
     },
     "metadata": {},
     "output_type": "display_data"
    },
    {
     "name": "stderr",
     "output_type": "stream",
     "text": [
      "2388it [00:18, 129.52it/s]\n"
     ]
    },
    {
     "data": {
      "text/html": [
       "<pre style=\"white-space:pre;overflow-x:auto;line-height:normal;font-family:Menlo,'DejaVu Sans Mono',consolas,'Courier New',monospace\">Saved region embeddings to C:\\Users\\DryLab\\Desktop\\ViLLA\\data\\open-i\\region_embs\n",
       "</pre>\n"
      ],
      "text/plain": [
       "Saved region embeddings to C:\\Users\\DryLab\\Desktop\\ViLLA\\data\\open-i\\region_embs\n"
      ]
     },
     "metadata": {},
     "output_type": "display_data"
    }
   ],
   "source": [
    "generate_region_embs(\"C:/Users/DryLab/Desktop/ViLLA/data/open-i\")"
   ]
  },
  {
   "cell_type": "code",
   "execution_count": null,
   "metadata": {},
   "outputs": [],
   "source": [
    "# generate_region_embs(\"C:/Users/DryLab/Desktop/ViLLA/Xray\")"
   ]
  },
  {
   "cell_type": "markdown",
   "metadata": {},
   "source": [
    "### Check masking resizing\n"
   ]
  },
  {
   "cell_type": "code",
   "execution_count": null,
   "metadata": {},
   "outputs": [],
   "source": [
    "df.to_feather(\"C:/Users/DryLab/Desktop/ViLLA/data/open-i/annotations.feather\")"
   ]
  },
  {
   "cell_type": "code",
   "execution_count": 139,
   "metadata": {},
   "outputs": [],
   "source": [
    "left_lung_mask = df[\"region_coord\"].iloc[1][0].reshape(224, 224)\n",
    "right_lung_mask = df[\"region_coord\"].iloc[1][1].reshape(224, 224)\n",
    "heart_mask = df[\"region_coord\"].iloc[1][2].reshape(224, 224)"
   ]
  },
  {
   "cell_type": "code",
   "execution_count": null,
   "metadata": {},
   "outputs": [],
   "source": [
    "model = MedCLIPModel(vision_cls=MedCLIPVisionModel)\n",
    "model.from_pretrained()\n",
    "image_encoder = model.vision_model\n",
    "image_encoder = image_encoder.to(\"cuda\")\n",
    "\n",
    "components = {}\n",
    "for layer in [\"layer4\", \"avgpool\"]:\n",
    "    components[layer] = copy.deepcopy(getattr(image_encoder.model, layer))\n",
    "    setattr(image_encoder.model, layer, torch.nn.Identity())\n",
    "for layer in [\"fc\"]:\n",
    "    setattr(image_encoder.model, layer, torch.nn.Identity())"
   ]
  },
  {
   "cell_type": "code",
   "execution_count": 169,
   "metadata": {},
   "outputs": [],
   "source": [
    "image = process_image(df[\"image_path\"].iloc[0]).cuda()"
   ]
  },
  {
   "cell_type": "code",
   "execution_count": 170,
   "metadata": {},
   "outputs": [
    {
     "data": {
      "text/plain": [
       "torch.Size([1, 1, 224, 224])"
      ]
     },
     "execution_count": 170,
     "metadata": {},
     "output_type": "execute_result"
    }
   ],
   "source": [
    "image.shape"
   ]
  },
  {
   "cell_type": "code",
   "execution_count": 172,
   "metadata": {},
   "outputs": [],
   "source": [
    "features = image_encoder(image)"
   ]
  },
  {
   "cell_type": "code",
   "execution_count": 173,
   "metadata": {},
   "outputs": [
    {
     "data": {
      "text/plain": [
       "torch.Size([1, 1024, 14, 14])"
      ]
     },
     "execution_count": 173,
     "metadata": {},
     "output_type": "execute_result"
    }
   ],
   "source": [
    "features.shape"
   ]
  },
  {
   "cell_type": "code",
   "execution_count": 223,
   "metadata": {},
   "outputs": [],
   "source": [
    "left_lung_mask_tensor = (\n",
    "    torch.from_numpy(left_lung_mask).unsqueeze(0).unsqueeze(0).to(torch.float32).cuda()\n",
    ")\n",
    "right_lung_mask_tensor = (\n",
    "    torch.from_numpy(right_lung_mask).unsqueeze(0).unsqueeze(0).to(torch.float32).cuda()\n",
    ")\n",
    "heart_mask_tensor = (\n",
    "    torch.from_numpy(heart_mask).unsqueeze(0).unsqueeze(0).to(torch.float32).cuda()\n",
    ")\n",
    "\n",
    "\n",
    "left_lung_mask_interpolate = (\n",
    "    F.interpolate(left_lung_mask_tensor, size=features.shape[-2:], mode=\"nearest\")\n",
    "    .squeeze(0)\n",
    "    .squeeze(0)\n",
    ")\n",
    "right_lung_mask_interpolate = (\n",
    "    F.interpolate(right_lung_mask_tensor, size=features.shape[-2:], mode=\"nearest\")\n",
    "    .squeeze(0)\n",
    "    .squeeze(0)\n",
    ")\n",
    "heart_mask_interpolate = (\n",
    "    F.interpolate(heart_mask_tensor, size=features.shape[-2:], mode=\"nearest\")\n",
    "    .squeeze(0)\n",
    "    .squeeze(0)\n",
    ")"
   ]
  },
  {
   "cell_type": "code",
   "execution_count": 222,
   "metadata": {},
   "outputs": [
    {
     "data": {
      "text/html": [
       "<pre style=\"white-space:pre;overflow-x:auto;line-height:normal;font-family:Menlo,'DejaVu Sans Mono',consolas,'Courier New',monospace\"><span style=\"color: #800080; text-decoration-color: #800080; font-weight: bold\">torch.Size</span><span style=\"font-weight: bold\">([</span><span style=\"color: #008080; text-decoration-color: #008080; font-weight: bold\">14</span>, <span style=\"color: #008080; text-decoration-color: #008080; font-weight: bold\">14</span><span style=\"font-weight: bold\">])</span>\n",
       "</pre>\n"
      ],
      "text/plain": [
       "\u001b[1;35mtorch.Size\u001b[0m\u001b[1m(\u001b[0m\u001b[1m[\u001b[0m\u001b[1;36m14\u001b[0m, \u001b[1;36m14\u001b[0m\u001b[1m]\u001b[0m\u001b[1m)\u001b[0m\n"
      ]
     },
     "metadata": {},
     "output_type": "display_data"
    },
    {
     "data": {
      "text/html": [
       "<pre style=\"white-space:pre;overflow-x:auto;line-height:normal;font-family:Menlo,'DejaVu Sans Mono',consolas,'Courier New',monospace\"><span style=\"color: #800080; text-decoration-color: #800080; font-weight: bold\">torch.Size</span><span style=\"font-weight: bold\">([</span><span style=\"color: #008080; text-decoration-color: #008080; font-weight: bold\">14</span>, <span style=\"color: #008080; text-decoration-color: #008080; font-weight: bold\">14</span><span style=\"font-weight: bold\">])</span>\n",
       "</pre>\n"
      ],
      "text/plain": [
       "\u001b[1;35mtorch.Size\u001b[0m\u001b[1m(\u001b[0m\u001b[1m[\u001b[0m\u001b[1;36m14\u001b[0m, \u001b[1;36m14\u001b[0m\u001b[1m]\u001b[0m\u001b[1m)\u001b[0m\n"
      ]
     },
     "metadata": {},
     "output_type": "display_data"
    },
    {
     "data": {
      "text/html": [
       "<pre style=\"white-space:pre;overflow-x:auto;line-height:normal;font-family:Menlo,'DejaVu Sans Mono',consolas,'Courier New',monospace\"><span style=\"color: #800080; text-decoration-color: #800080; font-weight: bold\">torch.Size</span><span style=\"font-weight: bold\">([</span><span style=\"color: #008080; text-decoration-color: #008080; font-weight: bold\">14</span>, <span style=\"color: #008080; text-decoration-color: #008080; font-weight: bold\">14</span><span style=\"font-weight: bold\">])</span>\n",
       "</pre>\n"
      ],
      "text/plain": [
       "\u001b[1;35mtorch.Size\u001b[0m\u001b[1m(\u001b[0m\u001b[1m[\u001b[0m\u001b[1;36m14\u001b[0m, \u001b[1;36m14\u001b[0m\u001b[1m]\u001b[0m\u001b[1m)\u001b[0m\n"
      ]
     },
     "metadata": {},
     "output_type": "display_data"
    }
   ],
   "source": [
    "print(left_lung_mask_interpolate.shape)\n",
    "print(right_lung_mask_interpolate.shape)\n",
    "print(heart_mask_interpolate.shape)"
   ]
  },
  {
   "cell_type": "code",
   "execution_count": 220,
   "metadata": {},
   "outputs": [
    {
     "data": {
      "image/png": "[encoded data removed]",
      "text/plain": [
       "<Figure size 1500x500 with 3 Axes>"
      ]
     },
     "metadata": {},
     "output_type": "display_data"
    }
   ],
   "source": [
    "plt.figure(figsize=(15, 5))\n",
    "\n",
    "plt.subplot(1, 3, 1)\n",
    "plt.imshow(left_lung_mask_interpolate.cpu().numpy(), cmap=\"gray\")\n",
    "\n",
    "plt.subplot(1, 3, 2)\n",
    "plt.imshow(right_lung_mask_interpolate.cpu().numpy(), cmap=\"gray\")\n",
    "\n",
    "plt.subplot(1, 3, 3)\n",
    "plt.imshow(heart_mask_interpolate.cpu().numpy(), cmap=\"gray\")\n",
    "\n",
    "plt.show()"
   ]
  },
  {
   "cell_type": "code",
   "execution_count": 174,
   "metadata": {},
   "outputs": [],
   "source": [
    "left_lung_features_masked = features * left_lung_mask_interpolate\n",
    "right_lung_features_masked = features * right_lung_mask_interpolate\n",
    "heart_features_masked = features * heart_mask_interpolate"
   ]
  },
  {
   "cell_type": "code",
   "execution_count": 175,
   "metadata": {},
   "outputs": [
    {
     "data": {
      "text/plain": [
       "torch.Size([1, 1024, 14, 14])"
      ]
     },
     "execution_count": 175,
     "metadata": {},
     "output_type": "execute_result"
    }
   ],
   "source": [
    "left_lung_features_masked.shape"
   ]
  },
  {
   "cell_type": "code",
   "execution_count": 176,
   "metadata": {},
   "outputs": [],
   "source": [
    "left_lung_features_masked = components[\"layer4\"](left_lung_features_masked)\n",
    "right_lung_features_masked = components[\"layer4\"](right_lung_features_masked)\n",
    "heart_features_masked = components[\"layer4\"](heart_features_masked)"
   ]
  },
  {
   "cell_type": "code",
   "execution_count": 177,
   "metadata": {},
   "outputs": [
    {
     "data": {
      "text/plain": [
       "torch.Size([1, 2048, 7, 7])"
      ]
     },
     "execution_count": 177,
     "metadata": {},
     "output_type": "execute_result"
    }
   ],
   "source": [
    "left_lung_features_masked.shape"
   ]
  },
  {
   "cell_type": "code",
   "execution_count": 178,
   "metadata": {},
   "outputs": [],
   "source": [
    "left_lung_features_masked = (\n",
    "    components[\"avgpool\"](left_lung_features_masked).squeeze(-1).squeeze(-1)\n",
    ")\n",
    "right_lung_features_masked = (\n",
    "    components[\"avgpool\"](right_lung_features_masked).squeeze(-1).squeeze(-1)\n",
    ")\n",
    "heart_features_masked = (\n",
    "    components[\"avgpool\"](heart_features_masked).squeeze(-1).squeeze(-1)\n",
    ")"
   ]
  },
  {
   "cell_type": "code",
   "execution_count": 179,
   "metadata": {},
   "outputs": [
    {
     "data": {
      "text/plain": [
       "torch.Size([1, 2048])"
      ]
     },
     "execution_count": 179,
     "metadata": {},
     "output_type": "execute_result"
    }
   ],
   "source": [
    "left_lung_features_masked.shape"
   ]
  },
  {
   "cell_type": "code",
   "execution_count": 188,
   "metadata": {},
   "outputs": [
    {
     "data": {
      "text/html": [
       "<pre style=\"white-space:pre;overflow-x:auto;line-height:normal;font-family:Menlo,'DejaVu Sans Mono',consolas,'Courier New',monospace\">Left lung min and max values: <span style=\"color: #008080; text-decoration-color: #008080; font-weight: bold\">0.15783435106277466</span> <span style=\"color: #008080; text-decoration-color: #008080; font-weight: bold\">1.003936767578125</span>\n",
       "</pre>\n"
      ],
      "text/plain": [
       "Left lung min and max values: \u001b[1;36m0.15783435106277466\u001b[0m \u001b[1;36m1.003936767578125\u001b[0m\n"
      ]
     },
     "metadata": {},
     "output_type": "display_data"
    }
   ],
   "source": [
    "# Check min and max values of embedding\n",
    "print(\n",
    "    \"Left lung min and max values:\",\n",
    "    left_lung_features_masked.min().item(),\n",
    "    left_lung_features_masked.max().item(),\n",
    ")"
   ]
  },
  {
   "cell_type": "code",
   "execution_count": 181,
   "metadata": {},
   "outputs": [
    {
     "data": {
      "text/html": [
       "<pre style=\"white-space:pre;overflow-x:auto;line-height:normal;font-family:Menlo,'DejaVu Sans Mono',consolas,'Courier New',monospace\"><span style=\"font-weight: bold\">[[</span><span style=\"color: #008080; text-decoration-color: #008080; font-weight: bold\">0.9921495</span><span style=\"font-weight: bold\">]]</span>\n",
       "</pre>\n"
      ],
      "text/plain": [
       "\u001b[1m[\u001b[0m\u001b[1m[\u001b[0m\u001b[1;36m0.9921495\u001b[0m\u001b[1m]\u001b[0m\u001b[1m]\u001b[0m\n"
      ]
     },
     "metadata": {},
     "output_type": "display_data"
    },
    {
     "data": {
      "text/html": [
       "<pre style=\"white-space:pre;overflow-x:auto;line-height:normal;font-family:Menlo,'DejaVu Sans Mono',consolas,'Courier New',monospace\"><span style=\"font-weight: bold\">[[</span><span style=\"color: #008080; text-decoration-color: #008080; font-weight: bold\">0.99201465</span><span style=\"font-weight: bold\">]]</span>\n",
       "</pre>\n"
      ],
      "text/plain": [
       "\u001b[1m[\u001b[0m\u001b[1m[\u001b[0m\u001b[1;36m0.99201465\u001b[0m\u001b[1m]\u001b[0m\u001b[1m]\u001b[0m\n"
      ]
     },
     "metadata": {},
     "output_type": "display_data"
    },
    {
     "data": {
      "text/html": [
       "<pre style=\"white-space:pre;overflow-x:auto;line-height:normal;font-family:Menlo,'DejaVu Sans Mono',consolas,'Courier New',monospace\"><span style=\"font-weight: bold\">[[</span><span style=\"color: #008080; text-decoration-color: #008080; font-weight: bold\">0.9921862</span><span style=\"font-weight: bold\">]]</span>\n",
       "</pre>\n"
      ],
      "text/plain": [
       "\u001b[1m[\u001b[0m\u001b[1m[\u001b[0m\u001b[1;36m0.9921862\u001b[0m\u001b[1m]\u001b[0m\u001b[1m]\u001b[0m\n"
      ]
     },
     "metadata": {},
     "output_type": "display_data"
    }
   ],
   "source": [
    "# Calculate cosine similarity between left and right lung embeddings after attention pooling\n",
    "left_lung_embs = left_lung_features_masked.cpu().detach().numpy()\n",
    "right_lung_embs = right_lung_features_masked.cpu().detach().numpy()\n",
    "\n",
    "print(\n",
    "    cosine_similarity(\n",
    "        left_lung_embs.mean(axis=0).reshape(1, -1),\n",
    "        right_lung_embs.mean(axis=0).reshape(1, -1),\n",
    "    )\n",
    ")\n",
    "\n",
    "# Calculate cosine similarity between left lung and heart embeddings after attention pooling\n",
    "heart_embs = heart_features_masked.cpu().detach().numpy()\n",
    "\n",
    "print(\n",
    "    cosine_similarity(\n",
    "        left_lung_embs.mean(axis=0).reshape(1, -1),\n",
    "        heart_embs.mean(axis=0).reshape(1, -1),\n",
    "    )\n",
    ")\n",
    "\n",
    "# Calculate cosine similarity between right lung and heart embeddings after attention pooling\n",
    "\n",
    "print(\n",
    "    cosine_similarity(\n",
    "        right_lung_embs.mean(axis=0).reshape(1, -1),\n",
    "        heart_embs.mean(axis=0).reshape(1, -1),\n",
    "    )\n",
    ")"
   ]
  },
  {
   "cell_type": "code",
   "execution_count": 182,
   "metadata": {},
   "outputs": [
    {
     "data": {
      "text/plain": [
       "<matplotlib.image.AxesImage at 0x14a4ad0d310>"
      ]
     },
     "execution_count": 182,
     "metadata": {},
     "output_type": "execute_result"
    },
    {
     "data": {
      "image/png": "[encoded data removed]",
      "text/plain": [
       "<Figure size 640x480 with 1 Axes>"
      ]
     },
     "metadata": {},
     "output_type": "display_data"
    }
   ],
   "source": [
    "plt.imshow(right_lung_mask)"
   ]
  },
  {
   "cell_type": "markdown",
   "metadata": {},
   "source": [
    "### Plot TSNE\n"
   ]
  },
  {
   "cell_type": "code",
   "execution_count": 278,
   "metadata": {},
   "outputs": [],
   "source": [
    "df = pd.read_feather(\"C:/Users/DryLab/Desktop/ViLLA/data/open-i/annotations.feather\")"
   ]
  },
  {
   "cell_type": "code",
   "execution_count": 279,
   "metadata": {},
   "outputs": [],
   "source": [
    "def load_region_embs(out_dir):\n",
    "    out_dir = Path(out_dir)\n",
    "    emb_files = list(out_dir.glob(\"region_embs/embs_*.npz\"))\n",
    "    all_embs = []\n",
    "    for emb_file in emb_files:\n",
    "        data = np.load(emb_file, allow_pickle=True)\n",
    "        all_embs.extend(data[\"arr_0\"])\n",
    "    emb_map = pd.read_feather(out_dir / \"region_embs/region_emb_mapping.feather\")\n",
    "    return all_embs, emb_map\n"
   ]
  },
  {
   "cell_type": "code",
   "execution_count": 280,
   "metadata": {},
   "outputs": [],
   "source": [
    "embeddings, emb_map = load_region_embs(\"C:/Users/DryLab/Desktop/ViLLA/data/open-i/\")"
   ]
  },
  {
   "cell_type": "code",
   "execution_count": 281,
   "metadata": {},
   "outputs": [
    {
     "data": {
      "text/html": [
       "<div>\n",
       "<style scoped>\n",
       "    .dataframe tbody tr th:only-of-type {\n",
       "        vertical-align: middle;\n",
       "    }\n",
       "\n",
       "    .dataframe tbody tr th {\n",
       "        vertical-align: top;\n",
       "    }\n",
       "\n",
       "    .dataframe thead th {\n",
       "        text-align: right;\n",
       "    }\n",
       "</style>\n",
       "<table border=\"1\" class=\"dataframe\">\n",
       "  <thead>\n",
       "    <tr style=\"text-align: right;\">\n",
       "      <th></th>\n",
       "      <th>image_id</th>\n",
       "      <th>file</th>\n",
       "      <th>file_id</th>\n",
       "    </tr>\n",
       "  </thead>\n",
       "  <tbody>\n",
       "    <tr>\n",
       "      <th>0</th>\n",
       "      <td>0</td>\n",
       "      <td>embs_2390</td>\n",
       "      <td>0</td>\n",
       "    </tr>\n",
       "    <tr>\n",
       "      <th>1</th>\n",
       "      <td>1</td>\n",
       "      <td>embs_2390</td>\n",
       "      <td>1</td>\n",
       "    </tr>\n",
       "    <tr>\n",
       "      <th>2</th>\n",
       "      <td>2</td>\n",
       "      <td>embs_2390</td>\n",
       "      <td>2</td>\n",
       "    </tr>\n",
       "    <tr>\n",
       "      <th>3</th>\n",
       "      <td>4</td>\n",
       "      <td>embs_2390</td>\n",
       "      <td>3</td>\n",
       "    </tr>\n",
       "    <tr>\n",
       "      <th>4</th>\n",
       "      <td>5</td>\n",
       "      <td>embs_2390</td>\n",
       "      <td>4</td>\n",
       "    </tr>\n",
       "    <tr>\n",
       "      <th>...</th>\n",
       "      <td>...</td>\n",
       "      <td>...</td>\n",
       "      <td>...</td>\n",
       "    </tr>\n",
       "    <tr>\n",
       "      <th>2383</th>\n",
       "      <td>3792</td>\n",
       "      <td>embs_3796</td>\n",
       "      <td>883</td>\n",
       "    </tr>\n",
       "    <tr>\n",
       "      <th>2384</th>\n",
       "      <td>3793</td>\n",
       "      <td>embs_3796</td>\n",
       "      <td>884</td>\n",
       "    </tr>\n",
       "    <tr>\n",
       "      <th>2385</th>\n",
       "      <td>3794</td>\n",
       "      <td>embs_3796</td>\n",
       "      <td>885</td>\n",
       "    </tr>\n",
       "    <tr>\n",
       "      <th>2386</th>\n",
       "      <td>3795</td>\n",
       "      <td>embs_3796</td>\n",
       "      <td>886</td>\n",
       "    </tr>\n",
       "    <tr>\n",
       "      <th>2387</th>\n",
       "      <td>3796</td>\n",
       "      <td>embs_3796</td>\n",
       "      <td>887</td>\n",
       "    </tr>\n",
       "  </tbody>\n",
       "</table>\n",
       "<p>2388 rows × 3 columns</p>\n",
       "</div>"
      ],
      "text/plain": [
       "      image_id       file  file_id\n",
       "0            0  embs_2390        0\n",
       "1            1  embs_2390        1\n",
       "2            2  embs_2390        2\n",
       "3            4  embs_2390        3\n",
       "4            5  embs_2390        4\n",
       "...        ...        ...      ...\n",
       "2383      3792  embs_3796      883\n",
       "2384      3793  embs_3796      884\n",
       "2385      3794  embs_3796      885\n",
       "2386      3795  embs_3796      886\n",
       "2387      3796  embs_3796      887\n",
       "\n",
       "[2388 rows x 3 columns]"
      ]
     },
     "execution_count": 281,
     "metadata": {},
     "output_type": "execute_result"
    }
   ],
   "source": [
    "emb_map"
   ]
  },
  {
   "cell_type": "code",
   "execution_count": 282,
   "metadata": {},
   "outputs": [],
   "source": [
    "reshaped_embeddings = np.array(embeddings).reshape(len(embeddings), -1, 1024)"
   ]
  },
  {
   "cell_type": "code",
   "execution_count": 283,
   "metadata": {},
   "outputs": [
    {
     "data": {
      "text/plain": [
       "(2388, 3, 1024)"
      ]
     },
     "execution_count": 283,
     "metadata": {},
     "output_type": "execute_result"
    }
   ],
   "source": [
    "reshaped_embeddings.shape"
   ]
  },
  {
   "cell_type": "code",
   "execution_count": 284,
   "metadata": {},
   "outputs": [
    {
     "data": {
      "text/plain": [
       "(3, 1024)"
      ]
     },
     "execution_count": 284,
     "metadata": {},
     "output_type": "execute_result"
    }
   ],
   "source": [
    "np.array(embeddings[0]).reshape(-1, 1024).shape"
   ]
  },
  {
   "cell_type": "code",
   "execution_count": 285,
   "metadata": {},
   "outputs": [],
   "source": [
    "import matplotlib.pyplot as plt\n",
    "from sklearn.manifold import TSNE\n",
    "\n",
    "\n",
    "def plot_tsne(embeddings, emb_map, perplexity=30, n_iter=1000, random_state=42):\n",
    "    # Flatten embeddings if necessary\n",
    "    embeddings = np.array([emb.flatten() for emb in embeddings])\n",
    "\n",
    "    # Perform t-SNE\n",
    "    tsne = TSNE(\n",
    "        n_components=2, perplexity=perplexity, n_iter=n_iter, random_state=random_state\n",
    "    )\n",
    "    tsne_result = tsne.fit_transform(embeddings)\n",
    "\n",
    "    # Plot the result\n",
    "    # plt.figure(figsize=(10, 10))\n",
    "    # plt.scatter(tsne_result[:, 0], tsne_result[:, 1], s=2, cmap=\"Spectral\")\n",
    "    # plt.title(\"t-SNE of Region Embeddings\")\n",
    "    # plt.show()\n",
    "\n",
    "    return tsne_result\n"
   ]
  },
  {
   "cell_type": "code",
   "execution_count": 286,
   "metadata": {},
   "outputs": [
    {
     "name": "stderr",
     "output_type": "stream",
     "text": [
      "c:\\Users\\DryLab\\anaconda3\\envs\\ViLLA\\lib\\site-packages\\sklearn\\manifold\\_t_sne.py:1162: FutureWarning: 'n_iter' was renamed to 'max_iter' in version 1.5 and will be removed in 1.7.\n",
      "  warnings.warn(\n"
     ]
    }
   ],
   "source": [
    "tsne_results = plot_tsne(embeddings, emb_map)"
   ]
  },
  {
   "cell_type": "code",
   "execution_count": 287,
   "metadata": {},
   "outputs": [
    {
     "data": {
      "text/plain": [
       "(2388, 2)"
      ]
     },
     "execution_count": 287,
     "metadata": {},
     "output_type": "execute_result"
    }
   ],
   "source": [
    "tsne_results.shape"
   ]
  },
  {
   "cell_type": "code",
   "execution_count": 288,
   "metadata": {},
   "outputs": [
    {
     "data": {
      "text/plain": [
       "(7164, 1)"
      ]
     },
     "execution_count": 288,
     "metadata": {},
     "output_type": "execute_result"
    }
   ],
   "source": [
    "labels = np.array([label for sublist in df[\"region_labels\"] for label in sublist])\n",
    "labels.shape"
   ]
  },
  {
   "cell_type": "code",
   "execution_count": 289,
   "metadata": {},
   "outputs": [
    {
     "data": {
      "image/png": "[encoded data removed]",
      "text/plain": [
       "<Figure size 1000x800 with 1 Axes>"
      ]
     },
     "metadata": {},
     "output_type": "display_data"
    }
   ],
   "source": [
    "import matplotlib.pyplot as plt\n",
    "\n",
    "flattened_embeddings = reshaped_embeddings.reshape(-1, 1024)\n",
    "\n",
    "# Perform t-SNE on the flattened embeddings\n",
    "tsne_results = TSNE(n_components=2, random_state=42).fit_transform(flattened_embeddings)\n",
    "\n",
    "# Map the labels to colors\n",
    "labels = labels.reshape(-1)\n",
    "color_map = {1: \"blue\", 2: \"green\", 3: \"red\"}\n",
    "colors = [color_map[label] for label in labels]\n",
    "\n",
    "# Create the t-SNE plot\n",
    "plt.figure(figsize=(10, 8))\n",
    "plt.scatter(tsne_results[:, 0], tsne_results[:, 1], c=colors)\n",
    "\n",
    "# Add a custom legend\n",
    "handles = [\n",
    "    plt.Line2D(\n",
    "        [0], [0], marker=\"o\", color=\"w\", markerfacecolor=color_map[lbl], markersize=10\n",
    "    )\n",
    "    for lbl in color_map\n",
    "]\n",
    "plt.legend(\n",
    "    handles,\n",
    "    [\"Right Lung (1)\", \"Left Lung (2)\", \"Heart (3)\"],\n",
    "    title=\"Region\",\n",
    "    bbox_to_anchor=(1.05, 1),\n",
    "    loc=\"upper left\",\n",
    ")\n",
    "\n",
    "# Add titles and labels\n",
    "plt.title(\"t-SNE Plot with Separate Points for Each Region\")\n",
    "plt.xlabel(\"Dimension 1\")\n",
    "plt.ylabel(\"Dimension 2\")\n",
    "\n",
    "# Show the plot\n",
    "plt.show()\n"
   ]
  },
  {
   "cell_type": "code",
   "execution_count": 97,
   "metadata": {},
   "outputs": [
    {
     "name": "stderr",
     "output_type": "stream",
     "text": [
      "C:\\Users\\DryLab\\AppData\\Local\\Temp\\ipykernel_4040\\58532624.py:6: FutureWarning: You are using `torch.load` with `weights_only=False` (the current default value), which uses the default pickle module implicitly. It is possible to construct malicious pickle data which will execute arbitrary code during unpickling (See https://github.com/pytorch/pytorch/blob/main/SECURITY.md#untrusted-models for more details). In a future release, the default value for `weights_only` will be flipped to `True`. This limits the functions that could be executed during unpickling. Arbitrary objects will no longer be allowed to be loaded via this mode unless they are explicitly allowlisted by the user via `torch.serialization.add_safe_globals`. We recommend you start setting `weights_only=True` for any use case where you don't have full control of the loaded file. Please open an issue on GitHub for any issues related to this experimental feature.\n",
      "  attr_to_emb = torch.load(\"C:/Users/DryLab/Desktop/ViLLA/data/open-i/attr_embs.pth\")\n"
     ]
    },
    {
     "data": {
      "image/png": "[encoded data removed]",
      "text/plain": [
       "<Figure size 1400x1000 with 1 Axes>"
      ]
     },
     "metadata": {},
     "output_type": "display_data"
    }
   ],
   "source": [
    "import matplotlib.pyplot as plt\n",
    "import torch\n",
    "from sklearn.manifold import TSNE\n",
    "\n",
    "# Load the attribute embeddings\n",
    "attr_to_emb = torch.load(\"C:/Users/DryLab/Desktop/ViLLA/data/open-i/attr_embs.pth\")\n",
    "attributes = list(attr_to_emb.keys())\n",
    "attribute_embeddings = np.array([attr_to_emb[attr] for attr in attributes])\n",
    "\n",
    "# Perform t-SNE\n",
    "tsne = TSNE(n_components=2, random_state=42)\n",
    "embeddings_2d = tsne.fit_transform(attribute_embeddings)\n",
    "\n",
    "# Create the plot\n",
    "plt.figure(figsize=(14, 10))\n",
    "\n",
    "# Plot the points\n",
    "plt.scatter(\n",
    "    embeddings_2d[:, 0], embeddings_2d[:, 1], color=\"blue\", s=10\n",
    ")  # s sets the point size\n",
    "\n",
    "# Add labels with slight offsets\n",
    "for i, attribute in enumerate(attributes):\n",
    "    plt.annotate(\n",
    "        attribute,\n",
    "        (embeddings_2d[i, 0], embeddings_2d[i, 1]),\n",
    "        textcoords=\"offset points\",\n",
    "        xytext=(5, 5),  # Adjust this to move labels\n",
    "        ha=\"right\",  # Horizontal alignment\n",
    "        fontsize=9,  # Font size can be adjusted here\n",
    "    )\n",
    "\n",
    "plt.title(\"t-SNE of Attribute Embeddings\")\n",
    "plt.xlabel(\"t-SNE Dimension 1\")\n",
    "plt.ylabel(\"t-SNE Dimension 2\")\n",
    "plt.grid(True)\n",
    "plt.show()"
   ]
  },
  {
   "cell_type": "markdown",
   "metadata": {},
   "source": [
    "### Check Mapping Results\n"
   ]
  },
  {
   "cell_type": "code",
   "execution_count": 82,
   "metadata": {},
   "outputs": [],
   "source": [
    "mapping_train = pd.read_feather(\n",
    "    \"C:/Users/DryLab/Desktop/ViLLA/checkpoints/mimic_stage1/runs/Sep02_10-55-53_DryLab/mapping_train.feather\"\n",
    ")\n",
    "\n",
    "mapping_train = pd.read_feather(\n",
    "    \"C:/Users/DryLab/Desktop/ViLLA/checkpoints/mimic_stage1/mapping_train.feather\"\n",
    ")"
   ]
  },
  {
   "cell_type": "code",
   "execution_count": 83,
   "metadata": {},
   "outputs": [
    {
     "data": {
      "text/html": [
       "<div>\n",
       "<style scoped>\n",
       "    .dataframe tbody tr th:only-of-type {\n",
       "        vertical-align: middle;\n",
       "    }\n",
       "\n",
       "    .dataframe tbody tr th {\n",
       "        vertical-align: top;\n",
       "    }\n",
       "\n",
       "    .dataframe thead th {\n",
       "        text-align: right;\n",
       "    }\n",
       "</style>\n",
       "<table border=\"1\" class=\"dataframe\">\n",
       "  <thead>\n",
       "    <tr style=\"text-align: right;\">\n",
       "      <th></th>\n",
       "      <th>image_id</th>\n",
       "      <th>image_size</th>\n",
       "      <th>image_filepath</th>\n",
       "      <th>region_coord</th>\n",
       "      <th>region_bbox</th>\n",
       "      <th>region_labels</th>\n",
       "      <th>num_regions</th>\n",
       "      <th>text_report</th>\n",
       "      <th>text</th>\n",
       "      <th>sentences</th>\n",
       "      <th>attributes</th>\n",
       "      <th>split</th>\n",
       "      <th>assigned_attributes</th>\n",
       "      <th>assigned_text</th>\n",
       "    </tr>\n",
       "  </thead>\n",
       "  <tbody>\n",
       "    <tr>\n",
       "      <th>0</th>\n",
       "      <td>0</td>\n",
       "      <td>[224, 224]</td>\n",
       "      <td>C:/Users/DryLab/Desktop/ViLLA/Xray/X ray/CD pn...</td>\n",
       "      <td>[[0, 0, 0, 0, 0, 0, 0, 0, 0, 0, 0, 0, 0, 0, 0,...</td>\n",
       "      <td>[[132, 20, 211, 166], [16, 19, 105, 184], [83,...</td>\n",
       "      <td>[[1], [2], [3]]</td>\n",
       "      <td>3</td>\n",
       "      <td>2016.02.03\\nNormal  heart  size  and  configur...</td>\n",
       "      <td>normal heart size and configuration sharp cos...</td>\n",
       "      <td>[ normal heart size and configuration sharp co...</td>\n",
       "      <td>[enlargement, infiltrations]</td>\n",
       "      <td>train</td>\n",
       "      <td>[[], [enlargement, infiltrations], []]</td>\n",
       "      <td>[, suspicious enlargement of right hilum perib...</td>\n",
       "    </tr>\n",
       "    <tr>\n",
       "      <th>1</th>\n",
       "      <td>1</td>\n",
       "      <td>[224, 224]</td>\n",
       "      <td>C:/Users/DryLab/Desktop/ViLLA/Xray/X ray/CD pn...</td>\n",
       "      <td>[[0, 0, 0, 0, 0, 0, 0, 0, 0, 0, 0, 0, 0, 0, 0,...</td>\n",
       "      <td>[[111, 16, 207, 192], [22, 24, 90, 166], [85, ...</td>\n",
       "      <td>[[1], [2], [3]]</td>\n",
       "      <td>3</td>\n",
       "      <td>Tortuous thoracic aorta and cardiomegaly. \\n I...</td>\n",
       "      <td>tortuous thoracic aorta and cardiomegaly . int...</td>\n",
       "      <td>[tortuous thoracic aorta and cardiomegaly ., i...</td>\n",
       "      <td>[infiltration, kyphoscoliosis, opacities]</td>\n",
       "      <td>train</td>\n",
       "      <td>[[], [kyphoscoliosis], [infiltration, opacities]]</td>\n",
       "      <td>[, kyphoscoliosis of t - l spine, interstitial...</td>\n",
       "    </tr>\n",
       "    <tr>\n",
       "      <th>2</th>\n",
       "      <td>2</td>\n",
       "      <td>[224, 224]</td>\n",
       "      <td>C:/Users/DryLab/Desktop/ViLLA/Xray/X ray/CD pn...</td>\n",
       "      <td>[[0, 0, 0, 0, 0, 0, 0, 0, 0, 0, 0, 0, 0, 0, 0,...</td>\n",
       "      <td>[[127, 18, 201, 206], [27, 21, 105, 170], [94,...</td>\n",
       "      <td>[[1], [2], [3]]</td>\n",
       "      <td>3</td>\n",
       "      <td>2016.03.12\\nS/P  tracheostomy  \\nIncreased  in...</td>\n",
       "      <td>s / p tracheostomy increased infiltration ove...</td>\n",
       "      <td>[ s / p tracheostomy increased infiltration ov...</td>\n",
       "      <td>[infiltration]</td>\n",
       "      <td>train</td>\n",
       "      <td>[[], [], [infiltration]]</td>\n",
       "      <td>[, , s / p tracheostomy increased infiltration...</td>\n",
       "    </tr>\n",
       "    <tr>\n",
       "      <th>3</th>\n",
       "      <td>3</td>\n",
       "      <td>[224, 224]</td>\n",
       "      <td>C:/Users/DryLab/Desktop/ViLLA/Xray/X ray/CD pn...</td>\n",
       "      <td>[[0, 0, 0, 0, 0, 0, 0, 0, 0, 0, 0, 0, 0, 0, 0,...</td>\n",
       "      <td>[[126, 11, 201, 171], [9, 9, 99, 165], [78, 89...</td>\n",
       "      <td>[[1], [2], [3]]</td>\n",
       "      <td>3</td>\n",
       "      <td>2016.01.06\\nNormal  heart  size  and  configur...</td>\n",
       "      <td>normal heart size and configuration . peribro...</td>\n",
       "      <td>[ normal heart size and configuration ., perib...</td>\n",
       "      <td>[formation, infiltration]</td>\n",
       "      <td>train</td>\n",
       "      <td>[[formation], [], [infiltration]]</td>\n",
       "      <td>[lower lungs interstitial infiltration over ri...</td>\n",
       "    </tr>\n",
       "    <tr>\n",
       "      <th>4</th>\n",
       "      <td>4</td>\n",
       "      <td>[224, 224]</td>\n",
       "      <td>C:/Users/DryLab/Desktop/ViLLA/Xray/X ray/CD pn...</td>\n",
       "      <td>[[0, 0, 0, 0, 0, 0, 0, 0, 0, 0, 0, 0, 0, 0, 0,...</td>\n",
       "      <td>[[132, 21, 210, 189], [20, 19, 104, 154], [77,...</td>\n",
       "      <td>[[1], [2], [3]]</td>\n",
       "      <td>3</td>\n",
       "      <td>Consolidation and alveolar infiltration in the...</td>\n",
       "      <td>consolidation and alveolar infiltration in the...</td>\n",
       "      <td>[consolidation and alveolar infiltration in th...</td>\n",
       "      <td>[borderline, consolidation, infiltration]</td>\n",
       "      <td>train</td>\n",
       "      <td>[[], [consolidation], [borderline, infiltration]]</td>\n",
       "      <td>[, consolidation and alveolar infiltration in ...</td>\n",
       "    </tr>\n",
       "    <tr>\n",
       "      <th>...</th>\n",
       "      <td>...</td>\n",
       "      <td>...</td>\n",
       "      <td>...</td>\n",
       "      <td>...</td>\n",
       "      <td>...</td>\n",
       "      <td>...</td>\n",
       "      <td>...</td>\n",
       "      <td>...</td>\n",
       "      <td>...</td>\n",
       "      <td>...</td>\n",
       "      <td>...</td>\n",
       "      <td>...</td>\n",
       "      <td>...</td>\n",
       "      <td>...</td>\n",
       "    </tr>\n",
       "    <tr>\n",
       "      <th>92</th>\n",
       "      <td>92</td>\n",
       "      <td>[224, 224]</td>\n",
       "      <td>C:/Users/DryLab/Desktop/ViLLA/Xray/X ray/CD pn...</td>\n",
       "      <td>[[0, 0, 0, 0, 0, 0, 0, 0, 0, 0, 0, 0, 0, 0, 0,...</td>\n",
       "      <td>[[122, 35, 202, 182], [18, 38, 93, 181], [83, ...</td>\n",
       "      <td>[[1], [2], [3]]</td>\n",
       "      <td>3</td>\n",
       "      <td>2016.02.29\\nChange  position  to  sitting.  \\n...</td>\n",
       "      <td>change position to sitting . tortuous aortic ...</td>\n",
       "      <td>[ change position to sitting ., tortuous aorti...</td>\n",
       "      <td>[arteriosclerosis, calcification, change, form...</td>\n",
       "      <td>train</td>\n",
       "      <td>[[calcification, change, formation], [arterios...</td>\n",
       "      <td>[tortuous aortic arch with intimal calcificati...</td>\n",
       "    </tr>\n",
       "    <tr>\n",
       "      <th>93</th>\n",
       "      <td>93</td>\n",
       "      <td>[224, 224]</td>\n",
       "      <td>C:/Users/DryLab/Desktop/ViLLA/Xray/X ray/CD pn...</td>\n",
       "      <td>[[0, 0, 0, 0, 0, 0, 0, 0, 0, 0, 0, 0, 0, 0, 0,...</td>\n",
       "      <td>[[125, 14, 201, 185], [8, 14, 100, 143], [79, ...</td>\n",
       "      <td>[[1], [2], [3]]</td>\n",
       "      <td>3</td>\n",
       "      <td>Elevation of the left hemidiaphragm\\nIncreased...</td>\n",
       "      <td>elevation of the left hemidiaphragm increased ...</td>\n",
       "      <td>[elevation of the left hemidiaphragm increased...</td>\n",
       "      <td>[elevation, infiltration]</td>\n",
       "      <td>train</td>\n",
       "      <td>[[], [elevation], [infiltration]]</td>\n",
       "      <td>[, elevation of the left hemidiaphragm increas...</td>\n",
       "    </tr>\n",
       "    <tr>\n",
       "      <th>94</th>\n",
       "      <td>94</td>\n",
       "      <td>[224, 224]</td>\n",
       "      <td>C:/Users/DryLab/Desktop/ViLLA/Xray/X ray/CD pn...</td>\n",
       "      <td>[[0, 0, 0, 0, 0, 0, 0, 0, 0, 0, 0, 0, 0, 0, 0,...</td>\n",
       "      <td>[[129, 19, 201, 173], [29, 20, 104, 176], [87,...</td>\n",
       "      <td>[[1], [2], [3]]</td>\n",
       "      <td>3</td>\n",
       "      <td>2019-11-26\\nThe  heart  shadow  is  normal  in...</td>\n",
       "      <td>the heart shadow is normal in size .</td>\n",
       "      <td>[  the heart shadow is normal in size .]</td>\n",
       "      <td>[shadow]</td>\n",
       "      <td>train</td>\n",
       "      <td>[[], [], [shadow]]</td>\n",
       "      <td>[, , the heart shadow is normal in size]</td>\n",
       "    </tr>\n",
       "    <tr>\n",
       "      <th>95</th>\n",
       "      <td>95</td>\n",
       "      <td>[224, 224]</td>\n",
       "      <td>C:/Users/DryLab/Desktop/ViLLA/Xray/X ray/CD pn...</td>\n",
       "      <td>[[0, 0, 0, 0, 0, 0, 0, 0, 0, 0, 0, 0, 0, 0, 0,...</td>\n",
       "      <td>[[129, 16, 192, 174], [32, 18, 105, 172], [87,...</td>\n",
       "      <td>[[1], [2], [3]]</td>\n",
       "      <td>3</td>\n",
       "      <td>2018/1/28\\nRadiography  of  Chest  P-A  View(S...</td>\n",
       "      <td>radiography of chest p - a view ( standing ) ...</td>\n",
       "      <td>[ radiography of chest p - a view ( standing )...</td>\n",
       "      <td>[hyperinflation, infiltration, opacities]</td>\n",
       "      <td>train</td>\n",
       "      <td>[[], [], [hyperinflation, infiltration, opacit...</td>\n",
       "      <td>[, , radiography of chest p - a view ( standin...</td>\n",
       "    </tr>\n",
       "    <tr>\n",
       "      <th>96</th>\n",
       "      <td>96</td>\n",
       "      <td>[224, 224]</td>\n",
       "      <td>C:/Users/DryLab/Desktop/ViLLA/Xray/X ray/CD pn...</td>\n",
       "      <td>[[0, 0, 0, 0, 0, 0, 0, 0, 0, 0, 0, 0, 0, 0, 0,...</td>\n",
       "      <td>[[121, 22, 216, 187], [13, 26, 97, 172], [77, ...</td>\n",
       "      <td>[[1], [2], [3]]</td>\n",
       "      <td>3</td>\n",
       "      <td>Endotracheal  tube  in  place  \\nProper  NG  i...</td>\n",
       "      <td>endotracheal tube in place proper ng intubatio...</td>\n",
       "      <td>[endotracheal tube in place proper ng intubati...</td>\n",
       "      <td>[endotracheal, intubation, place, tip, tube]</td>\n",
       "      <td>train</td>\n",
       "      <td>[[], [place, tip, tube], [endotracheal, intuba...</td>\n",
       "      <td>[, endotracheal tube in place proper ng intuba...</td>\n",
       "    </tr>\n",
       "  </tbody>\n",
       "</table>\n",
       "<p>97 rows × 14 columns</p>\n",
       "</div>"
      ],
      "text/plain": [
       "    image_id  image_size                                     image_filepath  \\\n",
       "0          0  [224, 224]  C:/Users/DryLab/Desktop/ViLLA/Xray/X ray/CD pn...   \n",
       "1          1  [224, 224]  C:/Users/DryLab/Desktop/ViLLA/Xray/X ray/CD pn...   \n",
       "2          2  [224, 224]  C:/Users/DryLab/Desktop/ViLLA/Xray/X ray/CD pn...   \n",
       "3          3  [224, 224]  C:/Users/DryLab/Desktop/ViLLA/Xray/X ray/CD pn...   \n",
       "4          4  [224, 224]  C:/Users/DryLab/Desktop/ViLLA/Xray/X ray/CD pn...   \n",
       "..       ...         ...                                                ...   \n",
       "92        92  [224, 224]  C:/Users/DryLab/Desktop/ViLLA/Xray/X ray/CD pn...   \n",
       "93        93  [224, 224]  C:/Users/DryLab/Desktop/ViLLA/Xray/X ray/CD pn...   \n",
       "94        94  [224, 224]  C:/Users/DryLab/Desktop/ViLLA/Xray/X ray/CD pn...   \n",
       "95        95  [224, 224]  C:/Users/DryLab/Desktop/ViLLA/Xray/X ray/CD pn...   \n",
       "96        96  [224, 224]  C:/Users/DryLab/Desktop/ViLLA/Xray/X ray/CD pn...   \n",
       "\n",
       "                                         region_coord  \\\n",
       "0   [[0, 0, 0, 0, 0, 0, 0, 0, 0, 0, 0, 0, 0, 0, 0,...   \n",
       "1   [[0, 0, 0, 0, 0, 0, 0, 0, 0, 0, 0, 0, 0, 0, 0,...   \n",
       "2   [[0, 0, 0, 0, 0, 0, 0, 0, 0, 0, 0, 0, 0, 0, 0,...   \n",
       "3   [[0, 0, 0, 0, 0, 0, 0, 0, 0, 0, 0, 0, 0, 0, 0,...   \n",
       "4   [[0, 0, 0, 0, 0, 0, 0, 0, 0, 0, 0, 0, 0, 0, 0,...   \n",
       "..                                                ...   \n",
       "92  [[0, 0, 0, 0, 0, 0, 0, 0, 0, 0, 0, 0, 0, 0, 0,...   \n",
       "93  [[0, 0, 0, 0, 0, 0, 0, 0, 0, 0, 0, 0, 0, 0, 0,...   \n",
       "94  [[0, 0, 0, 0, 0, 0, 0, 0, 0, 0, 0, 0, 0, 0, 0,...   \n",
       "95  [[0, 0, 0, 0, 0, 0, 0, 0, 0, 0, 0, 0, 0, 0, 0,...   \n",
       "96  [[0, 0, 0, 0, 0, 0, 0, 0, 0, 0, 0, 0, 0, 0, 0,...   \n",
       "\n",
       "                                          region_bbox    region_labels  \\\n",
       "0   [[132, 20, 211, 166], [16, 19, 105, 184], [83,...  [[1], [2], [3]]   \n",
       "1   [[111, 16, 207, 192], [22, 24, 90, 166], [85, ...  [[1], [2], [3]]   \n",
       "2   [[127, 18, 201, 206], [27, 21, 105, 170], [94,...  [[1], [2], [3]]   \n",
       "3   [[126, 11, 201, 171], [9, 9, 99, 165], [78, 89...  [[1], [2], [3]]   \n",
       "4   [[132, 21, 210, 189], [20, 19, 104, 154], [77,...  [[1], [2], [3]]   \n",
       "..                                                ...              ...   \n",
       "92  [[122, 35, 202, 182], [18, 38, 93, 181], [83, ...  [[1], [2], [3]]   \n",
       "93  [[125, 14, 201, 185], [8, 14, 100, 143], [79, ...  [[1], [2], [3]]   \n",
       "94  [[129, 19, 201, 173], [29, 20, 104, 176], [87,...  [[1], [2], [3]]   \n",
       "95  [[129, 16, 192, 174], [32, 18, 105, 172], [87,...  [[1], [2], [3]]   \n",
       "96  [[121, 22, 216, 187], [13, 26, 97, 172], [77, ...  [[1], [2], [3]]   \n",
       "\n",
       "    num_regions                                        text_report  \\\n",
       "0             3  2016.02.03\\nNormal  heart  size  and  configur...   \n",
       "1             3  Tortuous thoracic aorta and cardiomegaly. \\n I...   \n",
       "2             3  2016.03.12\\nS/P  tracheostomy  \\nIncreased  in...   \n",
       "3             3  2016.01.06\\nNormal  heart  size  and  configur...   \n",
       "4             3  Consolidation and alveolar infiltration in the...   \n",
       "..          ...                                                ...   \n",
       "92            3  2016.02.29\\nChange  position  to  sitting.  \\n...   \n",
       "93            3  Elevation of the left hemidiaphragm\\nIncreased...   \n",
       "94            3  2019-11-26\\nThe  heart  shadow  is  normal  in...   \n",
       "95            3  2018/1/28\\nRadiography  of  Chest  P-A  View(S...   \n",
       "96            3  Endotracheal  tube  in  place  \\nProper  NG  i...   \n",
       "\n",
       "                                                 text  \\\n",
       "0    normal heart size and configuration sharp cos...   \n",
       "1   tortuous thoracic aorta and cardiomegaly . int...   \n",
       "2    s / p tracheostomy increased infiltration ove...   \n",
       "3    normal heart size and configuration . peribro...   \n",
       "4   consolidation and alveolar infiltration in the...   \n",
       "..                                                ...   \n",
       "92   change position to sitting . tortuous aortic ...   \n",
       "93  elevation of the left hemidiaphragm increased ...   \n",
       "94               the heart shadow is normal in size .   \n",
       "95   radiography of chest p - a view ( standing ) ...   \n",
       "96  endotracheal tube in place proper ng intubatio...   \n",
       "\n",
       "                                            sentences  \\\n",
       "0   [ normal heart size and configuration sharp co...   \n",
       "1   [tortuous thoracic aorta and cardiomegaly ., i...   \n",
       "2   [ s / p tracheostomy increased infiltration ov...   \n",
       "3   [ normal heart size and configuration ., perib...   \n",
       "4   [consolidation and alveolar infiltration in th...   \n",
       "..                                                ...   \n",
       "92  [ change position to sitting ., tortuous aorti...   \n",
       "93  [elevation of the left hemidiaphragm increased...   \n",
       "94           [  the heart shadow is normal in size .]   \n",
       "95  [ radiography of chest p - a view ( standing )...   \n",
       "96  [endotracheal tube in place proper ng intubati...   \n",
       "\n",
       "                                           attributes  split  \\\n",
       "0                        [enlargement, infiltrations]  train   \n",
       "1           [infiltration, kyphoscoliosis, opacities]  train   \n",
       "2                                      [infiltration]  train   \n",
       "3                           [formation, infiltration]  train   \n",
       "4           [borderline, consolidation, infiltration]  train   \n",
       "..                                                ...    ...   \n",
       "92  [arteriosclerosis, calcification, change, form...  train   \n",
       "93                          [elevation, infiltration]  train   \n",
       "94                                           [shadow]  train   \n",
       "95          [hyperinflation, infiltration, opacities]  train   \n",
       "96       [endotracheal, intubation, place, tip, tube]  train   \n",
       "\n",
       "                                  assigned_attributes  \\\n",
       "0              [[], [enlargement, infiltrations], []]   \n",
       "1   [[], [kyphoscoliosis], [infiltration, opacities]]   \n",
       "2                            [[], [], [infiltration]]   \n",
       "3                   [[formation], [], [infiltration]]   \n",
       "4   [[], [consolidation], [borderline, infiltration]]   \n",
       "..                                                ...   \n",
       "92  [[calcification, change, formation], [arterios...   \n",
       "93                  [[], [elevation], [infiltration]]   \n",
       "94                                 [[], [], [shadow]]   \n",
       "95  [[], [], [hyperinflation, infiltration, opacit...   \n",
       "96  [[], [place, tip, tube], [endotracheal, intuba...   \n",
       "\n",
       "                                        assigned_text  \n",
       "0   [, suspicious enlargement of right hilum perib...  \n",
       "1   [, kyphoscoliosis of t - l spine, interstitial...  \n",
       "2   [, , s / p tracheostomy increased infiltration...  \n",
       "3   [lower lungs interstitial infiltration over ri...  \n",
       "4   [, consolidation and alveolar infiltration in ...  \n",
       "..                                                ...  \n",
       "92  [tortuous aortic arch with intimal calcificati...  \n",
       "93  [, elevation of the left hemidiaphragm increas...  \n",
       "94           [, , the heart shadow is normal in size]  \n",
       "95  [, , radiography of chest p - a view ( standin...  \n",
       "96  [, endotracheal tube in place proper ng intuba...  \n",
       "\n",
       "[97 rows x 14 columns]"
      ]
     },
     "execution_count": 83,
     "metadata": {},
     "output_type": "execute_result"
    }
   ],
   "source": [
    "mapping_train"
   ]
  },
  {
   "cell_type": "code",
   "execution_count": 85,
   "metadata": {},
   "outputs": [
    {
     "data": {
      "text/plain": [
       "image_id                                                               3\n",
       "image_size                                                    [224, 224]\n",
       "image_filepath         C:/Users/DryLab/Desktop/ViLLA/Xray/X ray/CD pn...\n",
       "region_coord           [[0, 0, 0, 0, 0, 0, 0, 0, 0, 0, 0, 0, 0, 0, 0,...\n",
       "region_bbox            [[126, 11, 201, 171], [9, 9, 99, 165], [78, 89...\n",
       "region_labels                                            [[1], [2], [3]]\n",
       "num_regions                                                            3\n",
       "text_report            2016.01.06\\nNormal  heart  size  and  configur...\n",
       "text                    normal heart size and configuration . peribro...\n",
       "sentences              [ normal heart size and configuration ., perib...\n",
       "attributes                                     [formation, infiltration]\n",
       "split                                                              train\n",
       "assigned_attributes                    [[formation], [], [infiltration]]\n",
       "assigned_text          [lower lungs interstitial infiltration over ri...\n",
       "Name: 3, dtype: object"
      ]
     },
     "execution_count": 85,
     "metadata": {},
     "output_type": "execute_result"
    }
   ],
   "source": [
    "mapping_train.iloc[3]"
   ]
  },
  {
   "cell_type": "code",
   "execution_count": 86,
   "metadata": {},
   "outputs": [
    {
     "data": {
      "text/plain": [
       "array(['formation', 'infiltration'], dtype=object)"
      ]
     },
     "execution_count": 86,
     "metadata": {},
     "output_type": "execute_result"
    }
   ],
   "source": [
    "mapping_train.iloc[3][\"attributes\"]"
   ]
  },
  {
   "cell_type": "code",
   "execution_count": 87,
   "metadata": {},
   "outputs": [
    {
     "data": {
      "text/plain": [
       "array(['lower lungs interstitial infiltration over right lower chest degenerative change of thoracolumbar spine with spurs formation',\n",
       "       '',\n",
       "       'lower lungs interstitial infiltration over right lower chest degenerative change of thoracolumbar spine with spurs formation'],\n",
       "      dtype=object)"
      ]
     },
     "execution_count": 87,
     "metadata": {},
     "output_type": "execute_result"
    }
   ],
   "source": [
    "mapping_train.iloc[3].assigned_text"
   ]
  },
  {
   "cell_type": "code",
   "execution_count": 88,
   "metadata": {},
   "outputs": [
    {
     "data": {
      "text/plain": [
       "array([array(['formation'], dtype=object), array([], dtype=object),\n",
       "       array(['infiltration'], dtype=object)], dtype=object)"
      ]
     },
     "execution_count": 88,
     "metadata": {},
     "output_type": "execute_result"
    }
   ],
   "source": [
    "mapping_train.iloc[3].assigned_attributes"
   ]
  },
  {
   "cell_type": "code",
   "execution_count": 89,
   "metadata": {},
   "outputs": [
    {
     "data": {
      "text/plain": [
       "array(['formation', 'infiltration'], dtype=object)"
      ]
     },
     "execution_count": 89,
     "metadata": {},
     "output_type": "execute_result"
    }
   ],
   "source": [
    "mapping_train.iloc[3].attributes"
   ]
  },
  {
   "cell_type": "code",
   "execution_count": 90,
   "metadata": {},
   "outputs": [
    {
     "data": {
      "text/plain": [
       "' normal heart size and configuration . peribronchial thickening at bil . lower lungs interstitial infiltration over right lower chest degenerative change of thoracolumbar spine with spurs formation . osteoporotic change of visible bony structure'"
      ]
     },
     "execution_count": 90,
     "metadata": {},
     "output_type": "execute_result"
    }
   ],
   "source": [
    "mapping_train.iloc[3].text"
   ]
  },
  {
   "cell_type": "code",
   "execution_count": 91,
   "metadata": {},
   "outputs": [
    {
     "data": {
      "text/html": [
       "<pre style=\"white-space:pre;overflow-x:auto;line-height:normal;font-family:Menlo,'DejaVu Sans Mono',consolas,'Courier New',monospace\">Total empty labels for each region:\n",
       "</pre>\n"
      ],
      "text/plain": [
       "Total empty labels for each region:\n"
      ]
     },
     "metadata": {},
     "output_type": "display_data"
    },
    {
     "data": {
      "text/html": [
       "<pre style=\"white-space:pre;overflow-x:auto;line-height:normal;font-family:Menlo,'DejaVu Sans Mono',consolas,'Courier New',monospace\">REGION <span style=\"color: #008080; text-decoration-color: #008080; font-weight: bold\">1</span>: <span style=\"color: #008080; text-decoration-color: #008080; font-weight: bold\">62</span> empty findings\n",
       "</pre>\n"
      ],
      "text/plain": [
       "REGION \u001b[1;36m1\u001b[0m: \u001b[1;36m62\u001b[0m empty findings\n"
      ]
     },
     "metadata": {},
     "output_type": "display_data"
    },
    {
     "data": {
      "text/html": [
       "<pre style=\"white-space:pre;overflow-x:auto;line-height:normal;font-family:Menlo,'DejaVu Sans Mono',consolas,'Courier New',monospace\">REGION <span style=\"color: #008080; text-decoration-color: #008080; font-weight: bold\">3</span>: <span style=\"color: #008080; text-decoration-color: #008080; font-weight: bold\">22</span> empty findings\n",
       "</pre>\n"
      ],
      "text/plain": [
       "REGION \u001b[1;36m3\u001b[0m: \u001b[1;36m22\u001b[0m empty findings\n"
      ]
     },
     "metadata": {},
     "output_type": "display_data"
    },
    {
     "data": {
      "text/html": [
       "<pre style=\"white-space:pre;overflow-x:auto;line-height:normal;font-family:Menlo,'DejaVu Sans Mono',consolas,'Courier New',monospace\">REGION <span style=\"color: #008080; text-decoration-color: #008080; font-weight: bold\">2</span>: <span style=\"color: #008080; text-decoration-color: #008080; font-weight: bold\">48</span> empty findings\n",
       "</pre>\n"
      ],
      "text/plain": [
       "REGION \u001b[1;36m2\u001b[0m: \u001b[1;36m48\u001b[0m empty findings\n"
      ]
     },
     "metadata": {},
     "output_type": "display_data"
    }
   ],
   "source": [
    "from collections import defaultdict\n",
    "\n",
    "import pandas as pd\n",
    "\n",
    "# Initialize counters for empty findings\n",
    "empty_counts = defaultdict(int)  # Using defaultdict to avoid key errors\n",
    "\n",
    "# Loop through all rows in the dataframe\n",
    "for index, row in mapping_train.iterrows():\n",
    "    mappings = row[\"assigned_text\"]\n",
    "\n",
    "    # Iterate over each region\n",
    "    for i in range(len(mappings)):\n",
    "        region_attributes = mappings[i]\n",
    "        if not region_attributes:  # Check if the region's attribute list is empty\n",
    "            empty_counts[i + 1] += (\n",
    "                1  # Increment empty count for the corresponding region\n",
    "            )\n",
    "\n",
    "# Print total empty labels for each region\n",
    "print(\"Total empty labels for each region:\")\n",
    "for region, count in empty_counts.items():\n",
    "    print(f\"REGION {region}: {count} empty findings\")\n"
   ]
  },
  {
   "cell_type": "code",
   "execution_count": 92,
   "metadata": {},
   "outputs": [],
   "source": [
    "import matplotlib.patches as patches\n",
    "\n",
    "\n",
    "def plot_bounding_boxes_for_index(\n",
    "    df, index, image_column=\"image_filepath\", bbox_column=\"region_bbox\"\n",
    "):\n",
    "    # Load the image using the index\n",
    "    image_path = df[image_column].iloc[index]\n",
    "    image = Image.open(image_path).convert(\"L\")\n",
    "    image = image.resize((224, 224))\n",
    "\n",
    "    # Extract the bounding boxes\n",
    "    bounding_boxes = df[bbox_column].iloc[index]\n",
    "\n",
    "    # Plot the image with bounding boxes\n",
    "    fig, ax = plt.subplots(1)\n",
    "    ax.imshow(image, cmap=\"gray\")\n",
    "\n",
    "    # Unpack the bounding boxes\n",
    "    left_lung_bbox = bounding_boxes[0]\n",
    "    right_lung_bbox = bounding_boxes[1]\n",
    "    heart_bbox = bounding_boxes[2]\n",
    "\n",
    "    # Define bounding boxes' colors\n",
    "    colors = [\"r\", \"g\", \"b\"]  # Red for right lung, Green for left lung, Blue for heart\n",
    "\n",
    "    # Create rectangles for each bounding box and add them to the plot\n",
    "    for bbox, color in zip([left_lung_bbox, right_lung_bbox, heart_bbox], colors):\n",
    "        if not np.array_equal(\n",
    "            bbox, [0, 0, 0, 0]\n",
    "        ):  # Skip if the bbox is just a placeholder\n",
    "            rect = patches.Rectangle(\n",
    "                (bbox[0], bbox[1]),\n",
    "                bbox[2] - bbox[0],\n",
    "                bbox[3] - bbox[1],\n",
    "                linewidth=2,\n",
    "                edgecolor=color,\n",
    "                facecolor=\"none\",\n",
    "            )\n",
    "            ax.add_patch(rect)\n",
    "\n",
    "    # Hide axis and show the plot\n",
    "    plt.title(f\"Bounding Boxes for Image {index}\")\n",
    "    plt.axis(False)\n",
    "    plt.show()"
   ]
  },
  {
   "cell_type": "code",
   "execution_count": 96,
   "metadata": {},
   "outputs": [
    {
     "data": {
      "image/png": "[encoded data removed]",
      "text/plain": [
       "<Figure size 640x480 with 1 Axes>"
      ]
     },
     "metadata": {},
     "output_type": "display_data"
    },
    {
     "data": {
      "text/html": [
       "<pre style=\"white-space:pre;overflow-x:auto;line-height:normal;font-family:Menlo,'DejaVu Sans Mono',consolas,'Courier New',monospace\">Original Text Report: bronchopneumonia at lll retrocardiac portion . non specific mild peribronchial linear \n",
       "reticular opacities : may be mild pulmonary congestion and coexisting mild peribronchial viral interstitial changes\n",
       ".\n",
       "</pre>\n"
      ],
      "text/plain": [
       "Original Text Report: bronchopneumonia at lll retrocardiac portion . non specific mild peribronchial linear \n",
       "reticular opacities : may be mild pulmonary congestion and coexisting mild peribronchial viral interstitial changes\n",
       ".\n"
      ]
     },
     "metadata": {},
     "output_type": "display_data"
    },
    {
     "data": {
      "text/html": [
       "<pre style=\"white-space:pre;overflow-x:auto;line-height:normal;font-family:Menlo,'DejaVu Sans Mono',consolas,'Courier New',monospace\">Original Attributes: <span style=\"font-weight: bold\">[</span><span style=\"color: #008000; text-decoration-color: #008000\">'bronchopneumonia'</span> <span style=\"color: #008000; text-decoration-color: #008000\">'opacities'</span><span style=\"font-weight: bold\">]</span>\n",
       "</pre>\n"
      ],
      "text/plain": [
       "Original Attributes: \u001b[1m[\u001b[0m\u001b[32m'bronchopneumonia'\u001b[0m \u001b[32m'opacities'\u001b[0m\u001b[1m]\u001b[0m\n"
      ]
     },
     "metadata": {},
     "output_type": "display_data"
    },
    {
     "data": {
      "text/html": [
       "<pre style=\"white-space:pre;overflow-x:auto;line-height:normal;font-family:Menlo,'DejaVu Sans Mono',consolas,'Courier New',monospace\">REGION-ATTRIBUTE PAIRS <span style=\"color: #008080; text-decoration-color: #008080; font-weight: bold\">82</span>:\n",
       "</pre>\n"
      ],
      "text/plain": [
       "REGION-ATTRIBUTE PAIRS \u001b[1;36m82\u001b[0m:\n"
      ]
     },
     "metadata": {},
     "output_type": "display_data"
    },
    {
     "data": {
      "text/html": [
       "<pre style=\"white-space:pre;overflow-x:auto;line-height:normal;font-family:Menlo,'DejaVu Sans Mono',consolas,'Courier New',monospace\">        REGION <span style=\"color: #008080; text-decoration-color: #008080; font-weight: bold\">1</span> is empty!\n",
       "</pre>\n"
      ],
      "text/plain": [
       "        REGION \u001b[1;36m1\u001b[0m is empty!\n"
      ]
     },
     "metadata": {},
     "output_type": "display_data"
    },
    {
     "data": {
      "text/html": [
       "<pre style=\"white-space:pre;overflow-x:auto;line-height:normal;font-family:Menlo,'DejaVu Sans Mono',consolas,'Courier New',monospace\">        REGION <span style=\"color: #008080; text-decoration-color: #008080; font-weight: bold\">2</span> is empty!\n",
       "</pre>\n"
      ],
      "text/plain": [
       "        REGION \u001b[1;36m2\u001b[0m is empty!\n"
      ]
     },
     "metadata": {},
     "output_type": "display_data"
    },
    {
     "data": {
      "text/html": [
       "<pre style=\"white-space:pre;overflow-x:auto;line-height:normal;font-family:Menlo,'DejaVu Sans Mono',consolas,'Courier New',monospace\">        REGION <span style=\"color: #008080; text-decoration-color: #008080; font-weight: bold\">3</span>: bronchopneumonia at lll retrocardiac portion . non specific mild peribronchial linear reticular \n",
       "opacities : may be mild pulmonary congestion and coexisting mild peribronchial viral interstitial changes\n",
       "</pre>\n"
      ],
      "text/plain": [
       "        REGION \u001b[1;36m3\u001b[0m: bronchopneumonia at lll retrocardiac portion . non specific mild peribronchial linear reticular \n",
       "opacities : may be mild pulmonary congestion and coexisting mild peribronchial viral interstitial changes\n"
      ]
     },
     "metadata": {},
     "output_type": "display_data"
    },
    {
     "data": {
      "text/html": [
       "<pre style=\"white-space:pre;overflow-x:auto;line-height:normal;font-family:Menlo,'DejaVu Sans Mono',consolas,'Courier New',monospace\">        REGION <span style=\"color: #008080; text-decoration-color: #008080; font-weight: bold\">3</span> ATTRIBUTES: <span style=\"font-weight: bold\">[</span><span style=\"color: #008000; text-decoration-color: #008000\">'bronchopneumonia'</span> <span style=\"color: #008000; text-decoration-color: #008000\">'opacities'</span><span style=\"font-weight: bold\">]</span>\n",
       "</pre>\n"
      ],
      "text/plain": [
       "        REGION \u001b[1;36m3\u001b[0m ATTRIBUTES: \u001b[1m[\u001b[0m\u001b[32m'bronchopneumonia'\u001b[0m \u001b[32m'opacities'\u001b[0m\u001b[1m]\u001b[0m\n"
      ]
     },
     "metadata": {},
     "output_type": "display_data"
    }
   ],
   "source": [
    "import random\n",
    "\n",
    "import matplotlib.pyplot as plt\n",
    "\n",
    "index = random.randint(0, len(mapping_train) - 1)\n",
    "\n",
    "plot_bounding_boxes_for_index(mapping_train, index)\n",
    "\n",
    "print(f\"Original Text Report: {mapping_train['text'].iloc[index]}\")\n",
    "print(f\"Original Attributes: {mapping_train['attributes'].iloc[index]}\")\n",
    "print(f\"REGION-ATTRIBUTE PAIRS {index}:\")\n",
    "\n",
    "mappings = mapping_train[\"assigned_text\"].values[index]\n",
    "for i in range(len(mappings)):\n",
    "    if not mappings[i]:\n",
    "        print(f\"\\tREGION {i+1} is empty!\")\n",
    "    else:\n",
    "        print(f\"\\tREGION {i+1}:\", mappings[i])\n",
    "        print(\n",
    "            f\"\\tREGION {i+1} ATTRIBUTES:\",\n",
    "            mapping_train[\"assigned_attributes\"].values[index][i],\n",
    "        )\n"
   ]
  },
  {
   "cell_type": "code",
   "execution_count": 220,
   "metadata": {},
   "outputs": [
    {
     "data": {
      "text/plain": [
       "'C:/Users/DryLab/Desktop/ConVIRT/Dataset/open-i/data/ecgen-radiology-txt\\\\CXR1820_IM-0532-1001.txt'"
      ]
     },
     "execution_count": 220,
     "metadata": {},
     "output_type": "execute_result"
    }
   ],
   "source": [
    "mapping_train.text_filepath.iloc[424]"
   ]
  },
  {
   "cell_type": "code",
   "execution_count": 224,
   "metadata": {},
   "outputs": [],
   "source": [
    "mapping_train = pd.read_feather(\n",
    "    \"C:/Users/DryLab/Desktop/ViLLA/checkpoints/docmnist_stage1/mapping_val.feather\"\n",
    ")"
   ]
  },
  {
   "cell_type": "code",
   "execution_count": 225,
   "metadata": {},
   "outputs": [
    {
     "data": {
      "text/plain": [
       "image_id                                                           10203\n",
       "image_size                                                      [84, 84]\n",
       "image_filepath         C:\\Users\\DryLab\\Desktop\\ViLLA\\data\\docmnist_30...\n",
       "region_coord           [[0, 0, 28, 28], [28, 0, 56, 28], [56, 0, 84, ...\n",
       "num_regions                                                            9\n",
       "split                                                                val\n",
       "text                   the shape size is small . the image is blue . ...\n",
       "digit_label            [four, seven, one, four, eight, three, zero, n...\n",
       "color_label            [blue, purple, blue, purple, purple, purple, g...\n",
       "shape_label            [circle, rectangle, rectangle, None, rectangle...\n",
       "size_label             [large, large, large, None, small, small, larg...\n",
       "reg_to_attr            [[four, blue, circle, large], [seven, purple, ...\n",
       "attributes             [purple, seven, yellow, circle, one, small, bl...\n",
       "assigned_attributes    [[seven, circle, blue, large, eight, four], [p...\n",
       "assigned_text          [there is an image showing a seven . the image...\n",
       "Name: 24, dtype: object"
      ]
     },
     "execution_count": 225,
     "metadata": {},
     "output_type": "execute_result"
    }
   ],
   "source": [
    "mapping_train.iloc[24]"
   ]
  },
  {
   "cell_type": "code",
   "execution_count": 226,
   "metadata": {},
   "outputs": [
    {
     "data": {
      "text/plain": [
       "array(['purple', 'seven', 'yellow', 'circle', 'one', 'small', 'blue',\n",
       "       'green', 'large', 'three', 'eight', 'nine', 'four', 'rectangle',\n",
       "       'zero'], dtype=object)"
      ]
     },
     "execution_count": 226,
     "metadata": {},
     "output_type": "execute_result"
    }
   ],
   "source": [
    "mapping_train.iloc[24].attributes"
   ]
  },
  {
   "cell_type": "code",
   "execution_count": 227,
   "metadata": {},
   "outputs": [
    {
     "data": {
      "text/plain": [
       "array([array(['seven', 'circle', 'blue', 'large', 'eight', 'four'], dtype=object),\n",
       "       array(['purple', 'seven', 'one', 'small', 'rectangle'], dtype=object),\n",
       "       array(['seven', 'one', 'blue', 'large', 'eight', 'rectangle'],\n",
       "             dtype=object)                                           ,\n",
       "       array(['purple', 'four'], dtype=object),\n",
       "       array(['purple', 'seven', 'circle', 'one', 'small', 'eight', 'four'],\n",
       "             dtype=object)                                                  ,\n",
       "       array(['purple', 'three'], dtype=object),\n",
       "       array(['circle', 'green', 'zero'], dtype=object),\n",
       "       array(['seven', 'yellow', 'eight', 'nine', 'rectangle'], dtype=object),\n",
       "       array(['blue', 'four'], dtype=object)], dtype=object)"
      ]
     },
     "execution_count": 227,
     "metadata": {},
     "output_type": "execute_result"
    }
   ],
   "source": [
    "mapping_train.iloc[24].assigned_attributes"
   ]
  },
  {
   "cell_type": "code",
   "execution_count": 228,
   "metadata": {},
   "outputs": [
    {
     "data": {
      "text/html": [
       "<pre style=\"white-space:pre;overflow-x:auto;line-height:normal;font-family:Menlo,'DejaVu Sans Mono',consolas,'Courier New',monospace\">Original Text Report: there is a rectangle . the image has a circle . the digit appears to be blue . the image has \n",
       "a rectangle . the digit appears to be three . the shape size is large . there is an image showing a zero . the \n",
       "digit appears to be six . there is an image showing a seven . the number is a four . the color is purple . the \n",
       "digit appears to be seven . the color is green . there is a purple image . the shape is a rectangle . there is a \n",
       "green image . the image shows a seven . there is a circle . the shape is large . there is an image showing a six . \n",
       "the shape is a circle . the color is blue\n",
       "</pre>\n"
      ],
      "text/plain": [
       "Original Text Report: there is a rectangle . the image has a circle . the digit appears to be blue . the image has \n",
       "a rectangle . the digit appears to be three . the shape size is large . there is an image showing a zero . the \n",
       "digit appears to be six . there is an image showing a seven . the number is a four . the color is purple . the \n",
       "digit appears to be seven . the color is green . there is a purple image . the shape is a rectangle . there is a \n",
       "green image . the image shows a seven . there is a circle . the shape is large . there is an image showing a six . \n",
       "the shape is a circle . the color is blue\n"
      ]
     },
     "metadata": {},
     "output_type": "display_data"
    },
    {
     "data": {
      "text/html": [
       "<pre style=\"white-space:pre;overflow-x:auto;line-height:normal;font-family:Menlo,'DejaVu Sans Mono',consolas,'Courier New',monospace\">Original Attributes: <span style=\"font-weight: bold\">[</span><span style=\"color: #008000; text-decoration-color: #008000\">'seven'</span> <span style=\"color: #008000; text-decoration-color: #008000\">'six'</span> <span style=\"color: #008000; text-decoration-color: #008000\">'circle'</span> <span style=\"color: #008000; text-decoration-color: #008000\">'blue'</span> <span style=\"color: #008000; text-decoration-color: #008000\">'green'</span> <span style=\"color: #008000; text-decoration-color: #008000\">'large'</span> <span style=\"color: #008000; text-decoration-color: #008000\">'three'</span> <span style=\"color: #008000; text-decoration-color: #008000\">'zero'</span> <span style=\"color: #008000; text-decoration-color: #008000\">'purple'</span>\n",
       " <span style=\"color: #008000; text-decoration-color: #008000\">'rectangle'</span> <span style=\"color: #008000; text-decoration-color: #008000\">'four'</span><span style=\"font-weight: bold\">]</span>\n",
       "</pre>\n"
      ],
      "text/plain": [
       "Original Attributes: \u001b[1m[\u001b[0m\u001b[32m'seven'\u001b[0m \u001b[32m'six'\u001b[0m \u001b[32m'circle'\u001b[0m \u001b[32m'blue'\u001b[0m \u001b[32m'green'\u001b[0m \u001b[32m'large'\u001b[0m \u001b[32m'three'\u001b[0m \u001b[32m'zero'\u001b[0m \u001b[32m'purple'\u001b[0m\n",
       " \u001b[32m'rectangle'\u001b[0m \u001b[32m'four'\u001b[0m\u001b[1m]\u001b[0m\n"
      ]
     },
     "metadata": {},
     "output_type": "display_data"
    },
    {
     "data": {
      "text/html": [
       "<pre style=\"white-space:pre;overflow-x:auto;line-height:normal;font-family:Menlo,'DejaVu Sans Mono',consolas,'Courier New',monospace\">REGION-ATTRIBUTE PAIRS:\n",
       "</pre>\n"
      ],
      "text/plain": [
       "REGION-ATTRIBUTE PAIRS:\n"
      ]
     },
     "metadata": {},
     "output_type": "display_data"
    },
    {
     "data": {
      "text/html": [
       "<pre style=\"white-space:pre;overflow-x:auto;line-height:normal;font-family:Menlo,'DejaVu Sans Mono',consolas,'Courier New',monospace\">        REGION <span style=\"color: #008080; text-decoration-color: #008080; font-weight: bold\">1</span>: the image shows a seven . there is a circle\n",
       "</pre>\n"
      ],
      "text/plain": [
       "        REGION \u001b[1;36m1\u001b[0m: the image shows a seven . there is a circle\n"
      ]
     },
     "metadata": {},
     "output_type": "display_data"
    },
    {
     "data": {
      "text/html": [
       "<pre style=\"white-space:pre;overflow-x:auto;line-height:normal;font-family:Menlo,'DejaVu Sans Mono',consolas,'Courier New',monospace\">        REGION <span style=\"color: #008080; text-decoration-color: #008080; font-weight: bold\">1</span> ATTRIBUTES: <span style=\"font-weight: bold\">[</span><span style=\"color: #008000; text-decoration-color: #008000\">'seven'</span> <span style=\"color: #008000; text-decoration-color: #008000\">'circle'</span><span style=\"font-weight: bold\">]</span>\n",
       "</pre>\n"
      ],
      "text/plain": [
       "        REGION \u001b[1;36m1\u001b[0m ATTRIBUTES: \u001b[1m[\u001b[0m\u001b[32m'seven'\u001b[0m \u001b[32m'circle'\u001b[0m\u001b[1m]\u001b[0m\n"
      ]
     },
     "metadata": {},
     "output_type": "display_data"
    },
    {
     "data": {
      "text/html": [
       "<pre style=\"white-space:pre;overflow-x:auto;line-height:normal;font-family:Menlo,'DejaVu Sans Mono',consolas,'Courier New',monospace\">        REGION <span style=\"color: #008080; text-decoration-color: #008080; font-weight: bold\">2</span>: there is a circle . the color is blue . the shape is large . the digit appears to be three\n",
       "</pre>\n"
      ],
      "text/plain": [
       "        REGION \u001b[1;36m2\u001b[0m: there is a circle . the color is blue . the shape is large . the digit appears to be three\n"
      ]
     },
     "metadata": {},
     "output_type": "display_data"
    },
    {
     "data": {
      "text/html": [
       "<pre style=\"white-space:pre;overflow-x:auto;line-height:normal;font-family:Menlo,'DejaVu Sans Mono',consolas,'Courier New',monospace\">        REGION <span style=\"color: #008080; text-decoration-color: #008080; font-weight: bold\">2</span> ATTRIBUTES: <span style=\"font-weight: bold\">[</span><span style=\"color: #008000; text-decoration-color: #008000\">'circle'</span> <span style=\"color: #008000; text-decoration-color: #008000\">'blue'</span> <span style=\"color: #008000; text-decoration-color: #008000\">'large'</span> <span style=\"color: #008000; text-decoration-color: #008000\">'three'</span><span style=\"font-weight: bold\">]</span>\n",
       "</pre>\n"
      ],
      "text/plain": [
       "        REGION \u001b[1;36m2\u001b[0m ATTRIBUTES: \u001b[1m[\u001b[0m\u001b[32m'circle'\u001b[0m \u001b[32m'blue'\u001b[0m \u001b[32m'large'\u001b[0m \u001b[32m'three'\u001b[0m\u001b[1m]\u001b[0m\n"
      ]
     },
     "metadata": {},
     "output_type": "display_data"
    },
    {
     "data": {
      "text/html": [
       "<pre style=\"white-space:pre;overflow-x:auto;line-height:normal;font-family:Menlo,'DejaVu Sans Mono',consolas,'Courier New',monospace\">        REGION <span style=\"color: #008080; text-decoration-color: #008080; font-weight: bold\">3</span>: there is a circle . there is a green image\n",
       "</pre>\n"
      ],
      "text/plain": [
       "        REGION \u001b[1;36m3\u001b[0m: there is a circle . there is a green image\n"
      ]
     },
     "metadata": {},
     "output_type": "display_data"
    },
    {
     "data": {
      "text/html": [
       "<pre style=\"white-space:pre;overflow-x:auto;line-height:normal;font-family:Menlo,'DejaVu Sans Mono',consolas,'Courier New',monospace\">        REGION <span style=\"color: #008080; text-decoration-color: #008080; font-weight: bold\">3</span> ATTRIBUTES: <span style=\"font-weight: bold\">[</span><span style=\"color: #008000; text-decoration-color: #008000\">'circle'</span> <span style=\"color: #008000; text-decoration-color: #008000\">'green'</span><span style=\"font-weight: bold\">]</span>\n",
       "</pre>\n"
      ],
      "text/plain": [
       "        REGION \u001b[1;36m3\u001b[0m ATTRIBUTES: \u001b[1m[\u001b[0m\u001b[32m'circle'\u001b[0m \u001b[32m'green'\u001b[0m\u001b[1m]\u001b[0m\n"
      ]
     },
     "metadata": {},
     "output_type": "display_data"
    },
    {
     "data": {
      "text/html": [
       "<pre style=\"white-space:pre;overflow-x:auto;line-height:normal;font-family:Menlo,'DejaVu Sans Mono',consolas,'Courier New',monospace\">        REGION <span style=\"color: #008080; text-decoration-color: #008080; font-weight: bold\">4</span>: the image shows a seven . there is a circle . the shape is large . there is an image showing a \n",
       "zero . there is a purple image\n",
       "</pre>\n"
      ],
      "text/plain": [
       "        REGION \u001b[1;36m4\u001b[0m: the image shows a seven . there is a circle . the shape is large . there is an image showing a \n",
       "zero . there is a purple image\n"
      ]
     },
     "metadata": {},
     "output_type": "display_data"
    },
    {
     "data": {
      "text/html": [
       "<pre style=\"white-space:pre;overflow-x:auto;line-height:normal;font-family:Menlo,'DejaVu Sans Mono',consolas,'Courier New',monospace\">        REGION <span style=\"color: #008080; text-decoration-color: #008080; font-weight: bold\">4</span> ATTRIBUTES: <span style=\"font-weight: bold\">[</span><span style=\"color: #008000; text-decoration-color: #008000\">'seven'</span> <span style=\"color: #008000; text-decoration-color: #008000\">'circle'</span> <span style=\"color: #008000; text-decoration-color: #008000\">'large'</span> <span style=\"color: #008000; text-decoration-color: #008000\">'zero'</span> <span style=\"color: #008000; text-decoration-color: #008000\">'purple'</span><span style=\"font-weight: bold\">]</span>\n",
       "</pre>\n"
      ],
      "text/plain": [
       "        REGION \u001b[1;36m4\u001b[0m ATTRIBUTES: \u001b[1m[\u001b[0m\u001b[32m'seven'\u001b[0m \u001b[32m'circle'\u001b[0m \u001b[32m'large'\u001b[0m \u001b[32m'zero'\u001b[0m \u001b[32m'purple'\u001b[0m\u001b[1m]\u001b[0m\n"
      ]
     },
     "metadata": {},
     "output_type": "display_data"
    },
    {
     "data": {
      "text/html": [
       "<pre style=\"white-space:pre;overflow-x:auto;line-height:normal;font-family:Menlo,'DejaVu Sans Mono',consolas,'Courier New',monospace\">        REGION <span style=\"color: #008080; text-decoration-color: #008080; font-weight: bold\">5</span>: there is a purple image\n",
       "</pre>\n"
      ],
      "text/plain": [
       "        REGION \u001b[1;36m5\u001b[0m: there is a purple image\n"
      ]
     },
     "metadata": {},
     "output_type": "display_data"
    },
    {
     "data": {
      "text/html": [
       "<pre style=\"white-space:pre;overflow-x:auto;line-height:normal;font-family:Menlo,'DejaVu Sans Mono',consolas,'Courier New',monospace\">        REGION <span style=\"color: #008080; text-decoration-color: #008080; font-weight: bold\">5</span> ATTRIBUTES: <span style=\"font-weight: bold\">[</span><span style=\"color: #008000; text-decoration-color: #008000\">'purple'</span><span style=\"font-weight: bold\">]</span>\n",
       "</pre>\n"
      ],
      "text/plain": [
       "        REGION \u001b[1;36m5\u001b[0m ATTRIBUTES: \u001b[1m[\u001b[0m\u001b[32m'purple'\u001b[0m\u001b[1m]\u001b[0m\n"
      ]
     },
     "metadata": {},
     "output_type": "display_data"
    },
    {
     "data": {
      "text/html": [
       "<pre style=\"white-space:pre;overflow-x:auto;line-height:normal;font-family:Menlo,'DejaVu Sans Mono',consolas,'Courier New',monospace\">        REGION <span style=\"color: #008080; text-decoration-color: #008080; font-weight: bold\">6</span>: there is a green image . there is a rectangle . the number is a four\n",
       "</pre>\n"
      ],
      "text/plain": [
       "        REGION \u001b[1;36m6\u001b[0m: there is a green image . there is a rectangle . the number is a four\n"
      ]
     },
     "metadata": {},
     "output_type": "display_data"
    },
    {
     "data": {
      "text/html": [
       "<pre style=\"white-space:pre;overflow-x:auto;line-height:normal;font-family:Menlo,'DejaVu Sans Mono',consolas,'Courier New',monospace\">        REGION <span style=\"color: #008080; text-decoration-color: #008080; font-weight: bold\">6</span> ATTRIBUTES: <span style=\"font-weight: bold\">[</span><span style=\"color: #008000; text-decoration-color: #008000\">'green'</span> <span style=\"color: #008000; text-decoration-color: #008000\">'rectangle'</span> <span style=\"color: #008000; text-decoration-color: #008000\">'four'</span><span style=\"font-weight: bold\">]</span>\n",
       "</pre>\n"
      ],
      "text/plain": [
       "        REGION \u001b[1;36m6\u001b[0m ATTRIBUTES: \u001b[1m[\u001b[0m\u001b[32m'green'\u001b[0m \u001b[32m'rectangle'\u001b[0m \u001b[32m'four'\u001b[0m\u001b[1m]\u001b[0m\n"
      ]
     },
     "metadata": {},
     "output_type": "display_data"
    },
    {
     "data": {
      "text/html": [
       "<pre style=\"white-space:pre;overflow-x:auto;line-height:normal;font-family:Menlo,'DejaVu Sans Mono',consolas,'Courier New',monospace\">        REGION <span style=\"color: #008080; text-decoration-color: #008080; font-weight: bold\">7</span>: there is a circle . there is a green image . the shape is large\n",
       "</pre>\n"
      ],
      "text/plain": [
       "        REGION \u001b[1;36m7\u001b[0m: there is a circle . there is a green image . the shape is large\n"
      ]
     },
     "metadata": {},
     "output_type": "display_data"
    },
    {
     "data": {
      "text/html": [
       "<pre style=\"white-space:pre;overflow-x:auto;line-height:normal;font-family:Menlo,'DejaVu Sans Mono',consolas,'Courier New',monospace\">        REGION <span style=\"color: #008080; text-decoration-color: #008080; font-weight: bold\">7</span> ATTRIBUTES: <span style=\"font-weight: bold\">[</span><span style=\"color: #008000; text-decoration-color: #008000\">'circle'</span> <span style=\"color: #008000; text-decoration-color: #008000\">'green'</span> <span style=\"color: #008000; text-decoration-color: #008000\">'large'</span><span style=\"font-weight: bold\">]</span>\n",
       "</pre>\n"
      ],
      "text/plain": [
       "        REGION \u001b[1;36m7\u001b[0m ATTRIBUTES: \u001b[1m[\u001b[0m\u001b[32m'circle'\u001b[0m \u001b[32m'green'\u001b[0m \u001b[32m'large'\u001b[0m\u001b[1m]\u001b[0m\n"
      ]
     },
     "metadata": {},
     "output_type": "display_data"
    },
    {
     "data": {
      "text/html": [
       "<pre style=\"white-space:pre;overflow-x:auto;line-height:normal;font-family:Menlo,'DejaVu Sans Mono',consolas,'Courier New',monospace\">        REGION <span style=\"color: #008080; text-decoration-color: #008080; font-weight: bold\">8</span>: there is an image showing a six . the shape is large . there is a purple image . there is a \n",
       "rectangle\n",
       "</pre>\n"
      ],
      "text/plain": [
       "        REGION \u001b[1;36m8\u001b[0m: there is an image showing a six . the shape is large . there is a purple image . there is a \n",
       "rectangle\n"
      ]
     },
     "metadata": {},
     "output_type": "display_data"
    },
    {
     "data": {
      "text/html": [
       "<pre style=\"white-space:pre;overflow-x:auto;line-height:normal;font-family:Menlo,'DejaVu Sans Mono',consolas,'Courier New',monospace\">        REGION <span style=\"color: #008080; text-decoration-color: #008080; font-weight: bold\">8</span> ATTRIBUTES: <span style=\"font-weight: bold\">[</span><span style=\"color: #008000; text-decoration-color: #008000\">'six'</span> <span style=\"color: #008000; text-decoration-color: #008000\">'large'</span> <span style=\"color: #008000; text-decoration-color: #008000\">'purple'</span> <span style=\"color: #008000; text-decoration-color: #008000\">'rectangle'</span><span style=\"font-weight: bold\">]</span>\n",
       "</pre>\n"
      ],
      "text/plain": [
       "        REGION \u001b[1;36m8\u001b[0m ATTRIBUTES: \u001b[1m[\u001b[0m\u001b[32m'six'\u001b[0m \u001b[32m'large'\u001b[0m \u001b[32m'purple'\u001b[0m \u001b[32m'rectangle'\u001b[0m\u001b[1m]\u001b[0m\n"
      ]
     },
     "metadata": {},
     "output_type": "display_data"
    },
    {
     "data": {
      "text/html": [
       "<pre style=\"white-space:pre;overflow-x:auto;line-height:normal;font-family:Menlo,'DejaVu Sans Mono',consolas,'Courier New',monospace\">        REGION <span style=\"color: #008080; text-decoration-color: #008080; font-weight: bold\">9</span>: there is a green image . the shape is large . there is a rectangle\n",
       "</pre>\n"
      ],
      "text/plain": [
       "        REGION \u001b[1;36m9\u001b[0m: there is a green image . the shape is large . there is a rectangle\n"
      ]
     },
     "metadata": {},
     "output_type": "display_data"
    },
    {
     "data": {
      "text/html": [
       "<pre style=\"white-space:pre;overflow-x:auto;line-height:normal;font-family:Menlo,'DejaVu Sans Mono',consolas,'Courier New',monospace\">        REGION <span style=\"color: #008080; text-decoration-color: #008080; font-weight: bold\">9</span> ATTRIBUTES: <span style=\"font-weight: bold\">[</span><span style=\"color: #008000; text-decoration-color: #008000\">'green'</span> <span style=\"color: #008000; text-decoration-color: #008000\">'large'</span> <span style=\"color: #008000; text-decoration-color: #008000\">'rectangle'</span><span style=\"font-weight: bold\">]</span>\n",
       "</pre>\n"
      ],
      "text/plain": [
       "        REGION \u001b[1;36m9\u001b[0m ATTRIBUTES: \u001b[1m[\u001b[0m\u001b[32m'green'\u001b[0m \u001b[32m'large'\u001b[0m \u001b[32m'rectangle'\u001b[0m\u001b[1m]\u001b[0m\n"
      ]
     },
     "metadata": {},
     "output_type": "display_data"
    },
    {
     "data": {
      "image/png": "[encoded data removed]",
      "text/plain": [
       "<Figure size 640x480 with 1 Axes>"
      ]
     },
     "metadata": {},
     "output_type": "display_data"
    }
   ],
   "source": [
    "import random\n",
    "\n",
    "index = random.randint(0, len(mapping_train) - 1)\n",
    "\n",
    "img = sparse.load_npz(mapping_train[\"image_filepath\"].iloc[index]).todense() / 255\n",
    "plt.imshow(img.transpose(1, 2, 0))\n",
    "plt.axis(False)\n",
    "print(f\"Original Text Report: {mapping_train['text'].iloc[index]}\")\n",
    "print(f\"Original Attributes: {mapping_train['attributes'].iloc[index]}\")\n",
    "print(\"REGION-ATTRIBUTE PAIRS:\")\n",
    "mappings = mapping_train[\"assigned_text\"].values[index]\n",
    "for i in range(len(mappings)):\n",
    "    print(f\"\\tREGION {i+1}:\", mappings[i])\n",
    "    print(\n",
    "        f\"\\tREGION {i+1} ATTRIBUTES:\",\n",
    "        mapping_train[\"assigned_attributes\"].values[index][i],\n",
    "    )"
   ]
  },
  {
   "cell_type": "code",
   "execution_count": 129,
   "metadata": {},
   "outputs": [],
   "source": [
    "df = pd.read_feather(\"C:/Users/DryLab/Desktop/ViLLA/data/open-i/annotations.feather\")"
   ]
  },
  {
   "cell_type": "code",
   "execution_count": 105,
   "metadata": {},
   "outputs": [],
   "source": [
    "def assign_sents_to_attributes(text, a):\n",
    "    text = [t.lower() for t in text]\n",
    "    selected_sents = []\n",
    "    for i in range(len(text)):\n",
    "        if f\"{a}\" in text[i]:\n",
    "            selected_sents.append(i)\n",
    "    return np.random.choice(selected_sents)"
   ]
  },
  {
   "cell_type": "code",
   "execution_count": 119,
   "metadata": {},
   "outputs": [],
   "source": [
    "for idx, row in df.iterrows():\n",
    "    attribute_to_text = {}\n",
    "    text = [x.strip() for x in row[\"text\"].split(\".\") if len(x) > 3]\n",
    "    for a in row[\"attributes\"]:\n",
    "        assigned_sents = assign_sents_to_attributes(text, a)\n",
    "        attribute_to_text[a] = text[assigned_sents]"
   ]
  },
  {
   "cell_type": "code",
   "execution_count": 120,
   "metadata": {},
   "outputs": [
    {
     "data": {
      "text/plain": [
       "{'density': 'increased size of density in the left cardiophrenic xxxx',\n",
       " 'size': 'increased size of density in the left cardiophrenic xxxx'}"
      ]
     },
     "execution_count": 120,
     "metadata": {},
     "output_type": "execute_result"
    }
   ],
   "source": [
    "attribute_to_text"
   ]
  },
  {
   "cell_type": "code",
   "execution_count": 121,
   "metadata": {},
   "outputs": [
    {
     "data": {
      "text/plain": [
       "{'density': 'increased size of density in the left cardiophrenic xxxx',\n",
       " 'size': 'increased size of density in the left cardiophrenic xxxx'}"
      ]
     },
     "execution_count": 121,
     "metadata": {},
     "output_type": "execute_result"
    }
   ],
   "source": [
    "attribute_to_text"
   ]
  },
  {
   "cell_type": "code",
   "execution_count": 130,
   "metadata": {},
   "outputs": [
    {
     "data": {
      "text/html": [
       "<div>\n",
       "<style scoped>\n",
       "    .dataframe tbody tr th:only-of-type {\n",
       "        vertical-align: middle;\n",
       "    }\n",
       "\n",
       "    .dataframe tbody tr th {\n",
       "        vertical-align: top;\n",
       "    }\n",
       "\n",
       "    .dataframe thead th {\n",
       "        text-align: right;\n",
       "    }\n",
       "</style>\n",
       "<table border=\"1\" class=\"dataframe\">\n",
       "  <thead>\n",
       "    <tr style=\"text-align: right;\">\n",
       "      <th></th>\n",
       "      <th>image_id</th>\n",
       "      <th>image_size</th>\n",
       "      <th>image_filepath</th>\n",
       "      <th>region_coord</th>\n",
       "      <th>region_bbox</th>\n",
       "      <th>region_labels</th>\n",
       "      <th>num_regions</th>\n",
       "      <th>text_filepath</th>\n",
       "      <th>text</th>\n",
       "      <th>sentences</th>\n",
       "      <th>attributes</th>\n",
       "      <th>split</th>\n",
       "    </tr>\n",
       "  </thead>\n",
       "  <tbody>\n",
       "    <tr>\n",
       "      <th>0</th>\n",
       "      <td>0</td>\n",
       "      <td>[224, 224]</td>\n",
       "      <td>C:/Users/DryLab/Desktop/ConVIRT/Dataset/open-i...</td>\n",
       "      <td>[[0, 0, 0, 0, 0, 0, 0, 0, 0, 0, 0, 0, 0, 0, 0,...</td>\n",
       "      <td>[[7, 16, 111, 175], [142, 14, 223, 159], [87, ...</td>\n",
       "      <td>[[1], [2], [3]]</td>\n",
       "      <td>3</td>\n",
       "      <td>C:/Users/DryLab/Desktop/ConVIRT/Dataset/open-i...</td>\n",
       "      <td>the cardiac silhouette is within normal limits...</td>\n",
       "      <td>[the cardiac silhouette is within normal limit...</td>\n",
       "      <td>[atelectasis, limits, opacity]</td>\n",
       "      <td>train</td>\n",
       "    </tr>\n",
       "    <tr>\n",
       "      <th>1</th>\n",
       "      <td>1</td>\n",
       "      <td>[224, 224]</td>\n",
       "      <td>C:/Users/DryLab/Desktop/ConVIRT/Dataset/open-i...</td>\n",
       "      <td>[[0, 0, 0, 0, 0, 0, 0, 0, 0, 0, 0, 0, 0, 0, 0,...</td>\n",
       "      <td>[[2, 13, 92, 172], [123, 12, 208, 176], [72, 9...</td>\n",
       "      <td>[[1], [2], [3]]</td>\n",
       "      <td>3</td>\n",
       "      <td>C:/Users/DryLab/Desktop/ConVIRT/Dataset/open-i...</td>\n",
       "      <td>the cardiac silhouette is within normal limits...</td>\n",
       "      <td>[the cardiac silhouette is within normal limit...</td>\n",
       "      <td>[atelectasis, limits, opacity]</td>\n",
       "      <td>train</td>\n",
       "    </tr>\n",
       "    <tr>\n",
       "      <th>4</th>\n",
       "      <td>4</td>\n",
       "      <td>[224, 224]</td>\n",
       "      <td>C:/Users/DryLab/Desktop/ConVIRT/Dataset/open-i...</td>\n",
       "      <td>[[0, 0, 0, 0, 0, 0, 0, 0, 0, 0, 0, 0, 0, 0, 0,...</td>\n",
       "      <td>[[17, 26, 92, 174], [117, 21, 213, 180], [78, ...</td>\n",
       "      <td>[[1], [2], [3]]</td>\n",
       "      <td>3</td>\n",
       "      <td>C:/Users/DryLab/Desktop/ConVIRT/Dataset/open-i...</td>\n",
       "      <td>there appears to be air within this which coul...</td>\n",
       "      <td>[there appears to be air within this which cou...</td>\n",
       "      <td>[atelectasis, calcification, density, opacity]</td>\n",
       "      <td>train</td>\n",
       "    </tr>\n",
       "    <tr>\n",
       "      <th>5</th>\n",
       "      <td>5</td>\n",
       "      <td>[224, 224]</td>\n",
       "      <td>C:/Users/DryLab/Desktop/ConVIRT/Dataset/open-i...</td>\n",
       "      <td>[[0, 0, 0, 0, 0, 0, 0, 0, 0, 0, 0, 0, 0, 0, 0,...</td>\n",
       "      <td>[[16, 25, 102, 178], [126, 25, 203, 183], [85,...</td>\n",
       "      <td>[[1], [2], [3]]</td>\n",
       "      <td>3</td>\n",
       "      <td>C:/Users/DryLab/Desktop/ConVIRT/Dataset/open-i...</td>\n",
       "      <td>there is no pleural effusion or pneumothorax ....</td>\n",
       "      <td>[there is no pleural effusion or pneumothorax ...</td>\n",
       "      <td>[changes]</td>\n",
       "      <td>train</td>\n",
       "    </tr>\n",
       "    <tr>\n",
       "      <th>8</th>\n",
       "      <td>8</td>\n",
       "      <td>[224, 224]</td>\n",
       "      <td>C:/Users/DryLab/Desktop/ConVIRT/Dataset/open-i...</td>\n",
       "      <td>[[0, 0, 0, 0, 0, 0, 0, 0, 0, 0, 0, 0, 0, 0, 0,...</td>\n",
       "      <td>[[24, 11, 103, 201], [130, 11, 197, 198], [91,...</td>\n",
       "      <td>[[1], [2], [3]]</td>\n",
       "      <td>3</td>\n",
       "      <td>C:/Users/DryLab/Desktop/ConVIRT/Dataset/open-i...</td>\n",
       "      <td>the lungs are clear , without evidence of acut...</td>\n",
       "      <td>[the lungs are clear , without evidence of acu...</td>\n",
       "      <td>[changes]</td>\n",
       "      <td>train</td>\n",
       "    </tr>\n",
       "    <tr>\n",
       "      <th>...</th>\n",
       "      <td>...</td>\n",
       "      <td>...</td>\n",
       "      <td>...</td>\n",
       "      <td>...</td>\n",
       "      <td>...</td>\n",
       "      <td>...</td>\n",
       "      <td>...</td>\n",
       "      <td>...</td>\n",
       "      <td>...</td>\n",
       "      <td>...</td>\n",
       "      <td>...</td>\n",
       "      <td>...</td>\n",
       "    </tr>\n",
       "    <tr>\n",
       "      <th>3792</th>\n",
       "      <td>3792</td>\n",
       "      <td>[224, 224]</td>\n",
       "      <td>C:/Users/DryLab/Desktop/ConVIRT/Dataset/open-i...</td>\n",
       "      <td>[[0, 0, 0, 0, 0, 0, 0, 0, 0, 0, 0, 0, 0, 0, 0,...</td>\n",
       "      <td>[[26, 11, 107, 172], [132, 18, 203, 194], [84,...</td>\n",
       "      <td>[[1], [2], [3]]</td>\n",
       "      <td>3</td>\n",
       "      <td>C:/Users/DryLab/Desktop/ConVIRT/Dataset/open-i...</td>\n",
       "      <td>no focal consolidation , pneumothorax , or ple...</td>\n",
       "      <td>[no focal consolidation , pneumothorax , or pl...</td>\n",
       "      <td>[disease]</td>\n",
       "      <td>val</td>\n",
       "    </tr>\n",
       "    <tr>\n",
       "      <th>3793</th>\n",
       "      <td>3793</td>\n",
       "      <td>[224, 224]</td>\n",
       "      <td>C:/Users/DryLab/Desktop/ConVIRT/Dataset/open-i...</td>\n",
       "      <td>[[0, 0, 0, 0, 0, 0, 0, 0, 0, 0, 0, 0, 0, 0, 0,...</td>\n",
       "      <td>[[25, 10, 98, 199], [125, 8, 193, 210], [88, 1...</td>\n",
       "      <td>[[1], [2], [3]]</td>\n",
       "      <td>3</td>\n",
       "      <td>C:/Users/DryLab/Desktop/ConVIRT/Dataset/open-i...</td>\n",
       "      <td>cardiomediastinal silhouette is within normal ...</td>\n",
       "      <td>[cardiomediastinal silhouette is within normal...</td>\n",
       "      <td>[limits]</td>\n",
       "      <td>val</td>\n",
       "    </tr>\n",
       "    <tr>\n",
       "      <th>3794</th>\n",
       "      <td>3794</td>\n",
       "      <td>[224, 224]</td>\n",
       "      <td>C:/Users/DryLab/Desktop/ConVIRT/Dataset/open-i...</td>\n",
       "      <td>[[0, 0, 0, 0, 0, 0, 0, 0, 0, 0, 0, 0, 0, 0, 0,...</td>\n",
       "      <td>[[24, 1, 93, 158], [124, 2, 196, 185], [85, 76...</td>\n",
       "      <td>[[1], [2], [3]]</td>\n",
       "      <td>3</td>\n",
       "      <td>C:/Users/DryLab/Desktop/ConVIRT/Dataset/open-i...</td>\n",
       "      <td>cardiomediastinal silhouette is within normal ...</td>\n",
       "      <td>[cardiomediastinal silhouette is within normal...</td>\n",
       "      <td>[limits]</td>\n",
       "      <td>val</td>\n",
       "    </tr>\n",
       "    <tr>\n",
       "      <th>3795</th>\n",
       "      <td>3795</td>\n",
       "      <td>[224, 224]</td>\n",
       "      <td>C:/Users/DryLab/Desktop/ConVIRT/Dataset/open-i...</td>\n",
       "      <td>[[0, 0, 0, 0, 0, 0, 0, 0, 0, 0, 0, 0, 0, 0, 0,...</td>\n",
       "      <td>[[31, 9, 99, 160], [123, 13, 199, 188], [88, 9...</td>\n",
       "      <td>[[1], [2], [3]]</td>\n",
       "      <td>3</td>\n",
       "      <td>C:/Users/DryLab/Desktop/ConVIRT/Dataset/open-i...</td>\n",
       "      <td>clear lungs .trachea is midline .no pneumothor...</td>\n",
       "      <td>[clear lungs .trachea is midline .no, pneumoth...</td>\n",
       "      <td>[midline]</td>\n",
       "      <td>val</td>\n",
       "    </tr>\n",
       "    <tr>\n",
       "      <th>3796</th>\n",
       "      <td>3796</td>\n",
       "      <td>[224, 224]</td>\n",
       "      <td>C:/Users/DryLab/Desktop/ConVIRT/Dataset/open-i...</td>\n",
       "      <td>[[0, 0, 0, 0, 0, 0, 0, 0, 0, 0, 0, 0, 0, 0, 0,...</td>\n",
       "      <td>[[26, 18, 102, 192], [124, 18, 204, 202], [90,...</td>\n",
       "      <td>[[1], [2], [3]]</td>\n",
       "      <td>3</td>\n",
       "      <td>C:/Users/DryLab/Desktop/ConVIRT/Dataset/open-i...</td>\n",
       "      <td>the cardiac silhouette is not enlarged .there ...</td>\n",
       "      <td>[the cardiac silhouette is not enlarged .there...</td>\n",
       "      <td>[density, size]</td>\n",
       "      <td>val</td>\n",
       "    </tr>\n",
       "  </tbody>\n",
       "</table>\n",
       "<p>1985 rows × 12 columns</p>\n",
       "</div>"
      ],
      "text/plain": [
       "      image_id  image_size                                     image_filepath  \\\n",
       "0            0  [224, 224]  C:/Users/DryLab/Desktop/ConVIRT/Dataset/open-i...   \n",
       "1            1  [224, 224]  C:/Users/DryLab/Desktop/ConVIRT/Dataset/open-i...   \n",
       "4            4  [224, 224]  C:/Users/DryLab/Desktop/ConVIRT/Dataset/open-i...   \n",
       "5            5  [224, 224]  C:/Users/DryLab/Desktop/ConVIRT/Dataset/open-i...   \n",
       "8            8  [224, 224]  C:/Users/DryLab/Desktop/ConVIRT/Dataset/open-i...   \n",
       "...        ...         ...                                                ...   \n",
       "3792      3792  [224, 224]  C:/Users/DryLab/Desktop/ConVIRT/Dataset/open-i...   \n",
       "3793      3793  [224, 224]  C:/Users/DryLab/Desktop/ConVIRT/Dataset/open-i...   \n",
       "3794      3794  [224, 224]  C:/Users/DryLab/Desktop/ConVIRT/Dataset/open-i...   \n",
       "3795      3795  [224, 224]  C:/Users/DryLab/Desktop/ConVIRT/Dataset/open-i...   \n",
       "3796      3796  [224, 224]  C:/Users/DryLab/Desktop/ConVIRT/Dataset/open-i...   \n",
       "\n",
       "                                           region_coord  \\\n",
       "0     [[0, 0, 0, 0, 0, 0, 0, 0, 0, 0, 0, 0, 0, 0, 0,...   \n",
       "1     [[0, 0, 0, 0, 0, 0, 0, 0, 0, 0, 0, 0, 0, 0, 0,...   \n",
       "4     [[0, 0, 0, 0, 0, 0, 0, 0, 0, 0, 0, 0, 0, 0, 0,...   \n",
       "5     [[0, 0, 0, 0, 0, 0, 0, 0, 0, 0, 0, 0, 0, 0, 0,...   \n",
       "8     [[0, 0, 0, 0, 0, 0, 0, 0, 0, 0, 0, 0, 0, 0, 0,...   \n",
       "...                                                 ...   \n",
       "3792  [[0, 0, 0, 0, 0, 0, 0, 0, 0, 0, 0, 0, 0, 0, 0,...   \n",
       "3793  [[0, 0, 0, 0, 0, 0, 0, 0, 0, 0, 0, 0, 0, 0, 0,...   \n",
       "3794  [[0, 0, 0, 0, 0, 0, 0, 0, 0, 0, 0, 0, 0, 0, 0,...   \n",
       "3795  [[0, 0, 0, 0, 0, 0, 0, 0, 0, 0, 0, 0, 0, 0, 0,...   \n",
       "3796  [[0, 0, 0, 0, 0, 0, 0, 0, 0, 0, 0, 0, 0, 0, 0,...   \n",
       "\n",
       "                                            region_bbox    region_labels  \\\n",
       "0     [[7, 16, 111, 175], [142, 14, 223, 159], [87, ...  [[1], [2], [3]]   \n",
       "1     [[2, 13, 92, 172], [123, 12, 208, 176], [72, 9...  [[1], [2], [3]]   \n",
       "4     [[17, 26, 92, 174], [117, 21, 213, 180], [78, ...  [[1], [2], [3]]   \n",
       "5     [[16, 25, 102, 178], [126, 25, 203, 183], [85,...  [[1], [2], [3]]   \n",
       "8     [[24, 11, 103, 201], [130, 11, 197, 198], [91,...  [[1], [2], [3]]   \n",
       "...                                                 ...              ...   \n",
       "3792  [[26, 11, 107, 172], [132, 18, 203, 194], [84,...  [[1], [2], [3]]   \n",
       "3793  [[25, 10, 98, 199], [125, 8, 193, 210], [88, 1...  [[1], [2], [3]]   \n",
       "3794  [[24, 1, 93, 158], [124, 2, 196, 185], [85, 76...  [[1], [2], [3]]   \n",
       "3795  [[31, 9, 99, 160], [123, 13, 199, 188], [88, 9...  [[1], [2], [3]]   \n",
       "3796  [[26, 18, 102, 192], [124, 18, 204, 202], [90,...  [[1], [2], [3]]   \n",
       "\n",
       "      num_regions                                      text_filepath  \\\n",
       "0               3  C:/Users/DryLab/Desktop/ConVIRT/Dataset/open-i...   \n",
       "1               3  C:/Users/DryLab/Desktop/ConVIRT/Dataset/open-i...   \n",
       "4               3  C:/Users/DryLab/Desktop/ConVIRT/Dataset/open-i...   \n",
       "5               3  C:/Users/DryLab/Desktop/ConVIRT/Dataset/open-i...   \n",
       "8               3  C:/Users/DryLab/Desktop/ConVIRT/Dataset/open-i...   \n",
       "...           ...                                                ...   \n",
       "3792            3  C:/Users/DryLab/Desktop/ConVIRT/Dataset/open-i...   \n",
       "3793            3  C:/Users/DryLab/Desktop/ConVIRT/Dataset/open-i...   \n",
       "3794            3  C:/Users/DryLab/Desktop/ConVIRT/Dataset/open-i...   \n",
       "3795            3  C:/Users/DryLab/Desktop/ConVIRT/Dataset/open-i...   \n",
       "3796            3  C:/Users/DryLab/Desktop/ConVIRT/Dataset/open-i...   \n",
       "\n",
       "                                                   text  \\\n",
       "0     the cardiac silhouette is within normal limits...   \n",
       "1     the cardiac silhouette is within normal limits...   \n",
       "4     there appears to be air within this which coul...   \n",
       "5     there is no pleural effusion or pneumothorax ....   \n",
       "8     the lungs are clear , without evidence of acut...   \n",
       "...                                                 ...   \n",
       "3792  no focal consolidation , pneumothorax , or ple...   \n",
       "3793  cardiomediastinal silhouette is within normal ...   \n",
       "3794  cardiomediastinal silhouette is within normal ...   \n",
       "3795  clear lungs .trachea is midline .no pneumothor...   \n",
       "3796  the cardiac silhouette is not enlarged .there ...   \n",
       "\n",
       "                                              sentences  \\\n",
       "0     [the cardiac silhouette is within normal limit...   \n",
       "1     [the cardiac silhouette is within normal limit...   \n",
       "4     [there appears to be air within this which cou...   \n",
       "5     [there is no pleural effusion or pneumothorax ...   \n",
       "8     [the lungs are clear , without evidence of acu...   \n",
       "...                                                 ...   \n",
       "3792  [no focal consolidation , pneumothorax , or pl...   \n",
       "3793  [cardiomediastinal silhouette is within normal...   \n",
       "3794  [cardiomediastinal silhouette is within normal...   \n",
       "3795  [clear lungs .trachea is midline .no, pneumoth...   \n",
       "3796  [the cardiac silhouette is not enlarged .there...   \n",
       "\n",
       "                                          attributes  split  \n",
       "0                     [atelectasis, limits, opacity]  train  \n",
       "1                     [atelectasis, limits, opacity]  train  \n",
       "4     [atelectasis, calcification, density, opacity]  train  \n",
       "5                                          [changes]  train  \n",
       "8                                          [changes]  train  \n",
       "...                                              ...    ...  \n",
       "3792                                       [disease]    val  \n",
       "3793                                        [limits]    val  \n",
       "3794                                        [limits]    val  \n",
       "3795                                       [midline]    val  \n",
       "3796                                 [density, size]    val  \n",
       "\n",
       "[1985 rows x 12 columns]"
      ]
     },
     "execution_count": 130,
     "metadata": {},
     "output_type": "execute_result"
    }
   ],
   "source": [
    "df"
   ]
  }
 ],
 "metadata": {
  "kernelspec": {
   "display_name": "venv",
   "language": "python",
   "name": "python3"
  },
  "language_info": {
   "codemirror_mode": {
    "name": "ipython",
    "version": 3
   },
   "file_extension": ".py",
   "mimetype": "text/x-python",
   "name": "python",
   "nbconvert_exporter": "python",
   "pygments_lexer": "ipython3",
   "version": "3.9.19"
  },
  "orig_nbformat": 4
 },
 "nbformat": 4,
 "nbformat_minor": 2
}
